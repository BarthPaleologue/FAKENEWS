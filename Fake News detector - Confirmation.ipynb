{
 "cells": [
  {
   "cell_type": "code",
   "execution_count": 1,
   "metadata": {},
   "outputs": [
    {
     "name": "stderr",
     "output_type": "stream",
     "text": [
      "Using TensorFlow backend.\n"
     ]
    }
   ],
   "source": [
    "import pandas as pd\n",
    "\n",
    "from nltk.corpus import stopwords\n",
    "from sklearn.model_selection import train_test_split\n",
    "from keras.preprocessing.text import Tokenizer\n",
    "from keras.preprocessing.sequence import pad_sequences\n",
    "\n",
    "from keras.models import Sequential\n",
    "from keras.layers import Conv2D, Dropout, Dense, Embedding, Flatten, Reshape\n",
    "from keras.optimizers import Adam"
   ]
  },
  {
   "cell_type": "markdown",
   "metadata": {},
   "source": [
    "<h1>Traitement des données</h1>"
   ]
  },
  {
   "cell_type": "code",
   "execution_count": 15,
   "metadata": {},
   "outputs": [],
   "source": [
    "# chargement des deux tables\n",
    "data = pd.read_csv(\"./dataset2/train.csv\")"
   ]
  },
  {
   "cell_type": "code",
   "execution_count": 16,
   "metadata": {},
   "outputs": [
    {
     "data": {
      "text/html": [
       "<div>\n",
       "<style scoped>\n",
       "    .dataframe tbody tr th:only-of-type {\n",
       "        vertical-align: middle;\n",
       "    }\n",
       "\n",
       "    .dataframe tbody tr th {\n",
       "        vertical-align: top;\n",
       "    }\n",
       "\n",
       "    .dataframe thead th {\n",
       "        text-align: right;\n",
       "    }\n",
       "</style>\n",
       "<table border=\"1\" class=\"dataframe\">\n",
       "  <thead>\n",
       "    <tr style=\"text-align: right;\">\n",
       "      <th></th>\n",
       "      <th>id</th>\n",
       "      <th>title</th>\n",
       "      <th>author</th>\n",
       "      <th>text</th>\n",
       "      <th>label</th>\n",
       "    </tr>\n",
       "  </thead>\n",
       "  <tbody>\n",
       "    <tr>\n",
       "      <th>7593</th>\n",
       "      <td>7593</td>\n",
       "      <td>The Orthodox Nationalist: Albania’s Alliance W...</td>\n",
       "      <td>Sven Longshanks</td>\n",
       "      <td>Radio Aryan October 28, 2016 \\nDr Matthew Raph...</td>\n",
       "      <td>1</td>\n",
       "    </tr>\n",
       "    <tr>\n",
       "      <th>18774</th>\n",
       "      <td>18774</td>\n",
       "      <td>Who rode it best? Jesse Jackson mounts up to f...</td>\n",
       "      <td>Brett T.</td>\n",
       "      <td>Who rode it best? Jesse Jackson mounts up to f...</td>\n",
       "      <td>1</td>\n",
       "    </tr>\n",
       "    <tr>\n",
       "      <th>4103</th>\n",
       "      <td>4103</td>\n",
       "      <td>Game Over: These Guys Are No Longer Big Sports...</td>\n",
       "      <td>Sridhar Pappu</td>\n",
       "      <td>You would be   to find someone more devoted to...</td>\n",
       "      <td>0</td>\n",
       "    </tr>\n",
       "    <tr>\n",
       "      <th>3807</th>\n",
       "      <td>3807</td>\n",
       "      <td>Millions Of Drunk Cubs Fans Rioting In Heaven ...</td>\n",
       "      <td>NaN</td>\n",
       "      <td>Most Hotly Contested Down-Ballot Measures Of 2...</td>\n",
       "      <td>1</td>\n",
       "    </tr>\n",
       "    <tr>\n",
       "      <th>2310</th>\n",
       "      <td>2310</td>\n",
       "      <td>A New Email Investigation on Clinton Could Has...</td>\n",
       "      <td>Daniel Haiphong</td>\n",
       "      <td>20 Shares\\n1 18 0 1\\nThe two-party corporate d...</td>\n",
       "      <td>1</td>\n",
       "    </tr>\n",
       "  </tbody>\n",
       "</table>\n",
       "</div>"
      ],
      "text/plain": [
       "          id                                              title  \\\n",
       "7593    7593  The Orthodox Nationalist: Albania’s Alliance W...   \n",
       "18774  18774  Who rode it best? Jesse Jackson mounts up to f...   \n",
       "4103    4103  Game Over: These Guys Are No Longer Big Sports...   \n",
       "3807    3807  Millions Of Drunk Cubs Fans Rioting In Heaven ...   \n",
       "2310    2310  A New Email Investigation on Clinton Could Has...   \n",
       "\n",
       "                author                                               text  \\\n",
       "7593   Sven Longshanks  Radio Aryan October 28, 2016 \\nDr Matthew Raph...   \n",
       "18774         Brett T.  Who rode it best? Jesse Jackson mounts up to f...   \n",
       "4103     Sridhar Pappu  You would be   to find someone more devoted to...   \n",
       "3807               NaN  Most Hotly Contested Down-Ballot Measures Of 2...   \n",
       "2310   Daniel Haiphong  20 Shares\\n1 18 0 1\\nThe two-party corporate d...   \n",
       "\n",
       "       label  \n",
       "7593       1  \n",
       "18774      1  \n",
       "4103       0  \n",
       "3807       1  \n",
       "2310       1  "
      ]
     },
     "execution_count": 16,
     "metadata": {},
     "output_type": "execute_result"
    }
   ],
   "source": [
    "data.sample(5)"
   ]
  },
  {
   "cell_type": "code",
   "execution_count": 17,
   "metadata": {},
   "outputs": [
    {
     "name": "stdout",
     "output_type": "stream",
     "text": [
      "Nombre de références : 20242\n"
     ]
    }
   ],
   "source": [
    "print(f\"Nombre de références : {data.title.count()}\")"
   ]
  },
  {
   "cell_type": "code",
   "execution_count": 18,
   "metadata": {},
   "outputs": [],
   "source": [
    "# ici on ne s'intéresse qu'au titre et au label\n",
    "del data[\"id\"]\n",
    "del data[\"author\"]\n",
    "del data[\"text\"]"
   ]
  },
  {
   "cell_type": "code",
   "execution_count": 19,
   "metadata": {},
   "outputs": [
    {
     "data": {
      "text/html": [
       "<div>\n",
       "<style scoped>\n",
       "    .dataframe tbody tr th:only-of-type {\n",
       "        vertical-align: middle;\n",
       "    }\n",
       "\n",
       "    .dataframe tbody tr th {\n",
       "        vertical-align: top;\n",
       "    }\n",
       "\n",
       "    .dataframe thead th {\n",
       "        text-align: right;\n",
       "    }\n",
       "</style>\n",
       "<table border=\"1\" class=\"dataframe\">\n",
       "  <thead>\n",
       "    <tr style=\"text-align: right;\">\n",
       "      <th></th>\n",
       "      <th>title</th>\n",
       "      <th>label</th>\n",
       "    </tr>\n",
       "  </thead>\n",
       "  <tbody>\n",
       "    <tr>\n",
       "      <th>16780</th>\n",
       "      <td>Trump’s Blistering Speech at CPAC Follows Bann...</td>\n",
       "      <td>0</td>\n",
       "    </tr>\n",
       "    <tr>\n",
       "      <th>10361</th>\n",
       "      <td>#2820: Clinton 8(a) Pig Farm Servers – Boeing ...</td>\n",
       "      <td>1</td>\n",
       "    </tr>\n",
       "    <tr>\n",
       "      <th>9983</th>\n",
       "      <td>BREAKING: Miami Woman BUSTED On Election Fraud...</td>\n",
       "      <td>1</td>\n",
       "    </tr>\n",
       "    <tr>\n",
       "      <th>12781</th>\n",
       "      <td>Gorsuch, Like Previous Supreme Court Nominees,...</td>\n",
       "      <td>0</td>\n",
       "    </tr>\n",
       "    <tr>\n",
       "      <th>10479</th>\n",
       "      <td>Millions Gather Under Times Square Countdown C...</td>\n",
       "      <td>1</td>\n",
       "    </tr>\n",
       "    <tr>\n",
       "      <th>9355</th>\n",
       "      <td>German Court Convicts Syrian Migrant of Plotti...</td>\n",
       "      <td>0</td>\n",
       "    </tr>\n",
       "    <tr>\n",
       "      <th>1802</th>\n",
       "      <td>It is Legal For Law Enforcement to Use Armed D...</td>\n",
       "      <td>1</td>\n",
       "    </tr>\n",
       "    <tr>\n",
       "      <th>2971</th>\n",
       "      <td>Israel to build new settler homes in Shiloh, d...</td>\n",
       "      <td>1</td>\n",
       "    </tr>\n",
       "    <tr>\n",
       "      <th>16105</th>\n",
       "      <td>News: Possible Voter Suppression? Lots Of Lase...</td>\n",
       "      <td>1</td>\n",
       "    </tr>\n",
       "    <tr>\n",
       "      <th>8833</th>\n",
       "      <td>Mike Pences Plane Slides off Runway at LaGuardia</td>\n",
       "      <td>1</td>\n",
       "    </tr>\n",
       "  </tbody>\n",
       "</table>\n",
       "</div>"
      ],
      "text/plain": [
       "                                                   title  label\n",
       "16780  Trump’s Blistering Speech at CPAC Follows Bann...      0\n",
       "10361  #2820: Clinton 8(a) Pig Farm Servers – Boeing ...      1\n",
       "9983   BREAKING: Miami Woman BUSTED On Election Fraud...      1\n",
       "12781  Gorsuch, Like Previous Supreme Court Nominees,...      0\n",
       "10479  Millions Gather Under Times Square Countdown C...      1\n",
       "9355   German Court Convicts Syrian Migrant of Plotti...      0\n",
       "1802   It is Legal For Law Enforcement to Use Armed D...      1\n",
       "2971   Israel to build new settler homes in Shiloh, d...      1\n",
       "16105  News: Possible Voter Suppression? Lots Of Lase...      1\n",
       "8833    Mike Pences Plane Slides off Runway at LaGuardia      1"
      ]
     },
     "execution_count": 19,
     "metadata": {},
     "output_type": "execute_result"
    }
   ],
   "source": [
    "data.sample(10)"
   ]
  },
  {
   "cell_type": "code",
   "execution_count": 20,
   "metadata": {},
   "outputs": [
    {
     "data": {
      "text/html": [
       "<div>\n",
       "<style scoped>\n",
       "    .dataframe tbody tr th:only-of-type {\n",
       "        vertical-align: middle;\n",
       "    }\n",
       "\n",
       "    .dataframe tbody tr th {\n",
       "        vertical-align: top;\n",
       "    }\n",
       "\n",
       "    .dataframe thead th {\n",
       "        text-align: right;\n",
       "    }\n",
       "</style>\n",
       "<table border=\"1\" class=\"dataframe\">\n",
       "  <thead>\n",
       "    <tr style=\"text-align: right;\">\n",
       "      <th></th>\n",
       "      <th>title</th>\n",
       "      <th>label</th>\n",
       "    </tr>\n",
       "  </thead>\n",
       "  <tbody>\n",
       "    <tr>\n",
       "      <th>9436</th>\n",
       "      <td>Irving Fields Composer Who Infused Songs With ...</td>\n",
       "      <td>0</td>\n",
       "    </tr>\n",
       "    <tr>\n",
       "      <th>1266</th>\n",
       "      <td>YIELD… Funeral Ahead…</td>\n",
       "      <td>1</td>\n",
       "    </tr>\n",
       "    <tr>\n",
       "      <th>1813</th>\n",
       "      <td>Like It Or Not This Election Is A Referendum</td>\n",
       "      <td>1</td>\n",
       "    </tr>\n",
       "    <tr>\n",
       "      <th>6163</th>\n",
       "      <td>US Wrestlers Find They Have Passionate Fans Ir...</td>\n",
       "      <td>0</td>\n",
       "    </tr>\n",
       "    <tr>\n",
       "      <th>17991</th>\n",
       "      <td>Limbaugh Democratic Party Has Become Largest H...</td>\n",
       "      <td>0</td>\n",
       "    </tr>\n",
       "    <tr>\n",
       "      <th>15784</th>\n",
       "      <td>PUTIN WANTS RADICALLY LIBERAL JEWISH BILLIONAI...</td>\n",
       "      <td>1</td>\n",
       "    </tr>\n",
       "    <tr>\n",
       "      <th>3874</th>\n",
       "      <td>Trump Threatens Europes Stability Top Leader W...</td>\n",
       "      <td>0</td>\n",
       "    </tr>\n",
       "    <tr>\n",
       "      <th>9454</th>\n",
       "      <td>Il saoule tout le monde avec son analyse polit...</td>\n",
       "      <td>1</td>\n",
       "    </tr>\n",
       "    <tr>\n",
       "      <th>11023</th>\n",
       "      <td>A Rare Venture Capitalist — Female RetailFocus...</td>\n",
       "      <td>0</td>\n",
       "    </tr>\n",
       "    <tr>\n",
       "      <th>4678</th>\n",
       "      <td>Comment When Good People Share Bad Things — He...</td>\n",
       "      <td>1</td>\n",
       "    </tr>\n",
       "  </tbody>\n",
       "</table>\n",
       "</div>"
      ],
      "text/plain": [
       "                                                   title  label\n",
       "9436   Irving Fields Composer Who Infused Songs With ...      0\n",
       "1266                               YIELD… Funeral Ahead…      1\n",
       "1813        Like It Or Not This Election Is A Referendum      1\n",
       "6163   US Wrestlers Find They Have Passionate Fans Ir...      0\n",
       "17991  Limbaugh Democratic Party Has Become Largest H...      0\n",
       "15784  PUTIN WANTS RADICALLY LIBERAL JEWISH BILLIONAI...      1\n",
       "3874   Trump Threatens Europes Stability Top Leader W...      0\n",
       "9454   Il saoule tout le monde avec son analyse polit...      1\n",
       "11023  A Rare Venture Capitalist — Female RetailFocus...      0\n",
       "4678   Comment When Good People Share Bad Things — He...      1"
      ]
     },
     "execution_count": 20,
     "metadata": {},
     "output_type": "execute_result"
    }
   ],
   "source": [
    "# nettoyage des données (ponctuations)\n",
    "\n",
    "stopWords = set(stopwords.words(\"english\"))\n",
    "\n",
    "def cleanText(text):\n",
    "    forbidden = {\",\",\"@\",\";\",\"/\",\"-\",\":\",\".\",\"!\",\"?\", \"#\",\"\\\"\",\"(\",\")\",\"\\'\",\"’\",\"‘\",\"–\"}\n",
    "    res = str(text)\n",
    "    if res != None:\n",
    "        for elm in forbidden:\n",
    "            res = res.replace(elm, \"\")\n",
    "        res = res.split()\n",
    "        cleaned = []\n",
    "        for word in res:\n",
    "            if not word in stopWords:\n",
    "                cleaned.append(word)\n",
    "        res = \" \".join(cleaned)\n",
    "    return res\n",
    "\n",
    "data[\"title\"] = data[\"title\"].apply(cleanText)\n",
    "\n",
    "data.sample(10)"
   ]
  },
  {
   "cell_type": "code",
   "execution_count": 21,
   "metadata": {},
   "outputs": [
    {
     "name": "stdout",
     "output_type": "stream",
     "text": [
      "Données d'entrainement : 15600\n",
      "Données de test : 5200\n"
     ]
    }
   ],
   "source": [
    "# on sépare les données en données d'entraînement et données de test (80% et 20%)\n",
    "x_train, x_test, y_train, y_test = train_test_split(data[\"title\"], data[\"label\"], test_size=0.25, random_state = 42)\n",
    "print(f\"Données d'entrainement : {len(x_train)}\")\n",
    "print(f\"Données de test : {len(x_test)}\")"
   ]
  },
  {
   "cell_type": "code",
   "execution_count": 22,
   "metadata": {},
   "outputs": [
    {
     "data": {
      "text/plain": [
       "3788     Donald Trumps Secret Weapon Letters Love Flatt...\n",
       "11724    Can Cities Sue Banks Over Predatory Loans Supr...\n",
       "9409     John Carney Economic Indicators Demonstrate Co...\n",
       "1276     So ein Ärger Obama hat über Nacht sämtliche At...\n",
       "14322    Biden Implies Trump Legitimized Hate Speech Ra...\n",
       "                               ...                        \n",
       "11284    TRUMP SUPPORTER GOT NUTS On MSNBC Reporter Cov...\n",
       "11964    Watch Megyn Kelly almost cry air Trump took le...\n",
       "5390     How Pay College With Less Stress The New York ...\n",
       "860               Russian scientists track sea lions space\n",
       "15795    Heseltine strangled dog part Thatcher cabinet ...\n",
       "Name: title, Length: 15600, dtype: object"
      ]
     },
     "execution_count": 22,
     "metadata": {},
     "output_type": "execute_result"
    }
   ],
   "source": [
    "x_train"
   ]
  },
  {
   "cell_type": "code",
   "execution_count": 23,
   "metadata": {},
   "outputs": [],
   "source": [
    "max_features = 10000 # taille max du vocab\n",
    "maxlen = 30 # taille max de séquence"
   ]
  },
  {
   "cell_type": "code",
   "execution_count": 24,
   "metadata": {},
   "outputs": [],
   "source": [
    "# vectorisation naïve en \"one-hot\"\n",
    "tokenizer = Tokenizer(num_words=max_features)\n",
    "tokenizer.fit_on_texts(x_train)"
   ]
  },
  {
   "cell_type": "code",
   "execution_count": 25,
   "metadata": {},
   "outputs": [],
   "source": [
    "# vectorisation des données d'entraînement\n",
    "x_train = tokenizer.texts_to_sequences(x_train)\n",
    "x_train = pad_sequences(x_train, maxlen=maxlen)"
   ]
  },
  {
   "cell_type": "code",
   "execution_count": 26,
   "metadata": {},
   "outputs": [],
   "source": [
    "# vectorisation des données de test\n",
    "x_test = tokenizer.texts_to_sequences(x_test)\n",
    "x_test = pad_sequences(x_test, maxlen=maxlen)"
   ]
  },
  {
   "cell_type": "code",
   "execution_count": 27,
   "metadata": {},
   "outputs": [],
   "source": [
    "batch_size = 256\n",
    "nb_epochs = 20\n",
    "embedded_dim = 100"
   ]
  },
  {
   "cell_type": "code",
   "execution_count": 28,
   "metadata": {},
   "outputs": [
    {
     "name": "stdout",
     "output_type": "stream",
     "text": [
      "Model: \"sequential_1\"\n",
      "_________________________________________________________________\n",
      "Layer (type)                 Output Shape              Param #   \n",
      "=================================================================\n",
      "embedding_1 (Embedding)      (None, 30, 100)           1000000   \n",
      "_________________________________________________________________\n",
      "reshape_1 (Reshape)          (None, 1, 30, 100)        0         \n",
      "_________________________________________________________________\n",
      "conv2d_1 (Conv2D)            (None, 1, 30, 64)         19264     \n",
      "_________________________________________________________________\n",
      "dropout_1 (Dropout)          (None, 1, 30, 64)         0         \n",
      "_________________________________________________________________\n",
      "conv2d_2 (Conv2D)            (None, 1, 30, 32)         6176      \n",
      "_________________________________________________________________\n",
      "flatten_1 (Flatten)          (None, 960)               0         \n",
      "_________________________________________________________________\n",
      "dense_1 (Dense)              (None, 1)                 961       \n",
      "=================================================================\n",
      "Total params: 1,026,401\n",
      "Trainable params: 1,026,401\n",
      "Non-trainable params: 0\n",
      "_________________________________________________________________\n"
     ]
    }
   ],
   "source": [
    "model = Sequential()\n",
    "model.add(Embedding(max_features, output_dim=embedded_dim, input_length=maxlen, trainable=True))\n",
    "model.add(Reshape((1, 30, 100)))\n",
    "model.add(Conv2D(64, (3, 1), padding=\"same\"))\n",
    "model.add(Dropout(0.1))\n",
    "model.add(Conv2D(32, (3, 1), padding=\"same\"))\n",
    "model.add(Flatten())\n",
    "model.add(Dense(1, activation=\"sigmoid\"))\n",
    "model.compile(loss=\"binary_crossentropy\", optimizer=Adam(lr=0.0002), metrics=[\"accuracy\"])\n",
    "model.summary()"
   ]
  },
  {
   "cell_type": "code",
   "execution_count": 29,
   "metadata": {},
   "outputs": [
    {
     "name": "stderr",
     "output_type": "stream",
     "text": [
      "C:\\Users\\Shadow\\AppData\\Roaming\\Python\\Python37\\site-packages\\tensorflow\\python\\framework\\indexed_slices.py:434: UserWarning: Converting sparse IndexedSlices to a dense Tensor of unknown shape. This may consume a large amount of memory.\n",
      "  \"Converting sparse IndexedSlices to a dense Tensor of unknown shape. \"\n"
     ]
    },
    {
     "name": "stdout",
     "output_type": "stream",
     "text": [
      "Train on 15600 samples, validate on 5200 samples\n",
      "Epoch 1/20\n",
      "15600/15600 [==============================] - 2s 130us/step - loss: 0.6707 - accuracy: 0.7410 - val_loss: 0.6327 - val_accuracy: 0.7802\n",
      "Epoch 2/20\n",
      "15600/15600 [==============================] - 0s 31us/step - loss: 0.5458 - accuracy: 0.7753 - val_loss: 0.4443 - val_accuracy: 0.8115\n",
      "Epoch 3/20\n",
      "15600/15600 [==============================] - 0s 31us/step - loss: 0.3464 - accuracy: 0.8632 - val_loss: 0.2800 - val_accuracy: 0.8887\n",
      "Epoch 4/20\n",
      "15600/15600 [==============================] - 0s 31us/step - loss: 0.2058 - accuracy: 0.9310 - val_loss: 0.2045 - val_accuracy: 0.9183\n",
      "Epoch 5/20\n",
      "15600/15600 [==============================] - 0s 32us/step - loss: 0.1358 - accuracy: 0.9531 - val_loss: 0.1767 - val_accuracy: 0.9263\n",
      "Epoch 6/20\n",
      "15600/15600 [==============================] - 0s 31us/step - loss: 0.0980 - accuracy: 0.9683 - val_loss: 0.1695 - val_accuracy: 0.9338\n",
      "Epoch 7/20\n",
      "15600/15600 [==============================] - 0s 32us/step - loss: 0.0729 - accuracy: 0.9773 - val_loss: 0.1683 - val_accuracy: 0.9331\n",
      "Epoch 8/20\n",
      "15600/15600 [==============================] - 1s 32us/step - loss: 0.0552 - accuracy: 0.9848 - val_loss: 0.1721 - val_accuracy: 0.9344\n",
      "Epoch 9/20\n",
      "15600/15600 [==============================] - 0s 32us/step - loss: 0.0414 - accuracy: 0.9899 - val_loss: 0.1800 - val_accuracy: 0.9350\n",
      "Epoch 10/20\n",
      "15600/15600 [==============================] - 0s 31us/step - loss: 0.0312 - accuracy: 0.9933 - val_loss: 0.1860 - val_accuracy: 0.9362\n",
      "Epoch 11/20\n",
      "15600/15600 [==============================] - 0s 31us/step - loss: 0.0238 - accuracy: 0.9956 - val_loss: 0.1951 - val_accuracy: 0.9360\n",
      "Epoch 12/20\n",
      "15600/15600 [==============================] - 0s 31us/step - loss: 0.0180 - accuracy: 0.9972 - val_loss: 0.2097 - val_accuracy: 0.9338\n",
      "Epoch 13/20\n",
      "15600/15600 [==============================] - 0s 31us/step - loss: 0.0138 - accuracy: 0.9981 - val_loss: 0.2140 - val_accuracy: 0.9333\n",
      "Epoch 14/20\n",
      "15600/15600 [==============================] - 0s 32us/step - loss: 0.0109 - accuracy: 0.9989 - val_loss: 0.2240 - val_accuracy: 0.9327\n",
      "Epoch 15/20\n",
      "15600/15600 [==============================] - 0s 31us/step - loss: 0.0085 - accuracy: 0.9992 - val_loss: 0.2323 - val_accuracy: 0.9331\n",
      "Epoch 16/20\n",
      "15600/15600 [==============================] - 0s 31us/step - loss: 0.0068 - accuracy: 0.9994 - val_loss: 0.2448 - val_accuracy: 0.9331\n",
      "Epoch 17/20\n",
      "15600/15600 [==============================] - 0s 32us/step - loss: 0.0054 - accuracy: 0.9994 - val_loss: 0.2513 - val_accuracy: 0.9321\n",
      "Epoch 18/20\n",
      "15600/15600 [==============================] - 0s 31us/step - loss: 0.0045 - accuracy: 0.9997 - val_loss: 0.2582 - val_accuracy: 0.9321\n",
      "Epoch 19/20\n",
      "15600/15600 [==============================] - 0s 31us/step - loss: 0.0037 - accuracy: 0.9997 - val_loss: 0.2654 - val_accuracy: 0.9317\n",
      "Epoch 20/20\n",
      "15600/15600 [==============================] - 0s 31us/step - loss: 0.0030 - accuracy: 0.9997 - val_loss: 0.2741 - val_accuracy: 0.9321\n"
     ]
    }
   ],
   "source": [
    "progress = model.fit(x_train, y_train, batch_size=batch_size, epochs=nb_epochs, validation_data=(x_test, y_test))"
   ]
  },
  {
   "cell_type": "code",
   "execution_count": 30,
   "metadata": {},
   "outputs": [],
   "source": [
    "model.save(\"confirmation.h5\")"
   ]
  },
  {
   "cell_type": "code",
   "execution_count": 31,
   "metadata": {},
   "outputs": [],
   "source": [
    "# art plastique du turfu featuring le poto matplotlib\n",
    "from matplotlib import pyplot as plt"
   ]
  },
  {
   "cell_type": "code",
   "execution_count": 32,
   "metadata": {},
   "outputs": [
    {
     "data": {
      "image/png": "[encoded data removed]",
      "text/plain": [
       "<Figure size 1440x720 with 2 Axes>"
      ]
     },
     "metadata": {
      "needs_background": "light"
     },
     "output_type": "display_data"
    }
   ],
   "source": [
    "figure, ax = plt.subplots(1, 2)\n",
    "figure.set_size_inches(20,10)\n",
    "\n",
    "ax[0].plot(progress.history[\"loss\"])\n",
    "\n",
    "ax[1].plot(progress.history[\"accuracy\"])\n",
    "\n",
    "plt.show()"
   ]
  },
  {
   "cell_type": "code",
   "execution_count": 34,
   "metadata": {},
   "outputs": [],
   "source": [
    "to_predict = data.sample(5)"
   ]
  },
  {
   "cell_type": "code",
   "execution_count": 35,
   "metadata": {},
   "outputs": [
    {
     "data": {
      "text/plain": [
       "8588     Comment FBI Makes Stunning Reversal Reopens Cl...\n",
       "18510    Trump And Clinton Have Both Assembled An Army ...\n",
       "5611     Jury Delivers Guilty Verdict Murder Police Off...\n",
       "12935    Tory Peer Warsi UK Should Forget About About I...\n",
       "14256                                        Master Estate\n",
       "Name: title, dtype: object"
      ]
     },
     "execution_count": 35,
     "metadata": {},
     "output_type": "execute_result"
    }
   ],
   "source": [
    "X_test = to_predict[\"title\"]\n",
    "X_test"
   ]
  },
  {
   "cell_type": "code",
   "execution_count": 36,
   "metadata": {},
   "outputs": [
    {
     "data": {
      "text/plain": [
       "8588     1\n",
       "18510    1\n",
       "5611     0\n",
       "12935    0\n",
       "14256    1\n",
       "Name: label, dtype: int64"
      ]
     },
     "execution_count": 36,
     "metadata": {},
     "output_type": "execute_result"
    }
   ],
   "source": [
    "Y_test = to_predict[\"label\"]\n",
    "Y_test"
   ]
  },
  {
   "cell_type": "code",
   "execution_count": 37,
   "metadata": {},
   "outputs": [
    {
     "data": {
      "text/plain": [
       "array([   0,    0,    0,    0,    0,    0,    0,    0,    0,    0,    0,\n",
       "          0,    0,    0,    0,    0,    0,   52,   44,  286, 2194, 3668,\n",
       "       1646,   10,  128,   20, 4102,    2,  939, 4349])"
      ]
     },
     "execution_count": 37,
     "metadata": {},
     "output_type": "execute_result"
    }
   ],
   "source": [
    "X_test = tokenizer.texts_to_sequences(X_test)\n",
    "X_test = pad_sequences(X_test, maxlen=maxlen)\n",
    "X_test[0]"
   ]
  },
  {
   "cell_type": "code",
   "execution_count": 38,
   "metadata": {},
   "outputs": [
    {
     "data": {
      "text/plain": [
       "array([[9.9999964e-01],\n",
       "       [1.0000000e+00],\n",
       "       [4.4526312e-09],\n",
       "       [1.2228286e-02],\n",
       "       [9.9956292e-01]], dtype=float32)"
      ]
     },
     "execution_count": 38,
     "metadata": {},
     "output_type": "execute_result"
    }
   ],
   "source": [
    "model.predict(X_test)"
   ]
  },
  {
   "cell_type": "code",
   "execution_count": 39,
   "metadata": {},
   "outputs": [
    {
     "data": {
      "text/plain": [
       "array([[   0,    0,    0,    0,    0,    0,    0,    0,    0,    0,    0,\n",
       "           0,    0,    0,    0,    0,    0,   52,   44,  286, 2194, 3668,\n",
       "        1646,   10,  128,   20, 4102,    2,  939, 4349],\n",
       "       [   0,    0,    0,    0,    0,    0,    0,    0,    0,    0,    0,\n",
       "           0,    5,   42,   10,   53,  903, 7164,  183,  537,   18, 3050,\n",
       "           9, 4616, 2496,   42, 3930,    1,   19,  776],\n",
       "       [   0,    0,    0,    0,    0,    0,    0,    0,    0,    0,    0,\n",
       "           0,    0,    0,    0,    0,    0,    0,    0,  980, 2288,  594,\n",
       "        3842,  664,   57,  796,    1,    2,    3,    4],\n",
       "       [   0,    0,    0,    0,    0,    0,    0,    0,    0,    0,    0,\n",
       "           0,    0,    0,    0,    0,    0,    0,    0,    0, 3843,  376,\n",
       "         121, 1942,   41,   41, 6441, 8782, 3719, 1805],\n",
       "       [   0,    0,    0,    0,    0,    0,    0,    0,    0,    0,    0,\n",
       "           0,    0,    0,    0,    0,    0,    0,    0,    0,    0,    0,\n",
       "           0,    0,    0,    0,    0,    0, 4271, 2757]])"
      ]
     },
     "execution_count": 39,
     "metadata": {},
     "output_type": "execute_result"
    }
   ],
   "source": [
    "X_test"
   ]
  },
  {
   "cell_type": "code",
   "execution_count": 65,
   "metadata": {},
   "outputs": [
    {
     "data": {
      "text/html": [
       "<div>\n",
       "<style scoped>\n",
       "    .dataframe tbody tr th:only-of-type {\n",
       "        vertical-align: middle;\n",
       "    }\n",
       "\n",
       "    .dataframe tbody tr th {\n",
       "        vertical-align: top;\n",
       "    }\n",
       "\n",
       "    .dataframe thead th {\n",
       "        text-align: right;\n",
       "    }\n",
       "</style>\n",
       "<table border=\"1\" class=\"dataframe\">\n",
       "  <thead>\n",
       "    <tr style=\"text-align: right;\">\n",
       "      <th></th>\n",
       "      <th>id</th>\n",
       "      <th>title</th>\n",
       "      <th>author</th>\n",
       "      <th>text</th>\n",
       "    </tr>\n",
       "  </thead>\n",
       "  <tbody>\n",
       "    <tr>\n",
       "      <th>4422</th>\n",
       "      <td>25222</td>\n",
       "      <td>BREAKING: CLINTON CLEARED...Was This A Coordin...</td>\n",
       "      <td>Fed Up</td>\n",
       "      <td>\\nLimbaugh said that the revelations in the Wi...</td>\n",
       "    </tr>\n",
       "    <tr>\n",
       "      <th>4536</th>\n",
       "      <td>25336</td>\n",
       "      <td>Johnson &amp; Johnson Ordered To Pay $72 Million I...</td>\n",
       "      <td>Collective Evolution</td>\n",
       "      <td>\\nThis is one out of several cases raising c...</td>\n",
       "    </tr>\n",
       "    <tr>\n",
       "      <th>3915</th>\n",
       "      <td>24715</td>\n",
       "      <td>France Closes 4 Mosques for Promoting ‘Radical...</td>\n",
       "      <td>Henry Wolff</td>\n",
       "      <td>France Closes 4 Mosques for Promoting ‘Radical...</td>\n",
       "    </tr>\n",
       "    <tr>\n",
       "      <th>2758</th>\n",
       "      <td>23558</td>\n",
       "      <td>Silver Signals The Flight To Real Safety Is On...</td>\n",
       "      <td>The Doc</td>\n",
       "      <td>Tweet Home » Silver » Silver News » Silver Sig...</td>\n",
       "    </tr>\n",
       "    <tr>\n",
       "      <th>4124</th>\n",
       "      <td>24924</td>\n",
       "      <td>Hafiz Saeed and Geelani to dress up as mime ar...</td>\n",
       "      <td>Citizen Satirist</td>\n",
       "      <td>Hafiz Saeed and Geelani to dress up as mime ar...</td>\n",
       "    </tr>\n",
       "    <tr>\n",
       "      <th>2367</th>\n",
       "      <td>23167</td>\n",
       "      <td>Allen West Reveals How Obama’s Pentagon Just D...</td>\n",
       "      <td>V Saxena</td>\n",
       "      <td>UNREAL: Calif. Soldiers Billed for Thousands A...</td>\n",
       "    </tr>\n",
       "    <tr>\n",
       "      <th>4430</th>\n",
       "      <td>25230</td>\n",
       "      <td>Van Jones at University of Chicago: Safe Space...</td>\n",
       "      <td>Tom Ciccotta</td>\n",
       "      <td>Speaking at the University of Chicago Institut...</td>\n",
       "    </tr>\n",
       "    <tr>\n",
       "      <th>789</th>\n",
       "      <td>21589</td>\n",
       "      <td>Light Sentence for Brock Turner in Stanford Ra...</td>\n",
       "      <td>Liam Stack</td>\n",
       "      <td>A recall effort against a California judge was...</td>\n",
       "    </tr>\n",
       "    <tr>\n",
       "      <th>449</th>\n",
       "      <td>21249</td>\n",
       "      <td>Devin Nunes: Trump and Transition Team Members...</td>\n",
       "      <td>Michelle Moons</td>\n",
       "      <td>House Intelligence Committee Chair Rep. Devin ...</td>\n",
       "    </tr>\n",
       "    <tr>\n",
       "      <th>5063</th>\n",
       "      <td>25863</td>\n",
       "      <td>Customizing Truth</td>\n",
       "      <td>NaN</td>\n",
       "      <td>License DMCA Part I -- Liars For those who mig...</td>\n",
       "    </tr>\n",
       "  </tbody>\n",
       "</table>\n",
       "</div>"
      ],
      "text/plain": [
       "         id                                              title  \\\n",
       "4422  25222  BREAKING: CLINTON CLEARED...Was This A Coordin...   \n",
       "4536  25336  Johnson & Johnson Ordered To Pay $72 Million I...   \n",
       "3915  24715  France Closes 4 Mosques for Promoting ‘Radical...   \n",
       "2758  23558  Silver Signals The Flight To Real Safety Is On...   \n",
       "4124  24924  Hafiz Saeed and Geelani to dress up as mime ar...   \n",
       "2367  23167  Allen West Reveals How Obama’s Pentagon Just D...   \n",
       "4430  25230  Van Jones at University of Chicago: Safe Space...   \n",
       "789   21589  Light Sentence for Brock Turner in Stanford Ra...   \n",
       "449   21249  Devin Nunes: Trump and Transition Team Members...   \n",
       "5063  25863                                  Customizing Truth   \n",
       "\n",
       "                    author                                               text  \n",
       "4422                Fed Up  \\nLimbaugh said that the revelations in the Wi...  \n",
       "4536  Collective Evolution    \\nThis is one out of several cases raising c...  \n",
       "3915           Henry Wolff  France Closes 4 Mosques for Promoting ‘Radical...  \n",
       "2758               The Doc  Tweet Home » Silver » Silver News » Silver Sig...  \n",
       "4124      Citizen Satirist  Hafiz Saeed and Geelani to dress up as mime ar...  \n",
       "2367              V Saxena  UNREAL: Calif. Soldiers Billed for Thousands A...  \n",
       "4430          Tom Ciccotta  Speaking at the University of Chicago Institut...  \n",
       "789             Liam Stack  A recall effort against a California judge was...  \n",
       "449         Michelle Moons  House Intelligence Committee Chair Rep. Devin ...  \n",
       "5063                   NaN  License DMCA Part I -- Liars For those who mig...  "
      ]
     },
     "execution_count": 65,
     "metadata": {},
     "output_type": "execute_result"
    }
   ],
   "source": [
    "test_data = pd.read_csv(\"./dataset2/test.csv\")\n",
    "test_data.sample(10)"
   ]
  },
  {
   "cell_type": "code",
   "execution_count": 66,
   "metadata": {},
   "outputs": [
    {
     "data": {
      "text/html": [
       "<div>\n",
       "<style scoped>\n",
       "    .dataframe tbody tr th:only-of-type {\n",
       "        vertical-align: middle;\n",
       "    }\n",
       "\n",
       "    .dataframe tbody tr th {\n",
       "        vertical-align: top;\n",
       "    }\n",
       "\n",
       "    .dataframe thead th {\n",
       "        text-align: right;\n",
       "    }\n",
       "</style>\n",
       "<table border=\"1\" class=\"dataframe\">\n",
       "  <thead>\n",
       "    <tr style=\"text-align: right;\">\n",
       "      <th></th>\n",
       "      <th>id</th>\n",
       "      <th>title</th>\n",
       "    </tr>\n",
       "  </thead>\n",
       "  <tbody>\n",
       "    <tr>\n",
       "      <th>889</th>\n",
       "      <td>21689</td>\n",
       "      <td>Iraqis in Mosul Find US Missiles at Captured I...</td>\n",
       "    </tr>\n",
       "    <tr>\n",
       "      <th>4574</th>\n",
       "      <td>25374</td>\n",
       "      <td>Coulter on Kathy Griffin: Victims Are the Bigg...</td>\n",
       "    </tr>\n",
       "    <tr>\n",
       "      <th>3330</th>\n",
       "      <td>24130</td>\n",
       "      <td>Fact Check: Democrats Have Created Twice As Ma...</td>\n",
       "    </tr>\n",
       "    <tr>\n",
       "      <th>2019</th>\n",
       "      <td>22819</td>\n",
       "      <td>Trump's Wall Might Only Be a Fence in Some Are...</td>\n",
       "    </tr>\n",
       "    <tr>\n",
       "      <th>745</th>\n",
       "      <td>21545</td>\n",
       "      <td>McClatchy: Breitbart’s Aaron Klein Leads Influ...</td>\n",
       "    </tr>\n",
       "    <tr>\n",
       "      <th>4496</th>\n",
       "      <td>25296</td>\n",
       "      <td>Anthony Weiner SEX Hoax? Hillary Stunt To Rig ...</td>\n",
       "    </tr>\n",
       "    <tr>\n",
       "      <th>558</th>\n",
       "      <td>21358</td>\n",
       "      <td>The Humiliating Practice of Sex-Testing Female...</td>\n",
       "    </tr>\n",
       "    <tr>\n",
       "      <th>3445</th>\n",
       "      <td>24245</td>\n",
       "      <td>Paul McCartney Sues to Get Back His Beatles So...</td>\n",
       "    </tr>\n",
       "    <tr>\n",
       "      <th>3007</th>\n",
       "      <td>23807</td>\n",
       "      <td>Watch: More Car Mayhem in ’Fate of the Furious...</td>\n",
       "    </tr>\n",
       "    <tr>\n",
       "      <th>1095</th>\n",
       "      <td>21895</td>\n",
       "      <td>Federation of Greek Women: statement on the vi...</td>\n",
       "    </tr>\n",
       "  </tbody>\n",
       "</table>\n",
       "</div>"
      ],
      "text/plain": [
       "         id                                              title\n",
       "889   21689  Iraqis in Mosul Find US Missiles at Captured I...\n",
       "4574  25374  Coulter on Kathy Griffin: Victims Are the Bigg...\n",
       "3330  24130  Fact Check: Democrats Have Created Twice As Ma...\n",
       "2019  22819  Trump's Wall Might Only Be a Fence in Some Are...\n",
       "745   21545  McClatchy: Breitbart’s Aaron Klein Leads Influ...\n",
       "4496  25296  Anthony Weiner SEX Hoax? Hillary Stunt To Rig ...\n",
       "558   21358  The Humiliating Practice of Sex-Testing Female...\n",
       "3445  24245  Paul McCartney Sues to Get Back His Beatles So...\n",
       "3007  23807  Watch: More Car Mayhem in ’Fate of the Furious...\n",
       "1095  21895  Federation of Greek Women: statement on the vi..."
      ]
     },
     "execution_count": 66,
     "metadata": {},
     "output_type": "execute_result"
    }
   ],
   "source": [
    "del test_data[\"author\"]\n",
    "del test_data[\"text\"]\n",
    "test_data.sample(10)"
   ]
  },
  {
   "cell_type": "code",
   "execution_count": 67,
   "metadata": {},
   "outputs": [
    {
     "data": {
      "text/html": [
       "<div>\n",
       "<style scoped>\n",
       "    .dataframe tbody tr th:only-of-type {\n",
       "        vertical-align: middle;\n",
       "    }\n",
       "\n",
       "    .dataframe tbody tr th {\n",
       "        vertical-align: top;\n",
       "    }\n",
       "\n",
       "    .dataframe thead th {\n",
       "        text-align: right;\n",
       "    }\n",
       "</style>\n",
       "<table border=\"1\" class=\"dataframe\">\n",
       "  <thead>\n",
       "    <tr style=\"text-align: right;\">\n",
       "      <th></th>\n",
       "      <th>id</th>\n",
       "      <th>title</th>\n",
       "    </tr>\n",
       "  </thead>\n",
       "  <tbody>\n",
       "    <tr>\n",
       "      <th>4987</th>\n",
       "      <td>25787</td>\n",
       "      <td>Flashback Clinton cheered 11thhour indictment ...</td>\n",
       "    </tr>\n",
       "    <tr>\n",
       "      <th>3078</th>\n",
       "      <td>23878</td>\n",
       "      <td>FBI debunks Hillarys Conspiracy Theory Trump N...</td>\n",
       "    </tr>\n",
       "    <tr>\n",
       "      <th>3642</th>\n",
       "      <td>24442</td>\n",
       "      <td>The Legacy David Letterman Icon Grizzled Gener...</td>\n",
       "    </tr>\n",
       "    <tr>\n",
       "      <th>4125</th>\n",
       "      <td>24925</td>\n",
       "      <td>Powerful Docudrama The Hidden Rebellion Expose...</td>\n",
       "    </tr>\n",
       "    <tr>\n",
       "      <th>1224</th>\n",
       "      <td>22024</td>\n",
       "      <td>Greys Anatomy Star Jesse Williams Trump Pig</td>\n",
       "    </tr>\n",
       "    <tr>\n",
       "      <th>112</th>\n",
       "      <td>20912</td>\n",
       "      <td>POLLAK Adm Mike Mullens Partisan Attack Steve ...</td>\n",
       "    </tr>\n",
       "    <tr>\n",
       "      <th>3726</th>\n",
       "      <td>24526</td>\n",
       "      <td>What Rembrandt Did Teenager 4 His Sense Works ...</td>\n",
       "    </tr>\n",
       "    <tr>\n",
       "      <th>2368</th>\n",
       "      <td>23168</td>\n",
       "      <td>Bricklayers rejoice</td>\n",
       "    </tr>\n",
       "    <tr>\n",
       "      <th>403</th>\n",
       "      <td>21203</td>\n",
       "      <td>Feds Establish Support Program Victims Crimina...</td>\n",
       "    </tr>\n",
       "    <tr>\n",
       "      <th>2435</th>\n",
       "      <td>23235</td>\n",
       "      <td>Its Not Broken So Lets Break It“California Set...</td>\n",
       "    </tr>\n",
       "  </tbody>\n",
       "</table>\n",
       "</div>"
      ],
      "text/plain": [
       "         id                                              title\n",
       "4987  25787  Flashback Clinton cheered 11thhour indictment ...\n",
       "3078  23878  FBI debunks Hillarys Conspiracy Theory Trump N...\n",
       "3642  24442  The Legacy David Letterman Icon Grizzled Gener...\n",
       "4125  24925  Powerful Docudrama The Hidden Rebellion Expose...\n",
       "1224  22024        Greys Anatomy Star Jesse Williams Trump Pig\n",
       "112   20912  POLLAK Adm Mike Mullens Partisan Attack Steve ...\n",
       "3726  24526  What Rembrandt Did Teenager 4 His Sense Works ...\n",
       "2368  23168                                Bricklayers rejoice\n",
       "403   21203  Feds Establish Support Program Victims Crimina...\n",
       "2435  23235  Its Not Broken So Lets Break It“California Set..."
      ]
     },
     "execution_count": 67,
     "metadata": {},
     "output_type": "execute_result"
    }
   ],
   "source": [
    "test_data[\"title\"] = test_data[\"title\"].apply(cleanText)\n",
    "test_data.sample(10)"
   ]
  },
  {
   "cell_type": "code",
   "execution_count": 68,
   "metadata": {},
   "outputs": [],
   "source": [
    "import numpy as np\n",
    "\n",
    "x_confirm = tokenizer.texts_to_sequences(test_data[\"title\"])\n",
    "x_confirm = pad_sequences(x_confirm, maxlen=maxlen)\n",
    "labels = np.round(model.predict(x_confirm)).astype(\"int\")"
   ]
  },
  {
   "cell_type": "code",
   "execution_count": 69,
   "metadata": {},
   "outputs": [],
   "source": [
    "del test_data[\"title\"]"
   ]
  },
  {
   "cell_type": "code",
   "execution_count": 70,
   "metadata": {},
   "outputs": [
    {
     "data": {
      "text/html": [
       "<div>\n",
       "<style scoped>\n",
       "    .dataframe tbody tr th:only-of-type {\n",
       "        vertical-align: middle;\n",
       "    }\n",
       "\n",
       "    .dataframe tbody tr th {\n",
       "        vertical-align: top;\n",
       "    }\n",
       "\n",
       "    .dataframe thead th {\n",
       "        text-align: right;\n",
       "    }\n",
       "</style>\n",
       "<table border=\"1\" class=\"dataframe\">\n",
       "  <thead>\n",
       "    <tr style=\"text-align: right;\">\n",
       "      <th></th>\n",
       "      <th>id</th>\n",
       "      <th>label</th>\n",
       "    </tr>\n",
       "  </thead>\n",
       "  <tbody>\n",
       "    <tr>\n",
       "      <th>219</th>\n",
       "      <td>21019</td>\n",
       "      <td>1</td>\n",
       "    </tr>\n",
       "    <tr>\n",
       "      <th>2660</th>\n",
       "      <td>23460</td>\n",
       "      <td>1</td>\n",
       "    </tr>\n",
       "    <tr>\n",
       "      <th>4984</th>\n",
       "      <td>25784</td>\n",
       "      <td>0</td>\n",
       "    </tr>\n",
       "    <tr>\n",
       "      <th>1642</th>\n",
       "      <td>22442</td>\n",
       "      <td>1</td>\n",
       "    </tr>\n",
       "    <tr>\n",
       "      <th>2699</th>\n",
       "      <td>23499</td>\n",
       "      <td>0</td>\n",
       "    </tr>\n",
       "    <tr>\n",
       "      <th>4548</th>\n",
       "      <td>25348</td>\n",
       "      <td>0</td>\n",
       "    </tr>\n",
       "    <tr>\n",
       "      <th>3784</th>\n",
       "      <td>24584</td>\n",
       "      <td>1</td>\n",
       "    </tr>\n",
       "    <tr>\n",
       "      <th>305</th>\n",
       "      <td>21105</td>\n",
       "      <td>1</td>\n",
       "    </tr>\n",
       "    <tr>\n",
       "      <th>4366</th>\n",
       "      <td>25166</td>\n",
       "      <td>0</td>\n",
       "    </tr>\n",
       "    <tr>\n",
       "      <th>1647</th>\n",
       "      <td>22447</td>\n",
       "      <td>1</td>\n",
       "    </tr>\n",
       "  </tbody>\n",
       "</table>\n",
       "</div>"
      ],
      "text/plain": [
       "         id  label\n",
       "219   21019      1\n",
       "2660  23460      1\n",
       "4984  25784      0\n",
       "1642  22442      1\n",
       "2699  23499      0\n",
       "4548  25348      0\n",
       "3784  24584      1\n",
       "305   21105      1\n",
       "4366  25166      0\n",
       "1647  22447      1"
      ]
     },
     "execution_count": 70,
     "metadata": {},
     "output_type": "execute_result"
    }
   ],
   "source": [
    "test_data[\"label\"] = labels\n",
    "test_data.sample(10)"
   ]
  },
  {
   "cell_type": "code",
   "execution_count": 71,
   "metadata": {},
   "outputs": [],
   "source": [
    "test_data.to_csv(\"submission.csv\", index=False)"
   ]
  },
  {
   "cell_type": "code",
   "execution_count": null,
   "metadata": {},
   "outputs": [],
   "source": []
  }
 ],
 "metadata": {
  "kernelspec": {
   "display_name": "Python 3",
   "language": "python",
   "name": "python3"
  },
  "language_info": {
   "codemirror_mode": {
    "name": "ipython",
    "version": 3
   },
   "file_extension": ".py",
   "mimetype": "text/x-python",
   "name": "python",
   "nbconvert_exporter": "python",
   "pygments_lexer": "ipython3",
   "version": "3.7.7"
  }
 },
 "nbformat": 4,
 "nbformat_minor": 4
}
