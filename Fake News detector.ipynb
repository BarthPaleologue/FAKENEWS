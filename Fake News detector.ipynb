{
 "cells": [
  {
   "cell_type": "code",
   "execution_count": 1,
   "metadata": {},
   "outputs": [
    {
     "name": "stderr",
     "output_type": "stream",
     "text": [
      "Using TensorFlow backend.\n"
     ]
    }
   ],
   "source": [
    "import pandas as pd\n",
    "\n",
    "from nltk.corpus import stopwords\n",
    "from sklearn.model_selection import train_test_split\n",
    "from keras.preprocessing.text import Tokenizer\n",
    "from keras.preprocessing.sequence import pad_sequences\n",
    "\n",
    "from keras.models import Sequential\n",
    "from keras.layers import Conv2D, Dropout, Dense, Embedding, Flatten, Reshape\n",
    "from keras.optimizers import Adam"
   ]
  },
  {
   "cell_type": "markdown",
   "metadata": {},
   "source": [
    "<h1>Traitement des données</h1>"
   ]
  },
  {
   "cell_type": "code",
   "execution_count": 2,
   "metadata": {},
   "outputs": [],
   "source": [
    "# chargement des deux tables\n",
    "real_news = pd.read_csv(\"./dataset1/True.csv\")\n",
    "fake_news = pd.read_csv(\"./dataset1/Fake.csv\")"
   ]
  },
  {
   "cell_type": "code",
   "execution_count": 3,
   "metadata": {},
   "outputs": [],
   "source": [
    "# vrai = 1, faux = 0\n",
    "real_news[\"label\"] = 1\n",
    "fake_news[\"label\"] = 0"
   ]
  },
  {
   "cell_type": "code",
   "execution_count": 4,
   "metadata": {},
   "outputs": [
    {
     "data": {
      "text/html": [
       "<div>\n",
       "<style scoped>\n",
       "    .dataframe tbody tr th:only-of-type {\n",
       "        vertical-align: middle;\n",
       "    }\n",
       "\n",
       "    .dataframe tbody tr th {\n",
       "        vertical-align: top;\n",
       "    }\n",
       "\n",
       "    .dataframe thead th {\n",
       "        text-align: right;\n",
       "    }\n",
       "</style>\n",
       "<table border=\"1\" class=\"dataframe\">\n",
       "  <thead>\n",
       "    <tr style=\"text-align: right;\">\n",
       "      <th></th>\n",
       "      <th>title</th>\n",
       "      <th>text</th>\n",
       "      <th>subject</th>\n",
       "      <th>date</th>\n",
       "      <th>label</th>\n",
       "    </tr>\n",
       "  </thead>\n",
       "  <tbody>\n",
       "    <tr>\n",
       "      <th>19536</th>\n",
       "      <td>Brazil Supreme Court sends new Temer graft cha...</td>\n",
       "      <td>BRASILIA (Reuters) - A majority of the judges ...</td>\n",
       "      <td>worldnews</td>\n",
       "      <td>September 20, 2017</td>\n",
       "      <td>1</td>\n",
       "    </tr>\n",
       "    <tr>\n",
       "      <th>11778</th>\n",
       "      <td>South Africa's ANC calls for nationalizing cen...</td>\n",
       "      <td>JOHANNESBURG (Reuters) - South Africa s ruling...</td>\n",
       "      <td>worldnews</td>\n",
       "      <td>December 20, 2017</td>\n",
       "      <td>1</td>\n",
       "    </tr>\n",
       "    <tr>\n",
       "      <th>11705</th>\n",
       "      <td>Turkish banker makes second bid for mistrial i...</td>\n",
       "      <td>NEW YORK (Reuters) - Lawyers for an executive ...</td>\n",
       "      <td>worldnews</td>\n",
       "      <td>December 20, 2017</td>\n",
       "      <td>1</td>\n",
       "    </tr>\n",
       "    <tr>\n",
       "      <th>3319</th>\n",
       "      <td>Text: Ex-FBI Director Comey's prepared testimo...</td>\n",
       "      <td>(Reuters) - Following is the full text of form...</td>\n",
       "      <td>politicsNews</td>\n",
       "      <td>June 7, 2017</td>\n",
       "      <td>1</td>\n",
       "    </tr>\n",
       "    <tr>\n",
       "      <th>16497</th>\n",
       "      <td>Islamic State claims deadly attack on Libyan c...</td>\n",
       "      <td>BENGHAZI, Libya (Reuters) - Two soldiers were ...</td>\n",
       "      <td>worldnews</td>\n",
       "      <td>October 25, 2017</td>\n",
       "      <td>1</td>\n",
       "    </tr>\n",
       "  </tbody>\n",
       "</table>\n",
       "</div>"
      ],
      "text/plain": [
       "                                                   title  \\\n",
       "19536  Brazil Supreme Court sends new Temer graft cha...   \n",
       "11778  South Africa's ANC calls for nationalizing cen...   \n",
       "11705  Turkish banker makes second bid for mistrial i...   \n",
       "3319   Text: Ex-FBI Director Comey's prepared testimo...   \n",
       "16497  Islamic State claims deadly attack on Libyan c...   \n",
       "\n",
       "                                                    text       subject  \\\n",
       "19536  BRASILIA (Reuters) - A majority of the judges ...     worldnews   \n",
       "11778  JOHANNESBURG (Reuters) - South Africa s ruling...     worldnews   \n",
       "11705  NEW YORK (Reuters) - Lawyers for an executive ...     worldnews   \n",
       "3319   (Reuters) - Following is the full text of form...  politicsNews   \n",
       "16497  BENGHAZI, Libya (Reuters) - Two soldiers were ...     worldnews   \n",
       "\n",
       "                      date  label  \n",
       "19536  September 20, 2017       1  \n",
       "11778   December 20, 2017       1  \n",
       "11705   December 20, 2017       1  \n",
       "3319         June 7, 2017       1  \n",
       "16497    October 25, 2017       1  "
      ]
     },
     "execution_count": 4,
     "metadata": {},
     "output_type": "execute_result"
    }
   ],
   "source": [
    "real_news.sample(5)"
   ]
  },
  {
   "cell_type": "code",
   "execution_count": 5,
   "metadata": {},
   "outputs": [
    {
     "data": {
      "text/html": [
       "<div>\n",
       "<style scoped>\n",
       "    .dataframe tbody tr th:only-of-type {\n",
       "        vertical-align: middle;\n",
       "    }\n",
       "\n",
       "    .dataframe tbody tr th {\n",
       "        vertical-align: top;\n",
       "    }\n",
       "\n",
       "    .dataframe thead th {\n",
       "        text-align: right;\n",
       "    }\n",
       "</style>\n",
       "<table border=\"1\" class=\"dataframe\">\n",
       "  <thead>\n",
       "    <tr style=\"text-align: right;\">\n",
       "      <th></th>\n",
       "      <th>title</th>\n",
       "      <th>text</th>\n",
       "      <th>subject</th>\n",
       "      <th>date</th>\n",
       "      <th>label</th>\n",
       "    </tr>\n",
       "  </thead>\n",
       "  <tbody>\n",
       "    <tr>\n",
       "      <th>22020</th>\n",
       "      <td>SYRIA, NORTH KOREA: Trump’s “Axis of Evil” is ...</td>\n",
       "      <td>Whitney Webb Mint PressBush s  Axis of Evil  s...</td>\n",
       "      <td>US_News</td>\n",
       "      <td>August 25, 2017</td>\n",
       "      <td>0</td>\n",
       "    </tr>\n",
       "    <tr>\n",
       "      <th>7137</th>\n",
       "      <td>Rosie O’Donnell Writes Powerful Poem That Per...</td>\n",
       "      <td>If anyone knows what it s like to be attacked ...</td>\n",
       "      <td>News</td>\n",
       "      <td>April 2, 2016</td>\n",
       "      <td>0</td>\n",
       "    </tr>\n",
       "    <tr>\n",
       "      <th>19667</th>\n",
       "      <td>3 PEOPLE LINE UP TO SEE Tim Kaine Speak In A C...</td>\n",
       "      <td>The only way Hillary and Tim Kaine can win thi...</td>\n",
       "      <td>left-news</td>\n",
       "      <td>Nov 6, 2016</td>\n",
       "      <td>0</td>\n",
       "    </tr>\n",
       "    <tr>\n",
       "      <th>18461</th>\n",
       "      <td>RATINGS FOR NBC’S Backstabbing Megyn Kelly Are...</td>\n",
       "      <td>Last week, Alex Jones scooped NBC and Megyn Ke...</td>\n",
       "      <td>left-news</td>\n",
       "      <td>Jun 19, 2017</td>\n",
       "      <td>0</td>\n",
       "    </tr>\n",
       "    <tr>\n",
       "      <th>20877</th>\n",
       "      <td>WHY IS THE MEDIA HIDING Dangerous Evidence Abo...</td>\n",
       "      <td>100% FED Up! was able to easily find evidence ...</td>\n",
       "      <td>left-news</td>\n",
       "      <td>Mar 14, 2016</td>\n",
       "      <td>0</td>\n",
       "    </tr>\n",
       "  </tbody>\n",
       "</table>\n",
       "</div>"
      ],
      "text/plain": [
       "                                                   title  \\\n",
       "22020  SYRIA, NORTH KOREA: Trump’s “Axis of Evil” is ...   \n",
       "7137    Rosie O’Donnell Writes Powerful Poem That Per...   \n",
       "19667  3 PEOPLE LINE UP TO SEE Tim Kaine Speak In A C...   \n",
       "18461  RATINGS FOR NBC’S Backstabbing Megyn Kelly Are...   \n",
       "20877  WHY IS THE MEDIA HIDING Dangerous Evidence Abo...   \n",
       "\n",
       "                                                    text    subject  \\\n",
       "22020  Whitney Webb Mint PressBush s  Axis of Evil  s...    US_News   \n",
       "7137   If anyone knows what it s like to be attacked ...       News   \n",
       "19667  The only way Hillary and Tim Kaine can win thi...  left-news   \n",
       "18461  Last week, Alex Jones scooped NBC and Megyn Ke...  left-news   \n",
       "20877  100% FED Up! was able to easily find evidence ...  left-news   \n",
       "\n",
       "                  date  label  \n",
       "22020  August 25, 2017      0  \n",
       "7137     April 2, 2016      0  \n",
       "19667      Nov 6, 2016      0  \n",
       "18461     Jun 19, 2017      0  \n",
       "20877     Mar 14, 2016      0  "
      ]
     },
     "execution_count": 5,
     "metadata": {},
     "output_type": "execute_result"
    }
   ],
   "source": [
    "fake_news.sample(5)"
   ]
  },
  {
   "cell_type": "code",
   "execution_count": 6,
   "metadata": {},
   "outputs": [
    {
     "data": {
      "text/html": [
       "<div>\n",
       "<style scoped>\n",
       "    .dataframe tbody tr th:only-of-type {\n",
       "        vertical-align: middle;\n",
       "    }\n",
       "\n",
       "    .dataframe tbody tr th {\n",
       "        vertical-align: top;\n",
       "    }\n",
       "\n",
       "    .dataframe thead th {\n",
       "        text-align: right;\n",
       "    }\n",
       "</style>\n",
       "<table border=\"1\" class=\"dataframe\">\n",
       "  <thead>\n",
       "    <tr style=\"text-align: right;\">\n",
       "      <th></th>\n",
       "      <th>title</th>\n",
       "      <th>text</th>\n",
       "      <th>subject</th>\n",
       "      <th>date</th>\n",
       "      <th>label</th>\n",
       "    </tr>\n",
       "  </thead>\n",
       "  <tbody>\n",
       "    <tr>\n",
       "      <th>20362</th>\n",
       "      <td>FACE BOOK’S “Open-Borders” MARK ZUCKERBERG Bui...</td>\n",
       "      <td>Breitbart News published a story about our 100...</td>\n",
       "      <td>left-news</td>\n",
       "      <td>Jun 27, 2016</td>\n",
       "      <td>0</td>\n",
       "    </tr>\n",
       "    <tr>\n",
       "      <th>20043</th>\n",
       "      <td>ONE HEART-BEAT AWAY…JOE BIDEN: It’s ‘OK Someti...</td>\n",
       "      <td>Does anyone else get the sense Biden was picke...</td>\n",
       "      <td>left-news</td>\n",
       "      <td>Sep 1, 2016</td>\n",
       "      <td>0</td>\n",
       "    </tr>\n",
       "    <tr>\n",
       "      <th>3857</th>\n",
       "      <td>WATCH: White Trump Voter Tells Fox That Presi...</td>\n",
       "      <td>These deplorable people are just incapable of ...</td>\n",
       "      <td>News</td>\n",
       "      <td>November 10, 2016</td>\n",
       "      <td>0</td>\n",
       "    </tr>\n",
       "    <tr>\n",
       "      <th>20298</th>\n",
       "      <td>DETROIT COP UNDER FIRE FOR FACEBOOK POST: “The...</td>\n",
       "      <td>If this cop s comments were in lock-step with ...</td>\n",
       "      <td>left-news</td>\n",
       "      <td>Jul 11, 2016</td>\n",
       "      <td>0</td>\n",
       "    </tr>\n",
       "    <tr>\n",
       "      <th>14953</th>\n",
       "      <td>Europe, Africa ministers agree to help migrant...</td>\n",
       "      <td>BERN (Reuters) - European and African minister...</td>\n",
       "      <td>worldnews</td>\n",
       "      <td>November 13, 2017</td>\n",
       "      <td>1</td>\n",
       "    </tr>\n",
       "    <tr>\n",
       "      <th>10367</th>\n",
       "      <td>THE GEORGE COSTANZA OF CNN Destroyed On His Ow...</td>\n",
       "      <td>CNN Host Brian Stelter was destroyed by former...</td>\n",
       "      <td>politics</td>\n",
       "      <td>Jul 18, 2017</td>\n",
       "      <td>0</td>\n",
       "    </tr>\n",
       "    <tr>\n",
       "      <th>21111</th>\n",
       "      <td>AUSTRIAN PARENTS AND TEACHERS Sacrifice Young ...</td>\n",
       "      <td>Anyone up for a European vacation? How about s...</td>\n",
       "      <td>left-news</td>\n",
       "      <td>Jan 16, 2016</td>\n",
       "      <td>0</td>\n",
       "    </tr>\n",
       "    <tr>\n",
       "      <th>19156</th>\n",
       "      <td>ARROGANT ILLEGAL ALIEN Who Voted 5 Times In 20...</td>\n",
       "      <td>Watch:</td>\n",
       "      <td>left-news</td>\n",
       "      <td>Feb 11, 2017</td>\n",
       "      <td>0</td>\n",
       "    </tr>\n",
       "    <tr>\n",
       "      <th>6431</th>\n",
       "      <td>Report on Russian hacking relied on human sour...</td>\n",
       "      <td>WASHINGTON (Reuters) - Director of National In...</td>\n",
       "      <td>politicsNews</td>\n",
       "      <td>January 10, 2017</td>\n",
       "      <td>1</td>\n",
       "    </tr>\n",
       "    <tr>\n",
       "      <th>12421</th>\n",
       "      <td>KICK BUTT MOM Sends BRUTAL Message to Rioting,...</td>\n",
       "      <td>This isn t the first time outspoken conservati...</td>\n",
       "      <td>politics</td>\n",
       "      <td>Nov 12, 2016</td>\n",
       "      <td>0</td>\n",
       "    </tr>\n",
       "  </tbody>\n",
       "</table>\n",
       "</div>"
      ],
      "text/plain": [
       "                                                   title  \\\n",
       "20362  FACE BOOK’S “Open-Borders” MARK ZUCKERBERG Bui...   \n",
       "20043  ONE HEART-BEAT AWAY…JOE BIDEN: It’s ‘OK Someti...   \n",
       "3857    WATCH: White Trump Voter Tells Fox That Presi...   \n",
       "20298  DETROIT COP UNDER FIRE FOR FACEBOOK POST: “The...   \n",
       "14953  Europe, Africa ministers agree to help migrant...   \n",
       "10367  THE GEORGE COSTANZA OF CNN Destroyed On His Ow...   \n",
       "21111  AUSTRIAN PARENTS AND TEACHERS Sacrifice Young ...   \n",
       "19156  ARROGANT ILLEGAL ALIEN Who Voted 5 Times In 20...   \n",
       "6431   Report on Russian hacking relied on human sour...   \n",
       "12421  KICK BUTT MOM Sends BRUTAL Message to Rioting,...   \n",
       "\n",
       "                                                    text       subject  \\\n",
       "20362  Breitbart News published a story about our 100...     left-news   \n",
       "20043  Does anyone else get the sense Biden was picke...     left-news   \n",
       "3857   These deplorable people are just incapable of ...          News   \n",
       "20298  If this cop s comments were in lock-step with ...     left-news   \n",
       "14953  BERN (Reuters) - European and African minister...     worldnews   \n",
       "10367  CNN Host Brian Stelter was destroyed by former...      politics   \n",
       "21111  Anyone up for a European vacation? How about s...     left-news   \n",
       "19156                                             Watch:     left-news   \n",
       "6431   WASHINGTON (Reuters) - Director of National In...  politicsNews   \n",
       "12421  This isn t the first time outspoken conservati...      politics   \n",
       "\n",
       "                     date  label  \n",
       "20362        Jun 27, 2016      0  \n",
       "20043         Sep 1, 2016      0  \n",
       "3857    November 10, 2016      0  \n",
       "20298        Jul 11, 2016      0  \n",
       "14953  November 13, 2017       1  \n",
       "10367        Jul 18, 2017      0  \n",
       "21111        Jan 16, 2016      0  \n",
       "19156        Feb 11, 2017      0  \n",
       "6431    January 10, 2017       1  \n",
       "12421        Nov 12, 2016      0  "
      ]
     },
     "execution_count": 6,
     "metadata": {},
     "output_type": "execute_result"
    }
   ],
   "source": [
    "# création du dataset complet\n",
    "dataframe = pd.concat([real_news, fake_news])\n",
    "dataframe.sample(10)"
   ]
  },
  {
   "cell_type": "code",
   "execution_count": 7,
   "metadata": {},
   "outputs": [
    {
     "name": "stdout",
     "output_type": "stream",
     "text": [
      "Nombre de références : 44898\n",
      "Nombre de fake news : 23481\n",
      "Nombre de vraies news : 21417\n"
     ]
    }
   ],
   "source": [
    "print(f\"Nombre de références : {dataframe.title.count()}\")\n",
    "print(f\"Nombre de fake news : {fake_news.title.count()}\")\n",
    "print(f\"Nombre de vraies news : {real_news.title.count()}\")"
   ]
  },
  {
   "cell_type": "code",
   "execution_count": 8,
   "metadata": {},
   "outputs": [],
   "source": [
    "# ici on ne s'intéresse qu'au titre et au label\n",
    "del dataframe[\"text\"]\n",
    "del dataframe[\"subject\"]\n",
    "del dataframe[\"date\"]"
   ]
  },
  {
   "cell_type": "code",
   "execution_count": 9,
   "metadata": {},
   "outputs": [
    {
     "data": {
      "text/html": [
       "<div>\n",
       "<style scoped>\n",
       "    .dataframe tbody tr th:only-of-type {\n",
       "        vertical-align: middle;\n",
       "    }\n",
       "\n",
       "    .dataframe tbody tr th {\n",
       "        vertical-align: top;\n",
       "    }\n",
       "\n",
       "    .dataframe thead th {\n",
       "        text-align: right;\n",
       "    }\n",
       "</style>\n",
       "<table border=\"1\" class=\"dataframe\">\n",
       "  <thead>\n",
       "    <tr style=\"text-align: right;\">\n",
       "      <th></th>\n",
       "      <th>title</th>\n",
       "      <th>label</th>\n",
       "    </tr>\n",
       "  </thead>\n",
       "  <tbody>\n",
       "    <tr>\n",
       "      <th>14809</th>\n",
       "      <td>Failure Of Leadership: Obama And Hillary Just ...</td>\n",
       "      <td>0</td>\n",
       "    </tr>\n",
       "    <tr>\n",
       "      <th>20978</th>\n",
       "      <td>BETTE MIDLER Asks Obama To Release VIOLENT BLA...</td>\n",
       "      <td>0</td>\n",
       "    </tr>\n",
       "    <tr>\n",
       "      <th>9679</th>\n",
       "      <td>Senator McCain says Trump would hurt own re-el...</td>\n",
       "      <td>1</td>\n",
       "    </tr>\n",
       "    <tr>\n",
       "      <th>22739</th>\n",
       "      <td>Bezos-Owned Washington Post Running PR for Bez...</td>\n",
       "      <td>0</td>\n",
       "    </tr>\n",
       "    <tr>\n",
       "      <th>8330</th>\n",
       "      <td>WATCH The Weird Ad George W. Bush Made For Hi...</td>\n",
       "      <td>0</td>\n",
       "    </tr>\n",
       "    <tr>\n",
       "      <th>2169</th>\n",
       "      <td>New York Times Columnist BLASTS ‘Parasite’ Tr...</td>\n",
       "      <td>0</td>\n",
       "    </tr>\n",
       "    <tr>\n",
       "      <th>19086</th>\n",
       "      <td>Jews around world alarmed by far-right breakth...</td>\n",
       "      <td>1</td>\n",
       "    </tr>\n",
       "    <tr>\n",
       "      <th>14966</th>\n",
       "      <td>WHY THESE TWO “TOP TIER” GOP CANDIDATES Were A...</td>\n",
       "      <td>0</td>\n",
       "    </tr>\n",
       "    <tr>\n",
       "      <th>2097</th>\n",
       "      <td>As Trump Takes 6th Golf Trip As President The...</td>\n",
       "      <td>0</td>\n",
       "    </tr>\n",
       "    <tr>\n",
       "      <th>16356</th>\n",
       "      <td>Mattis visits Seoul for defense talks as tensi...</td>\n",
       "      <td>1</td>\n",
       "    </tr>\n",
       "  </tbody>\n",
       "</table>\n",
       "</div>"
      ],
      "text/plain": [
       "                                                   title  label\n",
       "14809  Failure Of Leadership: Obama And Hillary Just ...      0\n",
       "20978  BETTE MIDLER Asks Obama To Release VIOLENT BLA...      0\n",
       "9679   Senator McCain says Trump would hurt own re-el...      1\n",
       "22739  Bezos-Owned Washington Post Running PR for Bez...      0\n",
       "8330    WATCH The Weird Ad George W. Bush Made For Hi...      0\n",
       "2169    New York Times Columnist BLASTS ‘Parasite’ Tr...      0\n",
       "19086  Jews around world alarmed by far-right breakth...      1\n",
       "14966  WHY THESE TWO “TOP TIER” GOP CANDIDATES Were A...      0\n",
       "2097    As Trump Takes 6th Golf Trip As President The...      0\n",
       "16356  Mattis visits Seoul for defense talks as tensi...      1"
      ]
     },
     "execution_count": 9,
     "metadata": {},
     "output_type": "execute_result"
    }
   ],
   "source": [
    "dataframe.sample(10)"
   ]
  },
  {
   "cell_type": "code",
   "execution_count": 10,
   "metadata": {},
   "outputs": [
    {
     "data": {
      "text/html": [
       "<div>\n",
       "<style scoped>\n",
       "    .dataframe tbody tr th:only-of-type {\n",
       "        vertical-align: middle;\n",
       "    }\n",
       "\n",
       "    .dataframe tbody tr th {\n",
       "        vertical-align: top;\n",
       "    }\n",
       "\n",
       "    .dataframe thead th {\n",
       "        text-align: right;\n",
       "    }\n",
       "</style>\n",
       "<table border=\"1\" class=\"dataframe\">\n",
       "  <thead>\n",
       "    <tr style=\"text-align: right;\">\n",
       "      <th></th>\n",
       "      <th>title</th>\n",
       "      <th>label</th>\n",
       "    </tr>\n",
       "  </thead>\n",
       "  <tbody>\n",
       "    <tr>\n",
       "      <th>22081</th>\n",
       "      <td>REALLY FAKE NEWS New York Times Finally Retrac...</td>\n",
       "      <td>0</td>\n",
       "    </tr>\n",
       "    <tr>\n",
       "      <th>4413</th>\n",
       "      <td>Highlights The Trump presidency April 13 930 P...</td>\n",
       "      <td>1</td>\n",
       "    </tr>\n",
       "    <tr>\n",
       "      <th>2880</th>\n",
       "      <td>Chinas Xi Trump discuss global hotspot issues ...</td>\n",
       "      <td>1</td>\n",
       "    </tr>\n",
       "    <tr>\n",
       "      <th>15510</th>\n",
       "      <td>Casualties religious attacks Afghanistan rise ...</td>\n",
       "      <td>1</td>\n",
       "    </tr>\n",
       "    <tr>\n",
       "      <th>21292</th>\n",
       "      <td>German admits selling gun Munich attack shooter</td>\n",
       "      <td>1</td>\n",
       "    </tr>\n",
       "    <tr>\n",
       "      <th>4891</th>\n",
       "      <td>Republicans split conservatives angry healthca...</td>\n",
       "      <td>1</td>\n",
       "    </tr>\n",
       "    <tr>\n",
       "      <th>7648</th>\n",
       "      <td>Something Truly Extraordinary And Refreshing H...</td>\n",
       "      <td>0</td>\n",
       "    </tr>\n",
       "    <tr>\n",
       "      <th>10773</th>\n",
       "      <td>Obama move promptly pick Supreme Court justice...</td>\n",
       "      <td>1</td>\n",
       "    </tr>\n",
       "    <tr>\n",
       "      <th>6455</th>\n",
       "      <td>Hillarys Latest Challenge To Progressives Is O...</td>\n",
       "      <td>0</td>\n",
       "    </tr>\n",
       "    <tr>\n",
       "      <th>9617</th>\n",
       "      <td>OFF HER ROCKER MAXINE WATERS Trump Has Tendenc...</td>\n",
       "      <td>0</td>\n",
       "    </tr>\n",
       "  </tbody>\n",
       "</table>\n",
       "</div>"
      ],
      "text/plain": [
       "                                                   title  label\n",
       "22081  REALLY FAKE NEWS New York Times Finally Retrac...      0\n",
       "4413   Highlights The Trump presidency April 13 930 P...      1\n",
       "2880   Chinas Xi Trump discuss global hotspot issues ...      1\n",
       "15510  Casualties religious attacks Afghanistan rise ...      1\n",
       "21292    German admits selling gun Munich attack shooter      1\n",
       "4891   Republicans split conservatives angry healthca...      1\n",
       "7648   Something Truly Extraordinary And Refreshing H...      0\n",
       "10773  Obama move promptly pick Supreme Court justice...      1\n",
       "6455   Hillarys Latest Challenge To Progressives Is O...      0\n",
       "9617   OFF HER ROCKER MAXINE WATERS Trump Has Tendenc...      0"
      ]
     },
     "execution_count": 10,
     "metadata": {},
     "output_type": "execute_result"
    }
   ],
   "source": [
    "# nettoyage des données (ponctuations)\n",
    "\n",
    "stopWords = set(stopwords.words(\"english\"))\n",
    "\n",
    "def cleanText(text):\n",
    "    forbidden = {\",\",\"@\",\";\",\"/\",\"-\",\":\",\".\",\"!\",\"?\", \"#\",\"\\\"\",\"(\",\")\",\"\\'\",\"’\",\"‘\",\"–\"}\n",
    "    res = text\n",
    "    if res != None:\n",
    "        for elm in forbidden:\n",
    "            res = res.replace(elm, \"\")\n",
    "        res = res.split()\n",
    "        cleaned = []\n",
    "        for word in res:\n",
    "            if not word in stopWords:\n",
    "                cleaned.append(word)\n",
    "        res = \" \".join(cleaned)\n",
    "    return res\n",
    "\n",
    "dataframe[\"title\"] = dataframe[\"title\"].apply(cleanText)\n",
    "\n",
    "dataframe.sample(10)"
   ]
  },
  {
   "cell_type": "code",
   "execution_count": 11,
   "metadata": {},
   "outputs": [
    {
     "name": "stdout",
     "output_type": "stream",
     "text": [
      "Données d'entrainement : 33673\n",
      "Données de test : 11225\n"
     ]
    }
   ],
   "source": [
    "# on sépare les données en données d'entraînement et données de test (80% et 20%)\n",
    "x_train, x_test, y_train, y_test = train_test_split(dataframe[\"title\"], dataframe[\"label\"], test_size=0.25, random_state = 42)\n",
    "print(f\"Données d'entrainement : {len(x_train)}\")\n",
    "print(f\"Données de test : {len(x_test)}\")"
   ]
  },
  {
   "cell_type": "code",
   "execution_count": 12,
   "metadata": {},
   "outputs": [],
   "source": [
    "max_features = 10000 # taille max du vocab\n",
    "maxlen = 30 # taille max de séquence"
   ]
  },
  {
   "cell_type": "code",
   "execution_count": 13,
   "metadata": {},
   "outputs": [],
   "source": [
    "# vectorisation naïve en \"one-hot\"\n",
    "tokenizer = Tokenizer(num_words=max_features)\n",
    "tokenizer.fit_on_texts(x_train)"
   ]
  },
  {
   "cell_type": "code",
   "execution_count": 14,
   "metadata": {},
   "outputs": [],
   "source": [
    "# vectorisation des données d'entraînement\n",
    "x_train = tokenizer.texts_to_sequences(x_train)\n",
    "x_train = pad_sequences(x_train, maxlen=maxlen)"
   ]
  },
  {
   "cell_type": "code",
   "execution_count": 15,
   "metadata": {},
   "outputs": [],
   "source": [
    "# vectorisation des données de test\n",
    "x_test = tokenizer.texts_to_sequences(x_test)\n",
    "x_test = pad_sequences(x_test, maxlen=maxlen)"
   ]
  },
  {
   "cell_type": "code",
   "execution_count": 16,
   "metadata": {},
   "outputs": [],
   "source": [
    "batch_size = 256\n",
    "nb_epochs = 20\n",
    "embedded_dim = 100"
   ]
  },
  {
   "cell_type": "code",
   "execution_count": 17,
   "metadata": {},
   "outputs": [
    {
     "name": "stdout",
     "output_type": "stream",
     "text": [
      "Model: \"sequential_1\"\n",
      "_________________________________________________________________\n",
      "Layer (type)                 Output Shape              Param #   \n",
      "=================================================================\n",
      "embedding_1 (Embedding)      (None, 30, 100)           1000000   \n",
      "_________________________________________________________________\n",
      "reshape_1 (Reshape)          (None, 1, 30, 100)        0         \n",
      "_________________________________________________________________\n",
      "conv2d_1 (Conv2D)            (None, 1, 30, 64)         19264     \n",
      "_________________________________________________________________\n",
      "dropout_1 (Dropout)          (None, 1, 30, 64)         0         \n",
      "_________________________________________________________________\n",
      "conv2d_2 (Conv2D)            (None, 1, 30, 32)         6176      \n",
      "_________________________________________________________________\n",
      "flatten_1 (Flatten)          (None, 960)               0         \n",
      "_________________________________________________________________\n",
      "dense_1 (Dense)              (None, 1)                 961       \n",
      "=================================================================\n",
      "Total params: 1,026,401\n",
      "Trainable params: 1,026,401\n",
      "Non-trainable params: 0\n",
      "_________________________________________________________________\n"
     ]
    }
   ],
   "source": [
    "model = Sequential()\n",
    "model.add(Embedding(max_features, output_dim=embedded_dim, input_length=maxlen, trainable=True))\n",
    "model.add(Reshape((1, 30, 100)))\n",
    "model.add(Conv2D(64, (3, 1), padding=\"same\"))\n",
    "model.add(Dropout(0.1))\n",
    "model.add(Conv2D(32, (3, 1), padding=\"same\"))\n",
    "model.add(Flatten())\n",
    "model.add(Dense(1, activation=\"sigmoid\"))\n",
    "model.compile(loss=\"binary_crossentropy\", optimizer=Adam(lr=0.0002), metrics=[\"accuracy\"])\n",
    "model.summary()"
   ]
  },
  {
   "cell_type": "code",
   "execution_count": 18,
   "metadata": {},
   "outputs": [
    {
     "name": "stderr",
     "output_type": "stream",
     "text": [
      "C:\\Users\\Shadow\\AppData\\Roaming\\Python\\Python37\\site-packages\\tensorflow\\python\\framework\\indexed_slices.py:434: UserWarning: Converting sparse IndexedSlices to a dense Tensor of unknown shape. This may consume a large amount of memory.\n",
      "  \"Converting sparse IndexedSlices to a dense Tensor of unknown shape. \"\n"
     ]
    },
    {
     "name": "stdout",
     "output_type": "stream",
     "text": [
      "Train on 33673 samples, validate on 11225 samples\n",
      "Epoch 1/20\n",
      "33673/33673 [==============================] - 4s 105us/step - loss: 0.5125 - accuracy: 0.8435 - val_loss: 0.2149 - val_accuracy: 0.9316\n",
      "Epoch 2/20\n",
      "33673/33673 [==============================] - 1s 37us/step - loss: 0.1257 - accuracy: 0.9613 - val_loss: 0.0809 - val_accuracy: 0.9750\n",
      "Epoch 3/20\n",
      "33673/33673 [==============================] - 1s 38us/step - loss: 0.0546 - accuracy: 0.9833 - val_loss: 0.0503 - val_accuracy: 0.9848\n",
      "Epoch 4/20\n",
      "33673/33673 [==============================] - 1s 38us/step - loss: 0.0321 - accuracy: 0.9907 - val_loss: 0.0409 - val_accuracy: 0.9871\n",
      "Epoch 5/20\n",
      "33673/33673 [==============================] - 1s 36us/step - loss: 0.0212 - accuracy: 0.9944 - val_loss: 0.0377 - val_accuracy: 0.9876\n",
      "Epoch 6/20\n",
      "33673/33673 [==============================] - 1s 36us/step - loss: 0.0147 - accuracy: 0.9963 - val_loss: 0.0371 - val_accuracy: 0.9879\n",
      "Epoch 7/20\n",
      "33673/33673 [==============================] - 1s 37us/step - loss: 0.0104 - accuracy: 0.9978 - val_loss: 0.0383 - val_accuracy: 0.9876\n",
      "Epoch 8/20\n",
      "33673/33673 [==============================] - 1s 36us/step - loss: 0.0076 - accuracy: 0.9985 - val_loss: 0.0407 - val_accuracy: 0.9874\n",
      "Epoch 9/20\n",
      "33673/33673 [==============================] - 1s 36us/step - loss: 0.0055 - accuracy: 0.9991 - val_loss: 0.0432 - val_accuracy: 0.9869\n",
      "Epoch 10/20\n",
      "33673/33673 [==============================] - 1s 36us/step - loss: 0.0041 - accuracy: 0.9993 - val_loss: 0.0472 - val_accuracy: 0.9861\n",
      "Epoch 11/20\n",
      "33673/33673 [==============================] - 1s 37us/step - loss: 0.0031 - accuracy: 0.9994 - val_loss: 0.0495 - val_accuracy: 0.9860\n",
      "Epoch 12/20\n",
      "33673/33673 [==============================] - 1s 36us/step - loss: 0.0024 - accuracy: 0.9997 - val_loss: 0.0539 - val_accuracy: 0.9858\n",
      "Epoch 13/20\n",
      "33673/33673 [==============================] - 1s 37us/step - loss: 0.0019 - accuracy: 0.9998 - val_loss: 0.0594 - val_accuracy: 0.9848\n",
      "Epoch 14/20\n",
      "33673/33673 [==============================] - 1s 37us/step - loss: 0.0014 - accuracy: 0.9998 - val_loss: 0.0635 - val_accuracy: 0.9843\n",
      "Epoch 15/20\n",
      "33673/33673 [==============================] - 1s 37us/step - loss: 0.0012 - accuracy: 0.9998 - val_loss: 0.0685 - val_accuracy: 0.9837\n",
      "Epoch 16/20\n",
      "33673/33673 [==============================] - 1s 36us/step - loss: 8.9458e-04 - accuracy: 0.9998 - val_loss: 0.0712 - val_accuracy: 0.9840\n",
      "Epoch 17/20\n",
      "33673/33673 [==============================] - 1s 35us/step - loss: 7.2507e-04 - accuracy: 0.9999 - val_loss: 0.0778 - val_accuracy: 0.9833\n",
      "Epoch 18/20\n",
      "33673/33673 [==============================] - 1s 36us/step - loss: 5.5380e-04 - accuracy: 0.9999 - val_loss: 0.0803 - val_accuracy: 0.9833\n",
      "Epoch 19/20\n",
      "33673/33673 [==============================] - 1s 36us/step - loss: 4.2974e-04 - accuracy: 0.9999 - val_loss: 0.0839 - val_accuracy: 0.9831\n",
      "Epoch 20/20\n",
      "33673/33673 [==============================] - 1s 36us/step - loss: 3.3798e-04 - accuracy: 1.0000 - val_loss: 0.0883 - val_accuracy: 0.9826\n"
     ]
    }
   ],
   "source": [
    "progress = model.fit(x_train, y_train, batch_size=batch_size, epochs=nb_epochs, validation_data=(x_test, y_test))"
   ]
  },
  {
   "cell_type": "code",
   "execution_count": 19,
   "metadata": {},
   "outputs": [],
   "source": [
    "model.save(\"firstTry2.h5\")"
   ]
  },
  {
   "cell_type": "code",
   "execution_count": 20,
   "metadata": {},
   "outputs": [],
   "source": [
    "# art plastique du turfu featuring le poto matplotlib\n",
    "from matplotlib import pyplot as plt"
   ]
  },
  {
   "cell_type": "code",
   "execution_count": 21,
   "metadata": {},
   "outputs": [
    {
     "data": {
      "image/png": "[encoded data removed]",
      "text/plain": [
       "<Figure size 1440x720 with 2 Axes>"
      ]
     },
     "metadata": {
      "needs_background": "light"
     },
     "output_type": "display_data"
    }
   ],
   "source": [
    "figure, ax = plt.subplots(1, 2)\n",
    "figure.set_size_inches(20,10)\n",
    "\n",
    "ax[0].plot(progress.history[\"loss\"])\n",
    "\n",
    "ax[1].plot(progress.history[\"accuracy\"])\n",
    "\n",
    "plt.show()"
   ]
  },
  {
   "cell_type": "code",
   "execution_count": 22,
   "metadata": {},
   "outputs": [],
   "source": [
    "to_predict = dataframe.sample(5)"
   ]
  },
  {
   "cell_type": "code",
   "execution_count": 23,
   "metadata": {},
   "outputs": [
    {
     "data": {
      "text/plain": [
       "17736    TREY GOWDY SLAMS Mueller Teams Over Leaks Abou...\n",
       "8773               Obama sign bill battle heroin addiction\n",
       "17011    China official says Lincoln would approved fre...\n",
       "9880     HEY DEMOCRATS Judicial Watch Just Discovered H...\n",
       "10379    SYRIAN MUSLIM IMMIGRANT HAIRDRESSER SLITS Fema...\n",
       "Name: title, dtype: object"
      ]
     },
     "execution_count": 23,
     "metadata": {},
     "output_type": "execute_result"
    }
   ],
   "source": [
    "X_test = to_predict[\"title\"]\n",
    "X_test"
   ]
  },
  {
   "cell_type": "code",
   "execution_count": 24,
   "metadata": {},
   "outputs": [
    {
     "data": {
      "text/plain": [
       "17736    0\n",
       "8773     1\n",
       "17011    1\n",
       "9880     0\n",
       "10379    0\n",
       "Name: label, dtype: int64"
      ]
     },
     "execution_count": 24,
     "metadata": {},
     "output_type": "execute_result"
    }
   ],
   "source": [
    "Y_test = to_predict[\"label\"]\n",
    "Y_test"
   ]
  },
  {
   "cell_type": "code",
   "execution_count": 25,
   "metadata": {},
   "outputs": [
    {
     "data": {
      "text/plain": [
       "array([   0,    0,    0,    0,    0,    0,    0,    0,    0,    0,    0,\n",
       "          0,    0,    0,    0,    0,    0,    0, 1925, 1844,  499,  857,\n",
       "       9485,   41, 1522,   21,  501, 2029,  392,    2])"
      ]
     },
     "execution_count": 25,
     "metadata": {},
     "output_type": "execute_result"
    }
   ],
   "source": [
    "X_test = tokenizer.texts_to_sequences(X_test)\n",
    "X_test = pad_sequences(X_test, maxlen=maxlen)\n",
    "X_test[0]"
   ]
  },
  {
   "cell_type": "code",
   "execution_count": 26,
   "metadata": {},
   "outputs": [
    {
     "data": {
      "text/plain": [
       "array([[1.70647621e-13],\n",
       "       [9.99986768e-01],\n",
       "       [9.99989271e-01],\n",
       "       [1.23071197e-21],\n",
       "       [1.14856625e-17]], dtype=float32)"
      ]
     },
     "execution_count": 26,
     "metadata": {},
     "output_type": "execute_result"
    }
   ],
   "source": [
    "model.predict(X_test)"
   ]
  },
  {
   "cell_type": "code",
   "execution_count": 27,
   "metadata": {},
   "outputs": [
    {
     "data": {
      "text/plain": [
       "array([[   0,    0,    0,    0,    0,    0,    0,    0,    0,    0,    0,\n",
       "           0,    0,    0,    0,    0,    0,    0, 1925, 1844,  499,  857,\n",
       "        9485,   41, 1522,   21,  501, 2029,  392,    2],\n",
       "       [   0,    0,    0,    0,    0,    0,    0,    0,    0,    0,    0,\n",
       "           0,    0,    0,    0,    0,    0,    0,    0,    0,    0,    0,\n",
       "           0,    0,   14,  620,   29,  747, 8565, 7291],\n",
       "       [   0,    0,    0,    0,    0,    0,    0,    0,    0,    0,    0,\n",
       "           0,    0,    0,    0,    0,    0,    0,    0,    0,    0,    0,\n",
       "           0,   81,  131,    9, 4974,  116, 2939, 6952],\n",
       "       [   0,    0,    0,    0,    0,    0,    0,    0,    0,    0, 2218,\n",
       "          80, 1619,   18,   27, 3793,   19, 2172,  162,    3, 4863,   24,\n",
       "         838,   32,    4, 1624, 4231,  558, 1653,    6],\n",
       "       [   0,    0,    0,    0,    0,    0,    0,    0,    0,    0,    0,\n",
       "           0,    0,    0,    0,    0,    0,  204,   75,  872, 9189,  581,\n",
       "        7870, 4276,   22,   51,   55,   45,    8, 3843]])"
      ]
     },
     "execution_count": 27,
     "metadata": {},
     "output_type": "execute_result"
    }
   ],
   "source": [
    "X_test"
   ]
  }
 ],
 "metadata": {
  "kernelspec": {
   "display_name": "Python 3",
   "language": "python",
   "name": "python3"
  },
  "language_info": {
   "codemirror_mode": {
    "name": "ipython",
    "version": 3
   },
   "file_extension": ".py",
   "mimetype": "text/x-python",
   "name": "python",
   "nbconvert_exporter": "python",
   "pygments_lexer": "ipython3",
   "version": "3.7.7"
  }
 },
 "nbformat": 4,
 "nbformat_minor": 4
}
