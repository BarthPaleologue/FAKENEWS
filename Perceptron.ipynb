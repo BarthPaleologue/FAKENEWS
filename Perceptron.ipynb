{
 "cells": [
  {
   "cell_type": "markdown",
   "metadata": {},
   "source": [
    "<h1>Inefficacité du Perceptron</h1>"
   ]
  },
  {
   "cell_type": "code",
   "execution_count": 406,
   "metadata": {},
   "outputs": [],
   "source": [
    "import pandas as pd\n",
    "import numpy as np\n",
    "import itertools\n",
    "\n",
    "from nltk.corpus import stopwords\n",
    "from sklearn.model_selection import train_test_split\n",
    "from sklearn.metrics import confusion_matrix\n",
    "from keras.preprocessing.text import Tokenizer\n",
    "from keras.preprocessing.sequence import pad_sequences\n",
    "\n",
    "from keras.models import Sequential\n",
    "from keras.layers import Conv2D, Dropout, Dense, Embedding, Flatten, Reshape\n",
    "from keras.optimizers import Adam"
   ]
  },
  {
   "cell_type": "markdown",
   "metadata": {},
   "source": [
    "<h2>Boite à outils</h2>"
   ]
  },
  {
   "cell_type": "code",
   "execution_count": 407,
   "metadata": {},
   "outputs": [],
   "source": [
    "def plot_confusion_matrix(cm, classes, cmap=plt.cm.Blues):\n",
    "\n",
    "    cm = cm.astype(\"float\") / cm.sum(axis=1)\n",
    "\n",
    "    plt.figure(figsize=(10,10))\n",
    "    plt.imshow(cm, interpolation=\"nearest\", cmap=cmap)\n",
    "    plt.colorbar()\n",
    "    tick_marks = np.arange(len(classes))\n",
    "    \n",
    "    plt.xticks(tick_marks, classes, fontsize=20, rotation=45)\n",
    "    plt.yticks(tick_marks, classes, fontsize=20)\n",
    "\n",
    "    for i, j in itertools.product(range(cm.shape[0]), range(cm.shape[1])):\n",
    "        color = \"white\" if cm[i,j] > 0.5 else \"black\"        \n",
    "        plt.text(j, i, format(cm[i, j], \".2f\"), horizontalalignment=\"center\", verticalalignment=\"center\", color=color, fontsize=40)\n",
    "\n",
    "    plt.ylabel(\"Correction\", fontsize=15)\n",
    "    plt.xlabel(\"Prédiction\", fontsize=15)"
   ]
  },
  {
   "cell_type": "code",
   "execution_count": 408,
   "metadata": {},
   "outputs": [],
   "source": [
    "# nettoyage des données (ponctuations)\n",
    "\n",
    "stopWords = set(stopwords.words(\"english\"))\n",
    "\n",
    "def cleanText(text):\n",
    "    forbidden = {\",\",\"@\",\";\",\"/\",\"-\",\":\",\".\",\"!\",\"?\", \"#\",\"\\\"\",\"(\",\")\",\"\\'\",\"’\",\"‘\",\"–\",\"...\",\"&\"}\n",
    "    res = str(text)\n",
    "\n",
    "    if res is None:\n",
    "        return \"\"\n",
    "    \n",
    "    for elm in forbidden:\n",
    "        res = res.replace(elm, \"\")\n",
    "    \n",
    "    if len(res.split()) >= 30:\n",
    "        res = \" \".join(res.split()[0:30])\n",
    "    \n",
    "    for elm in forbidden:\n",
    "        res = res.replace(\"  \", \" \")\n",
    "    \n",
    "    return res"
   ]
  },
  {
   "cell_type": "markdown",
   "metadata": {},
   "source": [
    "<h2>Traitement des données</h2>"
   ]
  },
  {
   "cell_type": "markdown",
   "metadata": {},
   "source": [
    "<h3>Dataset 1</h3>"
   ]
  },
  {
   "cell_type": "code",
   "execution_count": 409,
   "metadata": {},
   "outputs": [
    {
     "name": "stdout",
     "output_type": "stream",
     "text": [
      "Nombre de références : 44898\n",
      "Nombre de fake news : 23481\n",
      "Nombre de vraies news : 21417\n"
     ]
    },
    {
     "data": {
      "text/html": [
       "<div>\n",
       "<style scoped>\n",
       "    .dataframe tbody tr th:only-of-type {\n",
       "        vertical-align: middle;\n",
       "    }\n",
       "\n",
       "    .dataframe tbody tr th {\n",
       "        vertical-align: top;\n",
       "    }\n",
       "\n",
       "    .dataframe thead th {\n",
       "        text-align: right;\n",
       "    }\n",
       "</style>\n",
       "<table border=\"1\" class=\"dataframe\">\n",
       "  <thead>\n",
       "    <tr style=\"text-align: right;\">\n",
       "      <th></th>\n",
       "      <th>text</th>\n",
       "      <th>label</th>\n",
       "    </tr>\n",
       "  </thead>\n",
       "  <tbody>\n",
       "    <tr>\n",
       "      <th>13047</th>\n",
       "      <td>I know there are only 60 days left to make our...</td>\n",
       "      <td>0</td>\n",
       "    </tr>\n",
       "    <tr>\n",
       "      <th>7876</th>\n",
       "      <td>Marijuana legalization is on the cusp in Ameri...</td>\n",
       "      <td>0</td>\n",
       "    </tr>\n",
       "    <tr>\n",
       "      <th>2739</th>\n",
       "      <td>WASHINGTON Reuters With talks to renegotiate t...</td>\n",
       "      <td>1</td>\n",
       "    </tr>\n",
       "    <tr>\n",
       "      <th>1860</th>\n",
       "      <td>WASHINGTON Reuters President Donald Trumps cal...</td>\n",
       "      <td>1</td>\n",
       "    </tr>\n",
       "    <tr>\n",
       "      <th>18764</th>\n",
       "      <td>BARCELONA Reuters Catalan separatists urged su...</td>\n",
       "      <td>1</td>\n",
       "    </tr>\n",
       "    <tr>\n",
       "      <th>1842</th>\n",
       "      <td>WASHINGTON Reuters US President Donald Trump s...</td>\n",
       "      <td>1</td>\n",
       "    </tr>\n",
       "    <tr>\n",
       "      <th>16893</th>\n",
       "      <td>The Transportation Security Administration TSA...</td>\n",
       "      <td>0</td>\n",
       "    </tr>\n",
       "    <tr>\n",
       "      <th>14516</th>\n",
       "      <td>JOHANNESBURG Reuters South Africa s Justice Mi...</td>\n",
       "      <td>1</td>\n",
       "    </tr>\n",
       "    <tr>\n",
       "      <th>9780</th>\n",
       "      <td>During game 1 of the WNBA Finals the LA Sparks...</td>\n",
       "      <td>0</td>\n",
       "    </tr>\n",
       "    <tr>\n",
       "      <th>3038</th>\n",
       "      <td>COLORADO SPRINGS Colo Reuters Officials with t...</td>\n",
       "      <td>1</td>\n",
       "    </tr>\n",
       "  </tbody>\n",
       "</table>\n",
       "</div>"
      ],
      "text/plain": [
       "                                                    text  label\n",
       "13047  I know there are only 60 days left to make our...      0\n",
       "7876   Marijuana legalization is on the cusp in Ameri...      0\n",
       "2739   WASHINGTON Reuters With talks to renegotiate t...      1\n",
       "1860   WASHINGTON Reuters President Donald Trumps cal...      1\n",
       "18764  BARCELONA Reuters Catalan separatists urged su...      1\n",
       "1842   WASHINGTON Reuters US President Donald Trump s...      1\n",
       "16893  The Transportation Security Administration TSA...      0\n",
       "14516  JOHANNESBURG Reuters South Africa s Justice Mi...      1\n",
       "9780   During game 1 of the WNBA Finals the LA Sparks...      0\n",
       "3038   COLORADO SPRINGS Colo Reuters Officials with t...      1"
      ]
     },
     "execution_count": 409,
     "metadata": {},
     "output_type": "execute_result"
    }
   ],
   "source": [
    "# chargement des deux tables\n",
    "real_news = pd.read_csv(\"./dataset1/True.csv\")\n",
    "fake_news = pd.read_csv(\"./dataset1/Fake.csv\")\n",
    "\n",
    "# vrai = 1, faux = 0\n",
    "real_news[\"label\"] = 1\n",
    "fake_news[\"label\"] = 0\n",
    "\n",
    "# création du dataset complet\n",
    "dataframe1 = pd.concat([real_news, fake_news])\n",
    "\n",
    "print(f\"Nombre de références : {dataframe1.title.count()}\")\n",
    "print(f\"Nombre de fake news : {fake_news.title.count()}\")\n",
    "print(f\"Nombre de vraies news : {real_news.title.count()}\")\n",
    "\n",
    "# ici on ne s'intéresse qu'au titre et au label\n",
    "del dataframe1[\"title\"]\n",
    "del dataframe1[\"subject\"]\n",
    "del dataframe1[\"date\"]\n",
    "dataframe1[\"text\"] = dataframe1[\"text\"].apply(cleanText)\n",
    "\n",
    "dataframe1.sample(10)"
   ]
  },
  {
   "cell_type": "markdown",
   "metadata": {},
   "source": [
    "<h3>Dataset 2</h3>"
   ]
  },
  {
   "cell_type": "code",
   "execution_count": 410,
   "metadata": {},
   "outputs": [
    {
     "data": {
      "text/html": [
       "<div>\n",
       "<style scoped>\n",
       "    .dataframe tbody tr th:only-of-type {\n",
       "        vertical-align: middle;\n",
       "    }\n",
       "\n",
       "    .dataframe tbody tr th {\n",
       "        vertical-align: top;\n",
       "    }\n",
       "\n",
       "    .dataframe thead th {\n",
       "        text-align: right;\n",
       "    }\n",
       "</style>\n",
       "<table border=\"1\" class=\"dataframe\">\n",
       "  <thead>\n",
       "    <tr style=\"text-align: right;\">\n",
       "      <th></th>\n",
       "      <th>text</th>\n",
       "      <th>label</th>\n",
       "    </tr>\n",
       "  </thead>\n",
       "  <tbody>\n",
       "    <tr>\n",
       "      <th>5801</th>\n",
       "      <td>WASHINGTON — Attorney General Jeff Sessions fa...</td>\n",
       "      <td>0</td>\n",
       "    </tr>\n",
       "    <tr>\n",
       "      <th>16070</th>\n",
       "      <td>20 Views November 03 2016 GOLD KWN King World ...</td>\n",
       "      <td>1</td>\n",
       "    </tr>\n",
       "    <tr>\n",
       "      <th>11234</th>\n",
       "      <td>Print Protesters blocked the upper level of th...</td>\n",
       "      <td>1</td>\n",
       "    </tr>\n",
       "    <tr>\n",
       "      <th>2134</th>\n",
       "      <td>« on Today at 083635 PM » AIG Quadruples Limit...</td>\n",
       "      <td>1</td>\n",
       "    </tr>\n",
       "    <tr>\n",
       "      <th>4578</th>\n",
       "      <td>Wed 26 Oct 2016 1945 UTC © The Canary Leaked d...</td>\n",
       "      <td>1</td>\n",
       "    </tr>\n",
       "    <tr>\n",
       "      <th>15668</th>\n",
       "      <td>Good morning Were trying something new this we...</td>\n",
       "      <td>0</td>\n",
       "    </tr>\n",
       "    <tr>\n",
       "      <th>17032</th>\n",
       "      <td>License DMCA With the US more interested in fi...</td>\n",
       "      <td>1</td>\n",
       "    </tr>\n",
       "    <tr>\n",
       "      <th>3190</th>\n",
       "      <td>STAFFORD SPRINGS Conn — Sandra Miller was at w...</td>\n",
       "      <td>0</td>\n",
       "    </tr>\n",
       "    <tr>\n",
       "      <th>4575</th>\n",
       "      <td>Veteran political strategist Pat Caddell talke...</td>\n",
       "      <td>0</td>\n",
       "    </tr>\n",
       "    <tr>\n",
       "      <th>10752</th>\n",
       "      <td>Leaked Podestas Satanic Spirit Cooking Dinner ...</td>\n",
       "      <td>1</td>\n",
       "    </tr>\n",
       "  </tbody>\n",
       "</table>\n",
       "</div>"
      ],
      "text/plain": [
       "                                                    text  label\n",
       "5801   WASHINGTON — Attorney General Jeff Sessions fa...      0\n",
       "16070  20 Views November 03 2016 GOLD KWN King World ...      1\n",
       "11234  Print Protesters blocked the upper level of th...      1\n",
       "2134   « on Today at 083635 PM » AIG Quadruples Limit...      1\n",
       "4578   Wed 26 Oct 2016 1945 UTC © The Canary Leaked d...      1\n",
       "15668  Good morning Were trying something new this we...      0\n",
       "17032  License DMCA With the US more interested in fi...      1\n",
       "3190   STAFFORD SPRINGS Conn — Sandra Miller was at w...      0\n",
       "4575   Veteran political strategist Pat Caddell talke...      0\n",
       "10752  Leaked Podestas Satanic Spirit Cooking Dinner ...      1"
      ]
     },
     "execution_count": 410,
     "metadata": {},
     "output_type": "execute_result"
    }
   ],
   "source": [
    "dataframe2 = pd.read_csv(\"./dataset2/train.csv\")\n",
    "del dataframe2[\"id\"]\n",
    "del dataframe2[\"author\"]\n",
    "del dataframe2[\"title\"]\n",
    "\n",
    "dataframe2[\"text\"] = dataframe2[\"text\"].apply(cleanText)\n",
    "\n",
    "dataframe2.sample(10)"
   ]
  },
  {
   "cell_type": "code",
   "execution_count": 411,
   "metadata": {},
   "outputs": [
    {
     "name": "stdout",
     "output_type": "stream",
     "text": [
      "Données d'entrainement : 448\n",
      "Données de test : 44450\n"
     ]
    }
   ],
   "source": [
    "# on sépare les données en données d'entraînement et données de test (80% et 20%)\n",
    "x_train, x_test, y_train, y_test = train_test_split(dataframe1[\"text\"], dataframe1[\"label\"], test_size=0.99, random_state = 42)\n",
    "print(f\"Données d'entrainement : {len(x_train)}\")\n",
    "print(f\"Données de test : {len(x_test)}\")"
   ]
  },
  {
   "cell_type": "code",
   "execution_count": 412,
   "metadata": {},
   "outputs": [],
   "source": [
    "max_features = 10000 # taille max du vocab\n",
    "maxlen = 70 # taille max de séquence"
   ]
  },
  {
   "cell_type": "code",
   "execution_count": 413,
   "metadata": {},
   "outputs": [],
   "source": [
    "# vectorisation naïve en \"one-hot\"\n",
    "tokenizer = Tokenizer(num_words=max_features)\n",
    "tokenizer.fit_on_texts(pd.concat([dataframe1[\"text\"], dataframe2[\"text\"]]))"
   ]
  },
  {
   "cell_type": "code",
   "execution_count": 414,
   "metadata": {},
   "outputs": [],
   "source": [
    "# vectorisation des données d'entraînement\n",
    "x_train = tokenizer.texts_to_sequences(x_train)\n",
    "x_train = pad_sequences(x_train, maxlen=maxlen)"
   ]
  },
  {
   "cell_type": "code",
   "execution_count": 415,
   "metadata": {},
   "outputs": [],
   "source": [
    "# vectorisation des données de test\n",
    "x_test = tokenizer.texts_to_sequences(x_test)\n",
    "x_test = pad_sequences(x_test, maxlen=maxlen)"
   ]
  },
  {
   "cell_type": "markdown",
   "metadata": {},
   "source": [
    "<h2>Modèle Perceptron</h2>"
   ]
  },
  {
   "cell_type": "code",
   "execution_count": 416,
   "metadata": {},
   "outputs": [],
   "source": [
    "batch_size = 128 # la batch_size n'influe pas sur le résultat non plus\n",
    "nb_epochs = 100 # le nombre d'époques n'influe pas sur le résultat\n",
    "embedded_dim = 100 # idem"
   ]
  },
  {
   "cell_type": "code",
   "execution_count": 417,
   "metadata": {},
   "outputs": [
    {
     "name": "stdout",
     "output_type": "stream",
     "text": [
      "Model: \"sequential_16\"\n",
      "_________________________________________________________________\n",
      "Layer (type)                 Output Shape              Param #   \n",
      "=================================================================\n",
      "embedding_16 (Embedding)     (None, 70, 100)           1000000   \n",
      "_________________________________________________________________\n",
      "flatten_14 (Flatten)         (None, 7000)              0         \n",
      "_________________________________________________________________\n",
      "dense_25 (Dense)             (None, 256)               1792256   \n",
      "_________________________________________________________________\n",
      "dropout_15 (Dropout)         (None, 256)               0         \n",
      "_________________________________________________________________\n",
      "dense_26 (Dense)             (None, 128)               32896     \n",
      "_________________________________________________________________\n",
      "dense_27 (Dense)             (None, 1)                 129       \n",
      "=================================================================\n",
      "Total params: 2,825,281\n",
      "Trainable params: 2,825,281\n",
      "Non-trainable params: 0\n",
      "_________________________________________________________________\n"
     ]
    }
   ],
   "source": [
    "model = Sequential()\n",
    "model.add(Embedding(max_features, output_dim=embedded_dim, input_length=maxlen, trainable=True))\n",
    "model.add(Flatten())\n",
    "model.add(Dense(256, activation=\"relu\"))\n",
    "model.add(Dropout(0.1))\n",
    "model.add(Dense(128, activation=\"relu\"))\n",
    "model.add(Dense(1, activation=\"sigmoid\"))\n",
    "model.compile(loss=\"binary_crossentropy\", optimizer=Adam(lr=0.0002), metrics=[\"accuracy\"])\n",
    "model.summary()"
   ]
  },
  {
   "cell_type": "code",
   "execution_count": 418,
   "metadata": {},
   "outputs": [
    {
     "name": "stderr",
     "output_type": "stream",
     "text": [
      "C:\\Users\\Shadow\\AppData\\Roaming\\Python\\Python37\\site-packages\\tensorflow\\python\\framework\\indexed_slices.py:434: UserWarning: Converting sparse IndexedSlices to a dense Tensor of unknown shape. This may consume a large amount of memory.\n",
      "  \"Converting sparse IndexedSlices to a dense Tensor of unknown shape. \"\n"
     ]
    },
    {
     "name": "stdout",
     "output_type": "stream",
     "text": [
      "Epoch 1/100\n",
      "448/448 [==============================] - 0s 530us/step - loss: 0.6924 - accuracy: 0.5134\n",
      "Epoch 2/100\n",
      "448/448 [==============================] - 0s 59us/step - loss: 0.6800 - accuracy: 0.6071\n",
      "Epoch 3/100\n",
      "448/448 [==============================] - 0s 65us/step - loss: 0.6642 - accuracy: 0.7143\n",
      "Epoch 4/100\n",
      "448/448 [==============================] - 0s 65us/step - loss: 0.6397 - accuracy: 0.8326\n",
      "Epoch 5/100\n",
      "448/448 [==============================] - 0s 59us/step - loss: 0.6102 - accuracy: 0.9107\n",
      "Epoch 6/100\n",
      "448/448 [==============================] - 0s 60us/step - loss: 0.5773 - accuracy: 0.9286\n",
      "Epoch 7/100\n",
      "448/448 [==============================] - 0s 61us/step - loss: 0.5370 - accuracy: 0.9821\n",
      "Epoch 8/100\n",
      "448/448 [==============================] - 0s 63us/step - loss: 0.4827 - accuracy: 0.9911\n",
      "Epoch 9/100\n",
      "448/448 [==============================] - 0s 61us/step - loss: 0.4277 - accuracy: 0.9933\n",
      "Epoch 10/100\n",
      "448/448 [==============================] - 0s 62us/step - loss: 0.3599 - accuracy: 0.9978\n",
      "Epoch 11/100\n",
      "448/448 [==============================] - 0s 64us/step - loss: 0.2933 - accuracy: 1.0000\n",
      "Epoch 12/100\n",
      "448/448 [==============================] - 0s 63us/step - loss: 0.2248 - accuracy: 1.0000\n",
      "Epoch 13/100\n",
      "448/448 [==============================] - 0s 61us/step - loss: 0.1685 - accuracy: 1.0000\n",
      "Epoch 14/100\n",
      "448/448 [==============================] - 0s 66us/step - loss: 0.1195 - accuracy: 1.0000\n",
      "Epoch 15/100\n",
      "448/448 [==============================] - 0s 81us/step - loss: 0.0829 - accuracy: 1.0000\n",
      "Epoch 16/100\n",
      "448/448 [==============================] - 0s 62us/step - loss: 0.0566 - accuracy: 1.0000\n",
      "Epoch 17/100\n",
      "448/448 [==============================] - 0s 65us/step - loss: 0.0390 - accuracy: 1.0000\n",
      "Epoch 18/100\n",
      "448/448 [==============================] - 0s 61us/step - loss: 0.0268 - accuracy: 1.0000\n",
      "Epoch 19/100\n",
      "448/448 [==============================] - 0s 63us/step - loss: 0.0199 - accuracy: 1.0000\n",
      "Epoch 20/100\n",
      "448/448 [==============================] - 0s 64us/step - loss: 0.0144 - accuracy: 1.0000\n",
      "Epoch 21/100\n",
      "448/448 [==============================] - 0s 64us/step - loss: 0.0118 - accuracy: 1.0000\n",
      "Epoch 22/100\n",
      "448/448 [==============================] - 0s 60us/step - loss: 0.0090 - accuracy: 1.0000\n",
      "Epoch 23/100\n",
      "448/448 [==============================] - 0s 67us/step - loss: 0.0074 - accuracy: 1.0000\n",
      "Epoch 24/100\n",
      "448/448 [==============================] - 0s 64us/step - loss: 0.0063 - accuracy: 1.0000\n",
      "Epoch 25/100\n",
      "448/448 [==============================] - 0s 62us/step - loss: 0.0053 - accuracy: 1.0000\n",
      "Epoch 26/100\n",
      "448/448 [==============================] - 0s 64us/step - loss: 0.0048 - accuracy: 1.0000\n",
      "Epoch 27/100\n",
      "448/448 [==============================] - 0s 62us/step - loss: 0.0043 - accuracy: 1.0000\n",
      "Epoch 28/100\n",
      "448/448 [==============================] - 0s 61us/step - loss: 0.0038 - accuracy: 1.0000\n",
      "Epoch 29/100\n",
      "448/448 [==============================] - 0s 67us/step - loss: 0.0034 - accuracy: 1.0000\n",
      "Epoch 30/100\n",
      "448/448 [==============================] - 0s 61us/step - loss: 0.0031 - accuracy: 1.0000\n",
      "Epoch 31/100\n",
      "448/448 [==============================] - 0s 66us/step - loss: 0.0028 - accuracy: 1.0000\n",
      "Epoch 32/100\n",
      "448/448 [==============================] - 0s 60us/step - loss: 0.0027 - accuracy: 1.0000\n",
      "Epoch 33/100\n",
      "448/448 [==============================] - 0s 64us/step - loss: 0.0024 - accuracy: 1.0000\n",
      "Epoch 34/100\n",
      "448/448 [==============================] - 0s 61us/step - loss: 0.0023 - accuracy: 1.0000\n",
      "Epoch 35/100\n",
      "448/448 [==============================] - 0s 66us/step - loss: 0.0022 - accuracy: 1.0000\n",
      "Epoch 36/100\n",
      "448/448 [==============================] - 0s 61us/step - loss: 0.0021 - accuracy: 1.0000\n",
      "Epoch 37/100\n",
      "448/448 [==============================] - 0s 62us/step - loss: 0.0019 - accuracy: 1.0000\n",
      "Epoch 38/100\n",
      "448/448 [==============================] - 0s 60us/step - loss: 0.0019 - accuracy: 1.0000\n",
      "Epoch 39/100\n",
      "448/448 [==============================] - 0s 59us/step - loss: 0.0017 - accuracy: 1.0000\n",
      "Epoch 40/100\n",
      "448/448 [==============================] - 0s 65us/step - loss: 0.0016 - accuracy: 1.0000\n",
      "Epoch 41/100\n",
      "448/448 [==============================] - 0s 65us/step - loss: 0.0015 - accuracy: 1.0000\n",
      "Epoch 42/100\n",
      "448/448 [==============================] - 0s 60us/step - loss: 0.0014 - accuracy: 1.0000\n",
      "Epoch 43/100\n",
      "448/448 [==============================] - 0s 64us/step - loss: 0.0014 - accuracy: 1.0000\n",
      "Epoch 44/100\n",
      "448/448 [==============================] - 0s 64us/step - loss: 0.0013 - accuracy: 1.0000\n",
      "Epoch 45/100\n",
      "448/448 [==============================] - 0s 65us/step - loss: 0.0012 - accuracy: 1.0000\n",
      "Epoch 46/100\n",
      "448/448 [==============================] - 0s 59us/step - loss: 0.0012 - accuracy: 1.0000\n",
      "Epoch 47/100\n",
      "448/448 [==============================] - 0s 65us/step - loss: 0.0011 - accuracy: 1.0000\n",
      "Epoch 48/100\n",
      "448/448 [==============================] - 0s 65us/step - loss: 0.0011 - accuracy: 1.0000\n",
      "Epoch 49/100\n",
      "448/448 [==============================] - 0s 61us/step - loss: 0.0011 - accuracy: 1.0000\n",
      "Epoch 50/100\n",
      "448/448 [==============================] - 0s 63us/step - loss: 0.0010 - accuracy: 1.0000\n",
      "Epoch 51/100\n",
      "448/448 [==============================] - 0s 66us/step - loss: 9.3519e-04 - accuracy: 1.0000\n",
      "Epoch 52/100\n",
      "448/448 [==============================] - 0s 61us/step - loss: 8.8057e-04 - accuracy: 1.0000\n",
      "Epoch 53/100\n",
      "448/448 [==============================] - 0s 66us/step - loss: 8.9056e-04 - accuracy: 1.0000\n",
      "Epoch 54/100\n",
      "448/448 [==============================] - 0s 63us/step - loss: 8.3335e-04 - accuracy: 1.0000\n",
      "Epoch 55/100\n",
      "448/448 [==============================] - 0s 62us/step - loss: 7.5604e-04 - accuracy: 1.0000\n",
      "Epoch 56/100\n",
      "448/448 [==============================] - 0s 65us/step - loss: 7.7232e-04 - accuracy: 1.0000\n",
      "Epoch 57/100\n",
      "448/448 [==============================] - 0s 59us/step - loss: 7.2607e-04 - accuracy: 1.0000\n",
      "Epoch 58/100\n",
      "448/448 [==============================] - 0s 60us/step - loss: 6.9385e-04 - accuracy: 1.0000\n",
      "Epoch 59/100\n",
      "448/448 [==============================] - 0s 61us/step - loss: 7.0591e-04 - accuracy: 1.0000\n",
      "Epoch 60/100\n",
      "448/448 [==============================] - 0s 63us/step - loss: 6.6530e-04 - accuracy: 1.0000\n",
      "Epoch 61/100\n",
      "448/448 [==============================] - 0s 64us/step - loss: 6.3672e-04 - accuracy: 1.0000\n",
      "Epoch 62/100\n",
      "448/448 [==============================] - 0s 60us/step - loss: 6.3992e-04 - accuracy: 1.0000\n",
      "Epoch 63/100\n",
      "448/448 [==============================] - 0s 61us/step - loss: 5.8644e-04 - accuracy: 1.0000\n",
      "Epoch 64/100\n",
      "448/448 [==============================] - 0s 65us/step - loss: 5.8675e-04 - accuracy: 1.0000\n",
      "Epoch 65/100\n",
      "448/448 [==============================] - 0s 63us/step - loss: 5.7210e-04 - accuracy: 1.0000\n",
      "Epoch 66/100\n",
      "448/448 [==============================] - 0s 66us/step - loss: 5.1201e-04 - accuracy: 1.0000\n",
      "Epoch 67/100\n",
      "448/448 [==============================] - 0s 63us/step - loss: 5.3162e-04 - accuracy: 1.0000\n",
      "Epoch 68/100\n",
      "448/448 [==============================] - 0s 59us/step - loss: 5.2705e-04 - accuracy: 1.0000\n",
      "Epoch 69/100\n",
      "448/448 [==============================] - 0s 61us/step - loss: 4.8150e-04 - accuracy: 1.0000\n",
      "Epoch 70/100\n",
      "448/448 [==============================] - 0s 64us/step - loss: 5.0169e-04 - accuracy: 1.0000\n",
      "Epoch 71/100\n",
      "448/448 [==============================] - 0s 60us/step - loss: 4.7096e-04 - accuracy: 1.0000\n",
      "Epoch 72/100\n",
      "448/448 [==============================] - 0s 61us/step - loss: 4.4432e-04 - accuracy: 1.0000\n",
      "Epoch 73/100\n",
      "448/448 [==============================] - 0s 60us/step - loss: 4.3065e-04 - accuracy: 1.0000\n",
      "Epoch 74/100\n",
      "448/448 [==============================] - 0s 62us/step - loss: 4.3252e-04 - accuracy: 1.0000\n",
      "Epoch 75/100\n",
      "448/448 [==============================] - 0s 59us/step - loss: 3.9517e-04 - accuracy: 1.0000\n",
      "Epoch 76/100\n",
      "448/448 [==============================] - 0s 60us/step - loss: 4.1144e-04 - accuracy: 1.0000\n",
      "Epoch 77/100\n",
      "448/448 [==============================] - 0s 59us/step - loss: 3.8794e-04 - accuracy: 1.0000\n",
      "Epoch 78/100\n",
      "448/448 [==============================] - 0s 63us/step - loss: 3.8222e-04 - accuracy: 1.0000\n",
      "Epoch 79/100\n"
     ]
    },
    {
     "name": "stdout",
     "output_type": "stream",
     "text": [
      "448/448 [==============================] - 0s 60us/step - loss: 3.6140e-04 - accuracy: 1.0000\n",
      "Epoch 80/100\n",
      "448/448 [==============================] - 0s 62us/step - loss: 3.7044e-04 - accuracy: 1.0000\n",
      "Epoch 81/100\n",
      "448/448 [==============================] - 0s 58us/step - loss: 3.5860e-04 - accuracy: 1.0000\n",
      "Epoch 82/100\n",
      "448/448 [==============================] - 0s 58us/step - loss: 3.4682e-04 - accuracy: 1.0000\n",
      "Epoch 83/100\n",
      "448/448 [==============================] - 0s 60us/step - loss: 3.3037e-04 - accuracy: 1.0000\n",
      "Epoch 84/100\n",
      "448/448 [==============================] - 0s 60us/step - loss: 3.0957e-04 - accuracy: 1.0000\n",
      "Epoch 85/100\n",
      "448/448 [==============================] - 0s 61us/step - loss: 2.9992e-04 - accuracy: 1.0000\n",
      "Epoch 86/100\n",
      "448/448 [==============================] - 0s 60us/step - loss: 3.1552e-04 - accuracy: 1.0000\n",
      "Epoch 87/100\n",
      "448/448 [==============================] - 0s 62us/step - loss: 2.9025e-04 - accuracy: 1.0000\n",
      "Epoch 88/100\n",
      "448/448 [==============================] - 0s 61us/step - loss: 3.0908e-04 - accuracy: 1.0000\n",
      "Epoch 89/100\n",
      "448/448 [==============================] - 0s 64us/step - loss: 2.8413e-04 - accuracy: 1.0000\n",
      "Epoch 90/100\n",
      "448/448 [==============================] - 0s 59us/step - loss: 2.7812e-04 - accuracy: 1.0000\n",
      "Epoch 91/100\n",
      "448/448 [==============================] - 0s 61us/step - loss: 2.7532e-04 - accuracy: 1.0000\n",
      "Epoch 92/100\n",
      "448/448 [==============================] - 0s 61us/step - loss: 2.5010e-04 - accuracy: 1.0000\n",
      "Epoch 93/100\n",
      "448/448 [==============================] - 0s 62us/step - loss: 2.6070e-04 - accuracy: 1.0000\n",
      "Epoch 94/100\n",
      "448/448 [==============================] - 0s 61us/step - loss: 2.6096e-04 - accuracy: 1.0000\n",
      "Epoch 95/100\n",
      "448/448 [==============================] - 0s 59us/step - loss: 2.4740e-04 - accuracy: 1.0000\n",
      "Epoch 96/100\n",
      "448/448 [==============================] - 0s 58us/step - loss: 2.3809e-04 - accuracy: 1.0000\n",
      "Epoch 97/100\n",
      "448/448 [==============================] - 0s 64us/step - loss: 2.4219e-04 - accuracy: 1.0000\n",
      "Epoch 98/100\n",
      "448/448 [==============================] - 0s 64us/step - loss: 2.2528e-04 - accuracy: 1.0000\n",
      "Epoch 99/100\n",
      "448/448 [==============================] - 0s 63us/step - loss: 2.3656e-04 - accuracy: 1.0000\n",
      "Epoch 100/100\n",
      "448/448 [==============================] - 0s 59us/step - loss: 2.2020e-04 - accuracy: 1.0000\n"
     ]
    }
   ],
   "source": [
    "progress = model.fit(x_train, y_train, batch_size=batch_size, epochs=nb_epochs)"
   ]
  },
  {
   "cell_type": "markdown",
   "metadata": {},
   "source": [
    "<h2>Analyse des résultats</h2>"
   ]
  },
  {
   "cell_type": "code",
   "execution_count": 419,
   "metadata": {},
   "outputs": [],
   "source": [
    "# art plastique du turfu featuring le poto matplotlib\n",
    "from matplotlib import pyplot as plt"
   ]
  },
  {
   "cell_type": "code",
   "execution_count": 420,
   "metadata": {},
   "outputs": [
    {
     "data": {
      "image/png": "[encoded data removed]",
      "text/plain": [
       "<Figure size 1440x720 with 2 Axes>"
      ]
     },
     "metadata": {
      "needs_background": "light"
     },
     "output_type": "display_data"
    }
   ],
   "source": [
    "figure, ax = plt.subplots(1, 2)\n",
    "figure.set_size_inches(20,10)\n",
    "\n",
    "ax[0].plot(progress.history[\"loss\"])\n",
    "\n",
    "ax[1].plot(progress.history[\"accuracy\"])\n",
    "\n",
    "plt.show()"
   ]
  },
  {
   "cell_type": "markdown",
   "metadata": {},
   "source": [
    "Ci dessus : mise en évidence que le nombre d'époques influe peu : le modèle devient très précis sur le dataset au bout de 20 époques"
   ]
  },
  {
   "cell_type": "code",
   "execution_count": 421,
   "metadata": {},
   "outputs": [],
   "source": [
    "dataframe = pd.concat([dataframe1, dataframe2])"
   ]
  },
  {
   "cell_type": "code",
   "execution_count": 434,
   "metadata": {},
   "outputs": [],
   "source": [
    "to_predict = dataframe2.sample(10000)"
   ]
  },
  {
   "cell_type": "code",
   "execution_count": 435,
   "metadata": {},
   "outputs": [],
   "source": [
    "X_test = to_predict[\"text\"]"
   ]
  },
  {
   "cell_type": "code",
   "execution_count": 436,
   "metadata": {},
   "outputs": [],
   "source": [
    "Y_test = to_predict[\"label\"]"
   ]
  },
  {
   "cell_type": "code",
   "execution_count": 437,
   "metadata": {},
   "outputs": [],
   "source": [
    "X_test = tokenizer.texts_to_sequences(X_test)\n",
    "X_test = pad_sequences(X_test, maxlen=maxlen)"
   ]
  },
  {
   "cell_type": "code",
   "execution_count": 438,
   "metadata": {},
   "outputs": [],
   "source": [
    "predictions = model.predict(X_test)\n",
    "\n",
    "threshold = 0.5 #la valeur du threshold n'a pas d'importance, les réseaux perceptrons ne fonctionnent pas sur ce problème\n",
    "predictions[predictions > threshold] = 1\n",
    "predictions[predictions <= threshold] = 0"
   ]
  },
  {
   "cell_type": "code",
   "execution_count": 439,
   "metadata": {},
   "outputs": [
    {
     "data": {
      "image/png": "[encoded data removed]",
      "text/plain": [
       "<Figure size 720x720 with 2 Axes>"
      ]
     },
     "metadata": {
      "needs_background": "light"
     },
     "output_type": "display_data"
    }
   ],
   "source": [
    "cm_plot_labels = [\"Vraie Info\", \"Fausse Info\"]\n",
    "cm = confusion_matrix(Y_test, predictions)\n",
    "plot_confusion_matrix(cm, cm_plot_labels)"
   ]
  },
  {
   "cell_type": "markdown",
   "metadata": {},
   "source": [
    "Cela démontre bien qu'un réseau perceptron n'est pas capable de généraliser la notion de fake news sur un dataset sur lequel il n'a pas été entraîné."
   ]
  }
 ],
 "metadata": {
  "kernelspec": {
   "display_name": "Python 3",
   "language": "python",
   "name": "python3"
  },
  "language_info": {
   "codemirror_mode": {
    "name": "ipython",
    "version": 3
   },
   "file_extension": ".py",
   "mimetype": "text/x-python",
   "name": "python",
   "nbconvert_exporter": "python",
   "pygments_lexer": "ipython3",
   "version": "3.7.7"
  }
 },
 "nbformat": 4,
 "nbformat_minor": 4
}
