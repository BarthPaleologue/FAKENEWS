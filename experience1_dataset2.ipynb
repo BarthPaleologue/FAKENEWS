{
 "cells": [
  {
   "cell_type": "code",
   "execution_count": 1,
   "metadata": {},
   "outputs": [
    {
     "name": "stderr",
     "output_type": "stream",
     "text": [
      "Using TensorFlow backend.\n"
     ]
    }
   ],
   "source": [
    "import pandas as pd\n",
    "import numpy as np\n",
    "\n",
    "from nltk.corpus import stopwords\n",
    "from sklearn.model_selection import train_test_split\n",
    "from keras.preprocessing.text import Tokenizer\n",
    "from keras.preprocessing.sequence import pad_sequences\n",
    "\n",
    "from sklearn.metrics import confusion_matrix\n",
    "import itertools\n",
    "from matplotlib import pyplot as plt\n",
    "\n",
    "from keras.models import Sequential\n",
    "from keras.layers import Conv2D, Dropout, Dense, Embedding, Flatten, Reshape\n",
    "from keras.optimizers import Adam"
   ]
  },
  {
   "cell_type": "code",
   "execution_count": 2,
   "metadata": {},
   "outputs": [],
   "source": [
    "def plot_confusion_matrix(cm, classes, cmap=plt.cm.Blues):\n",
    "\n",
    "    cm = cm.astype(\"float\") / cm.sum(axis=1)\n",
    "\n",
    "    plt.figure(figsize=(10,10))\n",
    "    plt.imshow(cm, interpolation=\"nearest\", cmap=cmap)\n",
    "    plt.colorbar()\n",
    "    tick_marks = np.arange(len(classes))\n",
    "    \n",
    "    plt.xticks(tick_marks, classes, fontsize=20, rotation=45)\n",
    "    plt.yticks(tick_marks, classes, fontsize=20)\n",
    "\n",
    "    for i, j in itertools.product(range(cm.shape[0]), range(cm.shape[1])):\n",
    "        color = \"white\" if cm[i,j] > 0.5 else \"black\"        \n",
    "        plt.text(j, i, format(cm[i, j], \".2f\"), horizontalalignment=\"center\", verticalalignment=\"center\", color=color, fontsize=40)\n",
    "\n",
    "    plt.ylabel(\"Correction\", fontsize=15)\n",
    "    plt.xlabel(\"Prédiction\", fontsize=15)"
   ]
  },
  {
   "cell_type": "markdown",
   "metadata": {},
   "source": [
    "<h1>Traitement des données</h1>"
   ]
  },
  {
   "cell_type": "code",
   "execution_count": 3,
   "metadata": {},
   "outputs": [],
   "source": [
    "# chargement des deux tables\n",
    "data = pd.read_csv(\"./dataset2/train.csv\")"
   ]
  },
  {
   "cell_type": "code",
   "execution_count": 4,
   "metadata": {},
   "outputs": [
    {
     "data": {
      "text/html": [
       "<div>\n",
       "<style scoped>\n",
       "    .dataframe tbody tr th:only-of-type {\n",
       "        vertical-align: middle;\n",
       "    }\n",
       "\n",
       "    .dataframe tbody tr th {\n",
       "        vertical-align: top;\n",
       "    }\n",
       "\n",
       "    .dataframe thead th {\n",
       "        text-align: right;\n",
       "    }\n",
       "</style>\n",
       "<table border=\"1\" class=\"dataframe\">\n",
       "  <thead>\n",
       "    <tr style=\"text-align: right;\">\n",
       "      <th></th>\n",
       "      <th>id</th>\n",
       "      <th>title</th>\n",
       "      <th>author</th>\n",
       "      <th>text</th>\n",
       "      <th>label</th>\n",
       "    </tr>\n",
       "  </thead>\n",
       "  <tbody>\n",
       "    <tr>\n",
       "      <th>15892</th>\n",
       "      <td>15892</td>\n",
       "      <td>Falcons Take Advantage of Seattle’s Stumble an...</td>\n",
       "      <td>Ken Belson</td>\n",
       "      <td>ATLANTA  —   In the playoffs, when the best te...</td>\n",
       "      <td>0</td>\n",
       "    </tr>\n",
       "    <tr>\n",
       "      <th>14447</th>\n",
       "      <td>14447</td>\n",
       "      <td>Aspartame Corporation Searle Created First Bir...</td>\n",
       "      <td>Michael</td>\n",
       "      <td>By Cassius Kamarampi (Era of Wisdom) Did you k...</td>\n",
       "      <td>1</td>\n",
       "    </tr>\n",
       "    <tr>\n",
       "      <th>3736</th>\n",
       "      <td>3736</td>\n",
       "      <td>Richard Simmons Signs With Licensing Firm. Is ...</td>\n",
       "      <td>Sopan Deb</td>\n",
       "      <td>Richard Simmons, the reclusive fitness mogul w...</td>\n",
       "      <td>0</td>\n",
       "    </tr>\n",
       "    <tr>\n",
       "      <th>20475</th>\n",
       "      <td>20475</td>\n",
       "      <td>Daily Mail Compares 2 U.K. Leaders — Their Leg...</td>\n",
       "      <td>Sewell Chan</td>\n",
       "      <td>LONDON  —   Britain’s prime minister and Scotl...</td>\n",
       "      <td>0</td>\n",
       "    </tr>\n",
       "    <tr>\n",
       "      <th>16535</th>\n",
       "      <td>16535</td>\n",
       "      <td>Unrelenting Assault on Aleppo Is Called Worst ...</td>\n",
       "      <td>Rick Gladstone and Somini Sengupta</td>\n",
       "      <td>Undeterred and infuriated by Western accusatio...</td>\n",
       "      <td>0</td>\n",
       "    </tr>\n",
       "  </tbody>\n",
       "</table>\n",
       "</div>"
      ],
      "text/plain": [
       "          id                                              title  \\\n",
       "15892  15892  Falcons Take Advantage of Seattle’s Stumble an...   \n",
       "14447  14447  Aspartame Corporation Searle Created First Bir...   \n",
       "3736    3736  Richard Simmons Signs With Licensing Firm. Is ...   \n",
       "20475  20475  Daily Mail Compares 2 U.K. Leaders — Their Leg...   \n",
       "16535  16535  Unrelenting Assault on Aleppo Is Called Worst ...   \n",
       "\n",
       "                                   author  \\\n",
       "15892                          Ken Belson   \n",
       "14447                             Michael   \n",
       "3736                            Sopan Deb   \n",
       "20475                         Sewell Chan   \n",
       "16535  Rick Gladstone and Somini Sengupta   \n",
       "\n",
       "                                                    text  label  \n",
       "15892  ATLANTA  —   In the playoffs, when the best te...      0  \n",
       "14447  By Cassius Kamarampi (Era of Wisdom) Did you k...      1  \n",
       "3736   Richard Simmons, the reclusive fitness mogul w...      0  \n",
       "20475  LONDON  —   Britain’s prime minister and Scotl...      0  \n",
       "16535  Undeterred and infuriated by Western accusatio...      0  "
      ]
     },
     "execution_count": 4,
     "metadata": {},
     "output_type": "execute_result"
    }
   ],
   "source": [
    "data.sample(5)"
   ]
  },
  {
   "cell_type": "code",
   "execution_count": 5,
   "metadata": {},
   "outputs": [
    {
     "name": "stdout",
     "output_type": "stream",
     "text": [
      "Nombre de références : 20242\n"
     ]
    }
   ],
   "source": [
    "print(f\"Nombre de références : {data.title.count()}\")"
   ]
  },
  {
   "cell_type": "code",
   "execution_count": 6,
   "metadata": {},
   "outputs": [],
   "source": [
    "# ici on ne s'intéresse qu'au titre et au label\n",
    "del data[\"id\"]\n",
    "del data[\"author\"]\n",
    "del data[\"text\"]"
   ]
  },
  {
   "cell_type": "code",
   "execution_count": 7,
   "metadata": {},
   "outputs": [
    {
     "data": {
      "text/html": [
       "<div>\n",
       "<style scoped>\n",
       "    .dataframe tbody tr th:only-of-type {\n",
       "        vertical-align: middle;\n",
       "    }\n",
       "\n",
       "    .dataframe tbody tr th {\n",
       "        vertical-align: top;\n",
       "    }\n",
       "\n",
       "    .dataframe thead th {\n",
       "        text-align: right;\n",
       "    }\n",
       "</style>\n",
       "<table border=\"1\" class=\"dataframe\">\n",
       "  <thead>\n",
       "    <tr style=\"text-align: right;\">\n",
       "      <th></th>\n",
       "      <th>title</th>\n",
       "      <th>label</th>\n",
       "    </tr>\n",
       "  </thead>\n",
       "  <tbody>\n",
       "    <tr>\n",
       "      <th>16849</th>\n",
       "      <td>Trump whistles his dogs | Intrepid Report.com</td>\n",
       "      <td>1</td>\n",
       "    </tr>\n",
       "    <tr>\n",
       "      <th>6326</th>\n",
       "      <td>Why Are So Many People Popping Vitamin D? - Th...</td>\n",
       "      <td>0</td>\n",
       "    </tr>\n",
       "    <tr>\n",
       "      <th>9797</th>\n",
       "      <td>Why Did They Vote For Trump?</td>\n",
       "      <td>1</td>\n",
       "    </tr>\n",
       "    <tr>\n",
       "      <th>13339</th>\n",
       "      <td>Ireland Doesn’t Want Apple’s Back Taxes, but t...</td>\n",
       "      <td>0</td>\n",
       "    </tr>\n",
       "    <tr>\n",
       "      <th>3429</th>\n",
       "      <td>Authorities Evacuate Almost 5,600 Migrants Fro...</td>\n",
       "      <td>1</td>\n",
       "    </tr>\n",
       "    <tr>\n",
       "      <th>5734</th>\n",
       "      <td>What These 3 Parts In The Little Finger Mean…....</td>\n",
       "      <td>1</td>\n",
       "    </tr>\n",
       "    <tr>\n",
       "      <th>13993</th>\n",
       "      <td>Full Transcript and Video: Trump Picks Neil Go...</td>\n",
       "      <td>0</td>\n",
       "    </tr>\n",
       "    <tr>\n",
       "      <th>11963</th>\n",
       "      <td>EXCLUSIVE -- Roger Stone’s ‘The Making of the ...</td>\n",
       "      <td>0</td>\n",
       "    </tr>\n",
       "    <tr>\n",
       "      <th>9889</th>\n",
       "      <td>Donald Trump Will Be 70 Years, 7 Months And 7 ...</td>\n",
       "      <td>1</td>\n",
       "    </tr>\n",
       "    <tr>\n",
       "      <th>9441</th>\n",
       "      <td>Ever Heard of CAPTAGON? The Drug of the ISIS T...</td>\n",
       "      <td>1</td>\n",
       "    </tr>\n",
       "  </tbody>\n",
       "</table>\n",
       "</div>"
      ],
      "text/plain": [
       "                                                   title  label\n",
       "16849      Trump whistles his dogs | Intrepid Report.com      1\n",
       "6326   Why Are So Many People Popping Vitamin D? - Th...      0\n",
       "9797                        Why Did They Vote For Trump?      1\n",
       "13339  Ireland Doesn’t Want Apple’s Back Taxes, but t...      0\n",
       "3429   Authorities Evacuate Almost 5,600 Migrants Fro...      1\n",
       "5734   What These 3 Parts In The Little Finger Mean…....      1\n",
       "13993  Full Transcript and Video: Trump Picks Neil Go...      0\n",
       "11963  EXCLUSIVE -- Roger Stone’s ‘The Making of the ...      0\n",
       "9889   Donald Trump Will Be 70 Years, 7 Months And 7 ...      1\n",
       "9441   Ever Heard of CAPTAGON? The Drug of the ISIS T...      1"
      ]
     },
     "execution_count": 7,
     "metadata": {},
     "output_type": "execute_result"
    }
   ],
   "source": [
    "data.sample(10)"
   ]
  },
  {
   "cell_type": "code",
   "execution_count": 8,
   "metadata": {},
   "outputs": [
    {
     "data": {
      "text/html": [
       "<div>\n",
       "<style scoped>\n",
       "    .dataframe tbody tr th:only-of-type {\n",
       "        vertical-align: middle;\n",
       "    }\n",
       "\n",
       "    .dataframe tbody tr th {\n",
       "        vertical-align: top;\n",
       "    }\n",
       "\n",
       "    .dataframe thead th {\n",
       "        text-align: right;\n",
       "    }\n",
       "</style>\n",
       "<table border=\"1\" class=\"dataframe\">\n",
       "  <thead>\n",
       "    <tr style=\"text-align: right;\">\n",
       "      <th></th>\n",
       "      <th>title</th>\n",
       "      <th>label</th>\n",
       "    </tr>\n",
       "  </thead>\n",
       "  <tbody>\n",
       "    <tr>\n",
       "      <th>9765</th>\n",
       "      <td>Economists Still Opposed Trumps Economic Natio...</td>\n",
       "      <td>0</td>\n",
       "    </tr>\n",
       "    <tr>\n",
       "      <th>9334</th>\n",
       "      <td>Twitter Users Mock Hillary Clinton For Wishing...</td>\n",
       "      <td>1</td>\n",
       "    </tr>\n",
       "    <tr>\n",
       "      <th>20118</th>\n",
       "      <td>The Trump Ploy</td>\n",
       "      <td>1</td>\n",
       "    </tr>\n",
       "    <tr>\n",
       "      <th>4897</th>\n",
       "      <td>Report Obama Gave $221 Million Palestinians La...</td>\n",
       "      <td>0</td>\n",
       "    </tr>\n",
       "    <tr>\n",
       "      <th>6434</th>\n",
       "      <td>La Russie la Chine et lArabie saoudite mettent...</td>\n",
       "      <td>1</td>\n",
       "    </tr>\n",
       "    <tr>\n",
       "      <th>2066</th>\n",
       "      <td>This Is No New Cold War Its Far Worse Than That</td>\n",
       "      <td>1</td>\n",
       "    </tr>\n",
       "    <tr>\n",
       "      <th>10067</th>\n",
       "      <td>Senate Democrats Block Zika Bill Over Planned ...</td>\n",
       "      <td>0</td>\n",
       "    </tr>\n",
       "    <tr>\n",
       "      <th>13133</th>\n",
       "      <td>Turkeys Erdogan Rebukes Lawmakers Over LegBiti...</td>\n",
       "      <td>0</td>\n",
       "    </tr>\n",
       "    <tr>\n",
       "      <th>4971</th>\n",
       "      <td>A lawyer explains Ariel could got contract Urs...</td>\n",
       "      <td>1</td>\n",
       "    </tr>\n",
       "    <tr>\n",
       "      <th>4190</th>\n",
       "      <td>Limbaugh Fantasy Trump Working With Democrats ...</td>\n",
       "      <td>0</td>\n",
       "    </tr>\n",
       "  </tbody>\n",
       "</table>\n",
       "</div>"
      ],
      "text/plain": [
       "                                                   title  label\n",
       "9765   Economists Still Opposed Trumps Economic Natio...      0\n",
       "9334   Twitter Users Mock Hillary Clinton For Wishing...      1\n",
       "20118                                     The Trump Ploy      1\n",
       "4897   Report Obama Gave $221 Million Palestinians La...      0\n",
       "6434   La Russie la Chine et lArabie saoudite mettent...      1\n",
       "2066     This Is No New Cold War Its Far Worse Than That      1\n",
       "10067  Senate Democrats Block Zika Bill Over Planned ...      0\n",
       "13133  Turkeys Erdogan Rebukes Lawmakers Over LegBiti...      0\n",
       "4971   A lawyer explains Ariel could got contract Urs...      1\n",
       "4190   Limbaugh Fantasy Trump Working With Democrats ...      0"
      ]
     },
     "execution_count": 8,
     "metadata": {},
     "output_type": "execute_result"
    }
   ],
   "source": [
    "# nettoyage des données (ponctuations)\n",
    "\n",
    "stopWords = set(stopwords.words(\"english\"))\n",
    "\n",
    "def cleanText(text):\n",
    "    forbidden = {\",\",\"@\",\";\",\"/\",\"-\",\":\",\".\",\"!\",\"?\", \"#\",\"\\\"\",\"(\",\")\",\"\\'\",\"’\",\"‘\",\"–\"}\n",
    "    res = str(text)\n",
    "    if res != None:\n",
    "        for elm in forbidden:\n",
    "            res = res.replace(elm, \"\")\n",
    "        res = res.split()\n",
    "        cleaned = []\n",
    "        for word in res:\n",
    "            if not word in stopWords:\n",
    "                cleaned.append(word)\n",
    "        res = \" \".join(cleaned)\n",
    "    return res\n",
    "\n",
    "data[\"title\"] = data[\"title\"].apply(cleanText)\n",
    "\n",
    "data.sample(10)"
   ]
  },
  {
   "cell_type": "code",
   "execution_count": 9,
   "metadata": {},
   "outputs": [
    {
     "name": "stdout",
     "output_type": "stream",
     "text": [
      "Données d'entrainement : 15600\n",
      "Données de test : 5200\n"
     ]
    }
   ],
   "source": [
    "# on sépare les données en données d'entraînement et données de test (80% et 20%)\n",
    "x_train, x_test, y_train, y_test = train_test_split(data[\"title\"], data[\"label\"], test_size=0.25, random_state = 42)\n",
    "print(f\"Données d'entrainement : {len(x_train)}\")\n",
    "print(f\"Données de test : {len(x_test)}\")"
   ]
  },
  {
   "cell_type": "code",
   "execution_count": 10,
   "metadata": {},
   "outputs": [
    {
     "data": {
      "text/plain": [
       "3788     Donald Trumps Secret Weapon Letters Love Flatt...\n",
       "11724    Can Cities Sue Banks Over Predatory Loans Supr...\n",
       "9409     John Carney Economic Indicators Demonstrate Co...\n",
       "1276     So ein Ärger Obama hat über Nacht sämtliche At...\n",
       "14322    Biden Implies Trump Legitimized Hate Speech Ra...\n",
       "                               ...                        \n",
       "11284    TRUMP SUPPORTER GOT NUTS On MSNBC Reporter Cov...\n",
       "11964    Watch Megyn Kelly almost cry air Trump took le...\n",
       "5390     How Pay College With Less Stress The New York ...\n",
       "860               Russian scientists track sea lions space\n",
       "15795    Heseltine strangled dog part Thatcher cabinet ...\n",
       "Name: title, Length: 15600, dtype: object"
      ]
     },
     "execution_count": 10,
     "metadata": {},
     "output_type": "execute_result"
    }
   ],
   "source": [
    "x_train"
   ]
  },
  {
   "cell_type": "code",
   "execution_count": 11,
   "metadata": {},
   "outputs": [],
   "source": [
    "max_features = 10000 # taille max du vocab\n",
    "maxlen = 30 # taille max de séquence"
   ]
  },
  {
   "cell_type": "code",
   "execution_count": 12,
   "metadata": {},
   "outputs": [],
   "source": [
    "# vectorisation naïve en \"one-hot\"\n",
    "tokenizer = Tokenizer(num_words=max_features)\n",
    "tokenizer.fit_on_texts(x_train)"
   ]
  },
  {
   "cell_type": "code",
   "execution_count": 13,
   "metadata": {},
   "outputs": [],
   "source": [
    "# vectorisation des données d'entraînement\n",
    "x_train = tokenizer.texts_to_sequences(x_train)\n",
    "x_train = pad_sequences(x_train, maxlen=maxlen)"
   ]
  },
  {
   "cell_type": "code",
   "execution_count": 14,
   "metadata": {},
   "outputs": [],
   "source": [
    "# vectorisation des données de test\n",
    "x_test = tokenizer.texts_to_sequences(x_test)\n",
    "x_test = pad_sequences(x_test, maxlen=maxlen)"
   ]
  },
  {
   "cell_type": "code",
   "execution_count": 15,
   "metadata": {},
   "outputs": [],
   "source": [
    "batch_size = 256\n",
    "nb_epochs = 10\n",
    "embedded_dim = 100"
   ]
  },
  {
   "cell_type": "code",
   "execution_count": 16,
   "metadata": {},
   "outputs": [
    {
     "name": "stdout",
     "output_type": "stream",
     "text": [
      "Model: \"sequential_1\"\n",
      "_________________________________________________________________\n",
      "Layer (type)                 Output Shape              Param #   \n",
      "=================================================================\n",
      "embedding_1 (Embedding)      (None, 30, 100)           1000000   \n",
      "_________________________________________________________________\n",
      "reshape_1 (Reshape)          (None, 1, 30, 100)        0         \n",
      "_________________________________________________________________\n",
      "conv2d_1 (Conv2D)            (None, 1, 30, 64)         19264     \n",
      "_________________________________________________________________\n",
      "dropout_1 (Dropout)          (None, 1, 30, 64)         0         \n",
      "_________________________________________________________________\n",
      "conv2d_2 (Conv2D)            (None, 1, 30, 32)         6176      \n",
      "_________________________________________________________________\n",
      "flatten_1 (Flatten)          (None, 960)               0         \n",
      "_________________________________________________________________\n",
      "dense_1 (Dense)              (None, 1)                 961       \n",
      "=================================================================\n",
      "Total params: 1,026,401\n",
      "Trainable params: 1,026,401\n",
      "Non-trainable params: 0\n",
      "_________________________________________________________________\n"
     ]
    }
   ],
   "source": [
    "model = Sequential()\n",
    "model.add(Embedding(max_features, output_dim=embedded_dim, input_length=maxlen, trainable=True))\n",
    "model.add(Reshape((1, 30, 100)))\n",
    "model.add(Conv2D(64, (3, 1), padding=\"same\"))\n",
    "model.add(Dropout(0.1))\n",
    "model.add(Conv2D(32, (3, 1), padding=\"same\"))\n",
    "model.add(Flatten())\n",
    "model.add(Dense(1, activation=\"sigmoid\"))\n",
    "model.compile(loss=\"binary_crossentropy\", optimizer=Adam(lr=0.0002), metrics=[\"accuracy\"])\n",
    "model.summary()"
   ]
  },
  {
   "cell_type": "code",
   "execution_count": 17,
   "metadata": {},
   "outputs": [
    {
     "name": "stderr",
     "output_type": "stream",
     "text": [
      "C:\\Users\\Shadow\\AppData\\Roaming\\Python\\Python37\\site-packages\\tensorflow\\python\\framework\\indexed_slices.py:434: UserWarning: Converting sparse IndexedSlices to a dense Tensor of unknown shape. This may consume a large amount of memory.\n",
      "  \"Converting sparse IndexedSlices to a dense Tensor of unknown shape. \"\n"
     ]
    },
    {
     "name": "stdout",
     "output_type": "stream",
     "text": [
      "Train on 15600 samples, validate on 5200 samples\n",
      "Epoch 1/10\n",
      "15600/15600 [==============================] - 3s 177us/step - loss: 0.6748 - accuracy: 0.7626 - val_loss: 0.6444 - val_accuracy: 0.7975\n",
      "Epoch 2/10\n",
      "15600/15600 [==============================] - 1s 41us/step - loss: 0.5723 - accuracy: 0.8255 - val_loss: 0.4699 - val_accuracy: 0.8273\n",
      "Epoch 3/10\n",
      "15600/15600 [==============================] - 1s 37us/step - loss: 0.3702 - accuracy: 0.8744 - val_loss: 0.2961 - val_accuracy: 0.8990\n",
      "Epoch 4/10\n",
      "15600/15600 [==============================] - 1s 35us/step - loss: 0.2268 - accuracy: 0.9185 - val_loss: 0.2185 - val_accuracy: 0.9115\n",
      "Epoch 5/10\n",
      "15600/15600 [==============================] - 1s 36us/step - loss: 0.1596 - accuracy: 0.9354 - val_loss: 0.1927 - val_accuracy: 0.9169\n",
      "Epoch 6/10\n",
      "15600/15600 [==============================] - 1s 35us/step - loss: 0.1186 - accuracy: 0.9567 - val_loss: 0.1785 - val_accuracy: 0.9256\n",
      "Epoch 7/10\n",
      "15600/15600 [==============================] - 1s 34us/step - loss: 0.0883 - accuracy: 0.9714 - val_loss: 0.1745 - val_accuracy: 0.9285\n",
      "Epoch 8/10\n",
      "15600/15600 [==============================] - 1s 35us/step - loss: 0.0665 - accuracy: 0.9801 - val_loss: 0.1746 - val_accuracy: 0.9317\n",
      "Epoch 9/10\n",
      "15600/15600 [==============================] - 1s 39us/step - loss: 0.0497 - accuracy: 0.9876 - val_loss: 0.1788 - val_accuracy: 0.9315\n",
      "Epoch 10/10\n",
      "15600/15600 [==============================] - 1s 35us/step - loss: 0.0375 - accuracy: 0.9908 - val_loss: 0.1853 - val_accuracy: 0.9333\n"
     ]
    }
   ],
   "source": [
    "progress = model.fit(x_train, y_train, batch_size=batch_size, epochs=nb_epochs, validation_data=(x_test, y_test))"
   ]
  },
  {
   "cell_type": "code",
   "execution_count": 18,
   "metadata": {},
   "outputs": [],
   "source": [
    "model.save(\"confirmation.h5\")"
   ]
  },
  {
   "cell_type": "code",
   "execution_count": 19,
   "metadata": {},
   "outputs": [],
   "source": [
    "# art plastique du turfu featuring le poto matplotlib\n",
    "from matplotlib import pyplot as plt"
   ]
  },
  {
   "cell_type": "code",
   "execution_count": 20,
   "metadata": {},
   "outputs": [
    {
     "data": {
      "image/png": "[encoded data removed]",
      "text/plain": [
       "<Figure size 1440x720 with 2 Axes>"
      ]
     },
     "metadata": {
      "needs_background": "light"
     },
     "output_type": "display_data"
    }
   ],
   "source": [
    "figure, ax = plt.subplots(1, 2)\n",
    "figure.set_size_inches(20,10)\n",
    "\n",
    "ax[0].plot(progress.history[\"loss\"])\n",
    "\n",
    "ax[1].plot(progress.history[\"accuracy\"])\n",
    "\n",
    "plt.show()"
   ]
  },
  {
   "cell_type": "code",
   "execution_count": 21,
   "metadata": {},
   "outputs": [],
   "source": [
    "to_predict = data"
   ]
  },
  {
   "cell_type": "code",
   "execution_count": 22,
   "metadata": {},
   "outputs": [
    {
     "data": {
      "text/plain": [
       "0        House Dem Aide We Didnt Even See Comeys Letter...\n",
       "1         FLYNN Hillary Clinton Big Woman Campus Breitbart\n",
       "2                            Why Truth Might Get You Fired\n",
       "3        15 Civilians Killed In Single US Airstrike Hav...\n",
       "4        Iranian woman jailed fictional unpublished sto...\n",
       "                               ...                        \n",
       "20795     Rapper TI Trump Poster Child For White Supremacy\n",
       "20796    NFL Playoffs Schedule Matchups Odds The New Yo...\n",
       "20797    Macys Is Said Receive Takeover Approach Hudson...\n",
       "20798    NATO Russia To Hold Parallel Exercises In Balkans\n",
       "20799                                 What Keeps F35 Alive\n",
       "Name: title, Length: 20800, dtype: object"
      ]
     },
     "execution_count": 22,
     "metadata": {},
     "output_type": "execute_result"
    }
   ],
   "source": [
    "X_test = to_predict[\"title\"]\n",
    "X_test"
   ]
  },
  {
   "cell_type": "code",
   "execution_count": 23,
   "metadata": {},
   "outputs": [
    {
     "data": {
      "text/plain": [
       "0        1\n",
       "1        0\n",
       "2        1\n",
       "3        1\n",
       "4        1\n",
       "        ..\n",
       "20795    0\n",
       "20796    0\n",
       "20797    0\n",
       "20798    1\n",
       "20799    1\n",
       "Name: label, Length: 20800, dtype: int64"
      ]
     },
     "execution_count": 23,
     "metadata": {},
     "output_type": "execute_result"
    }
   ],
   "source": [
    "Y_test = to_predict[\"label\"]\n",
    "Y_test"
   ]
  },
  {
   "cell_type": "code",
   "execution_count": 24,
   "metadata": {},
   "outputs": [
    {
     "data": {
      "text/plain": [
       "array([   0,    0,    0,    0,    0,    0,    0,    0,    0,    0,    0,\n",
       "          0,    0,    0,    0,    0,    0,   61,  748, 1210,   65,  653,\n",
       "        313,  335, 1337,  652, 1532, 1702, 4093,   29])"
      ]
     },
     "execution_count": 24,
     "metadata": {},
     "output_type": "execute_result"
    }
   ],
   "source": [
    "X_test = tokenizer.texts_to_sequences(X_test)\n",
    "X_test = pad_sequences(X_test, maxlen=maxlen)\n",
    "X_test[0]"
   ]
  },
  {
   "cell_type": "code",
   "execution_count": 25,
   "metadata": {},
   "outputs": [],
   "source": [
    "predictions = model.predict(X_test)"
   ]
  },
  {
   "cell_type": "code",
   "execution_count": 26,
   "metadata": {},
   "outputs": [
    {
     "data": {
      "image/png": "[encoded data removed]",
      "text/plain": [
       "<Figure size 720x720 with 2 Axes>"
      ]
     },
     "metadata": {
      "needs_background": "light"
     },
     "output_type": "display_data"
    }
   ],
   "source": [
    "cm_plot_labels = [\"Vraie Info\",\"Fausse Info\"]\n",
    "cm = confusion_matrix(Y_test, np.round(predictions))\n",
    "plot_confusion_matrix(cm, cm_plot_labels)"
   ]
  },
  {
   "cell_type": "code",
   "execution_count": null,
   "metadata": {},
   "outputs": [],
   "source": []
  },
  {
   "cell_type": "code",
   "execution_count": 27,
   "metadata": {},
   "outputs": [
    {
     "data": {
      "text/plain": [
       "array([[   0,    0,    0, ..., 1702, 4093,   29],\n",
       "       [   0,    0,    0, ...,  160, 1119,    6],\n",
       "       [   0,    0,    0, ...,  100,   32,  973],\n",
       "       ...,\n",
       "       [   0,    0,    0, ...,    2,    3,    4],\n",
       "       [   0,    0,    0, ...,  872,   13, 9771],\n",
       "       [   0,    0,    0, ..., 1530, 7100, 1234]])"
      ]
     },
     "execution_count": 27,
     "metadata": {},
     "output_type": "execute_result"
    }
   ],
   "source": [
    "X_test"
   ]
  },
  {
   "cell_type": "code",
   "execution_count": 28,
   "metadata": {},
   "outputs": [
    {
     "data": {
      "text/html": [
       "<div>\n",
       "<style scoped>\n",
       "    .dataframe tbody tr th:only-of-type {\n",
       "        vertical-align: middle;\n",
       "    }\n",
       "\n",
       "    .dataframe tbody tr th {\n",
       "        vertical-align: top;\n",
       "    }\n",
       "\n",
       "    .dataframe thead th {\n",
       "        text-align: right;\n",
       "    }\n",
       "</style>\n",
       "<table border=\"1\" class=\"dataframe\">\n",
       "  <thead>\n",
       "    <tr style=\"text-align: right;\">\n",
       "      <th></th>\n",
       "      <th>id</th>\n",
       "      <th>title</th>\n",
       "      <th>author</th>\n",
       "      <th>text</th>\n",
       "    </tr>\n",
       "  </thead>\n",
       "  <tbody>\n",
       "    <tr>\n",
       "      <th>1028</th>\n",
       "      <td>21828</td>\n",
       "      <td>Warning: They’re All Out Today</td>\n",
       "      <td>Gerry McBride</td>\n",
       "      <td>We Use Cookies: Our policy [X] Warning: They’r...</td>\n",
       "    </tr>\n",
       "    <tr>\n",
       "      <th>1856</th>\n",
       "      <td>22656</td>\n",
       "      <td>Only in Palm Beach: The $95 Million Tear-Down ...</td>\n",
       "      <td>Robert Frank</td>\n",
       "      <td>In 2008, Donald Trump sold a Palm Beach, Fla. ...</td>\n",
       "    </tr>\n",
       "    <tr>\n",
       "      <th>1155</th>\n",
       "      <td>21955</td>\n",
       "      <td>DEA Official Spills The Beans on The Clinton F...</td>\n",
       "      <td>Eddy Lavine</td>\n",
       "      <td>posted by Eddie Without much comment or fanfar...</td>\n",
       "    </tr>\n",
       "    <tr>\n",
       "      <th>3817</th>\n",
       "      <td>24617</td>\n",
       "      <td>William Bratton, New York’s Influential Police...</td>\n",
       "      <td>J. David Goodman and Al Baker</td>\n",
       "      <td>William J. Bratton, the commissioner of the Ne...</td>\n",
       "    </tr>\n",
       "    <tr>\n",
       "      <th>2608</th>\n",
       "      <td>23408</td>\n",
       "      <td>How Western Media Teleported a Child 'Victim' ...</td>\n",
       "      <td>NaN</td>\n",
       "      <td>How Western Media Teleported a Child 'Victim' ...</td>\n",
       "    </tr>\n",
       "    <tr>\n",
       "      <th>925</th>\n",
       "      <td>21725</td>\n",
       "      <td>The Hostility and Hypocrisy of Left-Wing Israe...</td>\n",
       "      <td>Noah Beck</td>\n",
       "      <td>The Hostility and Hypocrisy of Left-Wing Israe...</td>\n",
       "    </tr>\n",
       "    <tr>\n",
       "      <th>1475</th>\n",
       "      <td>22275</td>\n",
       "      <td>How Population Growth, Industrial Agriculture ...</td>\n",
       "      <td>Kshatriya Indransha</td>\n",
       "      <td>How Population Growth, Industrial Agricultur...</td>\n",
       "    </tr>\n",
       "    <tr>\n",
       "      <th>910</th>\n",
       "      <td>21710</td>\n",
       "      <td>Serena Williams Beats Venus Williams to Win He...</td>\n",
       "      <td>Christopher Clarey</td>\n",
       "      <td>MELBOURNE, Australia  —   Serena Williams was ...</td>\n",
       "    </tr>\n",
       "    <tr>\n",
       "      <th>1446</th>\n",
       "      <td>22246</td>\n",
       "      <td>VIRGIL: The Environmental Protection Agency --...</td>\n",
       "      <td>Virgil</td>\n",
       "      <td>Everyone’s talking about the Deep State now.  ...</td>\n",
       "    </tr>\n",
       "    <tr>\n",
       "      <th>1071</th>\n",
       "      <td>21871</td>\n",
       "      <td>Fox Losing More Advertisers After Sexual Haras...</td>\n",
       "      <td>Emily Steel and Michael S. Schmidt</td>\n",
       "      <td>Pressure mounted on Tuesday for Fox News to ta...</td>\n",
       "    </tr>\n",
       "  </tbody>\n",
       "</table>\n",
       "</div>"
      ],
      "text/plain": [
       "         id                                              title  \\\n",
       "1028  21828                     Warning: They’re All Out Today   \n",
       "1856  22656  Only in Palm Beach: The $95 Million Tear-Down ...   \n",
       "1155  21955  DEA Official Spills The Beans on The Clinton F...   \n",
       "3817  24617  William Bratton, New York’s Influential Police...   \n",
       "2608  23408  How Western Media Teleported a Child 'Victim' ...   \n",
       "925   21725  The Hostility and Hypocrisy of Left-Wing Israe...   \n",
       "1475  22275  How Population Growth, Industrial Agriculture ...   \n",
       "910   21710  Serena Williams Beats Venus Williams to Win He...   \n",
       "1446  22246  VIRGIL: The Environmental Protection Agency --...   \n",
       "1071  21871  Fox Losing More Advertisers After Sexual Haras...   \n",
       "\n",
       "                                  author  \\\n",
       "1028                       Gerry McBride   \n",
       "1856                        Robert Frank   \n",
       "1155                         Eddy Lavine   \n",
       "3817       J. David Goodman and Al Baker   \n",
       "2608                                 NaN   \n",
       "925                            Noah Beck   \n",
       "1475                 Kshatriya Indransha   \n",
       "910                   Christopher Clarey   \n",
       "1446                              Virgil   \n",
       "1071  Emily Steel and Michael S. Schmidt   \n",
       "\n",
       "                                                   text  \n",
       "1028  We Use Cookies: Our policy [X] Warning: They’r...  \n",
       "1856  In 2008, Donald Trump sold a Palm Beach, Fla. ...  \n",
       "1155  posted by Eddie Without much comment or fanfar...  \n",
       "3817  William J. Bratton, the commissioner of the Ne...  \n",
       "2608  How Western Media Teleported a Child 'Victim' ...  \n",
       "925   The Hostility and Hypocrisy of Left-Wing Israe...  \n",
       "1475    How Population Growth, Industrial Agricultur...  \n",
       "910   MELBOURNE, Australia  —   Serena Williams was ...  \n",
       "1446  Everyone’s talking about the Deep State now.  ...  \n",
       "1071  Pressure mounted on Tuesday for Fox News to ta...  "
      ]
     },
     "execution_count": 28,
     "metadata": {},
     "output_type": "execute_result"
    }
   ],
   "source": [
    "test_data = pd.read_csv(\"./dataset2/test.csv\")\n",
    "test_data.sample(10)"
   ]
  },
  {
   "cell_type": "code",
   "execution_count": 29,
   "metadata": {},
   "outputs": [
    {
     "data": {
      "text/html": [
       "<div>\n",
       "<style scoped>\n",
       "    .dataframe tbody tr th:only-of-type {\n",
       "        vertical-align: middle;\n",
       "    }\n",
       "\n",
       "    .dataframe tbody tr th {\n",
       "        vertical-align: top;\n",
       "    }\n",
       "\n",
       "    .dataframe thead th {\n",
       "        text-align: right;\n",
       "    }\n",
       "</style>\n",
       "<table border=\"1\" class=\"dataframe\">\n",
       "  <thead>\n",
       "    <tr style=\"text-align: right;\">\n",
       "      <th></th>\n",
       "      <th>id</th>\n",
       "      <th>title</th>\n",
       "    </tr>\n",
       "  </thead>\n",
       "  <tbody>\n",
       "    <tr>\n",
       "      <th>855</th>\n",
       "      <td>21655</td>\n",
       "      <td>WATCH - NY Assemblyman to Linda Sarsour: Expla...</td>\n",
       "    </tr>\n",
       "    <tr>\n",
       "      <th>3325</th>\n",
       "      <td>24125</td>\n",
       "      <td>Senior Lawyers Demand Action to Replace White ...</td>\n",
       "    </tr>\n",
       "    <tr>\n",
       "      <th>65</th>\n",
       "      <td>20865</td>\n",
       "      <td>Hillary Clinton’s Gun Control Agenda Exposed i...</td>\n",
       "    </tr>\n",
       "    <tr>\n",
       "      <th>4343</th>\n",
       "      <td>25143</td>\n",
       "      <td>Smart Meter Case Testimony Before the Pennsylv...</td>\n",
       "    </tr>\n",
       "    <tr>\n",
       "      <th>4276</th>\n",
       "      <td>25076</td>\n",
       "      <td>For Leaders of U.S. Allies, Getting Close to T...</td>\n",
       "    </tr>\n",
       "    <tr>\n",
       "      <th>486</th>\n",
       "      <td>21286</td>\n",
       "      <td>In Just 11 Days Scientists Destroyed Breast Ca...</td>\n",
       "    </tr>\n",
       "    <tr>\n",
       "      <th>2438</th>\n",
       "      <td>23238</td>\n",
       "      <td>Worn Hillary Resurfaces: “Deeply Disappointed ...</td>\n",
       "    </tr>\n",
       "    <tr>\n",
       "      <th>2988</th>\n",
       "      <td>23788</td>\n",
       "      <td>Can We Ignore the Alarm Bells the Bond Market ...</td>\n",
       "    </tr>\n",
       "    <tr>\n",
       "      <th>5074</th>\n",
       "      <td>25874</td>\n",
       "      <td>MUFON International tracking multiple triangle...</td>\n",
       "    </tr>\n",
       "    <tr>\n",
       "      <th>2578</th>\n",
       "      <td>23378</td>\n",
       "      <td>Women Petition U.N. Leader to Seek Korean Peac...</td>\n",
       "    </tr>\n",
       "  </tbody>\n",
       "</table>\n",
       "</div>"
      ],
      "text/plain": [
       "         id                                              title\n",
       "855   21655  WATCH - NY Assemblyman to Linda Sarsour: Expla...\n",
       "3325  24125  Senior Lawyers Demand Action to Replace White ...\n",
       "65    20865  Hillary Clinton’s Gun Control Agenda Exposed i...\n",
       "4343  25143  Smart Meter Case Testimony Before the Pennsylv...\n",
       "4276  25076  For Leaders of U.S. Allies, Getting Close to T...\n",
       "486   21286  In Just 11 Days Scientists Destroyed Breast Ca...\n",
       "2438  23238  Worn Hillary Resurfaces: “Deeply Disappointed ...\n",
       "2988  23788  Can We Ignore the Alarm Bells the Bond Market ...\n",
       "5074  25874  MUFON International tracking multiple triangle...\n",
       "2578  23378  Women Petition U.N. Leader to Seek Korean Peac..."
      ]
     },
     "execution_count": 29,
     "metadata": {},
     "output_type": "execute_result"
    }
   ],
   "source": [
    "del test_data[\"author\"]\n",
    "del test_data[\"text\"]\n",
    "test_data.sample(10)"
   ]
  },
  {
   "cell_type": "code",
   "execution_count": 30,
   "metadata": {},
   "outputs": [
    {
     "data": {
      "text/html": [
       "<div>\n",
       "<style scoped>\n",
       "    .dataframe tbody tr th:only-of-type {\n",
       "        vertical-align: middle;\n",
       "    }\n",
       "\n",
       "    .dataframe tbody tr th {\n",
       "        vertical-align: top;\n",
       "    }\n",
       "\n",
       "    .dataframe thead th {\n",
       "        text-align: right;\n",
       "    }\n",
       "</style>\n",
       "<table border=\"1\" class=\"dataframe\">\n",
       "  <thead>\n",
       "    <tr style=\"text-align: right;\">\n",
       "      <th></th>\n",
       "      <th>id</th>\n",
       "      <th>title</th>\n",
       "    </tr>\n",
       "  </thead>\n",
       "  <tbody>\n",
       "    <tr>\n",
       "      <th>1462</th>\n",
       "      <td>22262</td>\n",
       "      <td>Trump Hotels See YUGE SURGE Bookings After HIS...</td>\n",
       "    </tr>\n",
       "    <tr>\n",
       "      <th>92</th>\n",
       "      <td>20892</td>\n",
       "      <td>A Sour Surprise Public Pensions Two Sets Books...</td>\n",
       "    </tr>\n",
       "    <tr>\n",
       "      <th>255</th>\n",
       "      <td>21055</td>\n",
       "      <td>Orlando Medical Examiner Take Typical Homicide...</td>\n",
       "    </tr>\n",
       "    <tr>\n",
       "      <th>2006</th>\n",
       "      <td>22806</td>\n",
       "      <td>WikiLeaks Obama Is A Saudi Agent</td>\n",
       "    </tr>\n",
       "    <tr>\n",
       "      <th>3589</th>\n",
       "      <td>24389</td>\n",
       "      <td>Democrats KickOff Resistance Summer Trump Hous...</td>\n",
       "    </tr>\n",
       "    <tr>\n",
       "      <th>3825</th>\n",
       "      <td>24625</td>\n",
       "      <td>EXCLUSIVE ExGitmo Warden Disgusted Obama Relea...</td>\n",
       "    </tr>\n",
       "    <tr>\n",
       "      <th>4218</th>\n",
       "      <td>25018</td>\n",
       "      <td>Pactes clairs sujétion longue par Manlio Dinucci</td>\n",
       "    </tr>\n",
       "    <tr>\n",
       "      <th>3508</th>\n",
       "      <td>24308</td>\n",
       "      <td>Cinecôa e imaginário rupestre</td>\n",
       "    </tr>\n",
       "    <tr>\n",
       "      <th>118</th>\n",
       "      <td>20918</td>\n",
       "      <td>Charles Koch Makes Massive Donation Historical...</td>\n",
       "    </tr>\n",
       "    <tr>\n",
       "      <th>2823</th>\n",
       "      <td>23623</td>\n",
       "      <td>Georgia Lawmakers Pass Campus Carry Sending It...</td>\n",
       "    </tr>\n",
       "  </tbody>\n",
       "</table>\n",
       "</div>"
      ],
      "text/plain": [
       "         id                                              title\n",
       "1462  22262  Trump Hotels See YUGE SURGE Bookings After HIS...\n",
       "92    20892  A Sour Surprise Public Pensions Two Sets Books...\n",
       "255   21055  Orlando Medical Examiner Take Typical Homicide...\n",
       "2006  22806                   WikiLeaks Obama Is A Saudi Agent\n",
       "3589  24389  Democrats KickOff Resistance Summer Trump Hous...\n",
       "3825  24625  EXCLUSIVE ExGitmo Warden Disgusted Obama Relea...\n",
       "4218  25018   Pactes clairs sujétion longue par Manlio Dinucci\n",
       "3508  24308                      Cinecôa e imaginário rupestre\n",
       "118   20918  Charles Koch Makes Massive Donation Historical...\n",
       "2823  23623  Georgia Lawmakers Pass Campus Carry Sending It..."
      ]
     },
     "execution_count": 30,
     "metadata": {},
     "output_type": "execute_result"
    }
   ],
   "source": [
    "test_data[\"title\"] = test_data[\"title\"].apply(cleanText)\n",
    "test_data.sample(10)"
   ]
  },
  {
   "cell_type": "code",
   "execution_count": 31,
   "metadata": {},
   "outputs": [],
   "source": [
    "import numpy as np\n",
    "\n",
    "x_confirm = tokenizer.texts_to_sequences(test_data[\"title\"])\n",
    "x_confirm = pad_sequences(x_confirm, maxlen=maxlen)\n",
    "labels = np.round(model.predict(x_confirm)).astype(\"int\")"
   ]
  },
  {
   "cell_type": "code",
   "execution_count": 32,
   "metadata": {},
   "outputs": [],
   "source": [
    "del test_data[\"title\"]"
   ]
  },
  {
   "cell_type": "code",
   "execution_count": 33,
   "metadata": {},
   "outputs": [
    {
     "data": {
      "text/html": [
       "<div>\n",
       "<style scoped>\n",
       "    .dataframe tbody tr th:only-of-type {\n",
       "        vertical-align: middle;\n",
       "    }\n",
       "\n",
       "    .dataframe tbody tr th {\n",
       "        vertical-align: top;\n",
       "    }\n",
       "\n",
       "    .dataframe thead th {\n",
       "        text-align: right;\n",
       "    }\n",
       "</style>\n",
       "<table border=\"1\" class=\"dataframe\">\n",
       "  <thead>\n",
       "    <tr style=\"text-align: right;\">\n",
       "      <th></th>\n",
       "      <th>id</th>\n",
       "      <th>label</th>\n",
       "    </tr>\n",
       "  </thead>\n",
       "  <tbody>\n",
       "    <tr>\n",
       "      <th>1136</th>\n",
       "      <td>21936</td>\n",
       "      <td>1</td>\n",
       "    </tr>\n",
       "    <tr>\n",
       "      <th>4556</th>\n",
       "      <td>25356</td>\n",
       "      <td>0</td>\n",
       "    </tr>\n",
       "    <tr>\n",
       "      <th>4419</th>\n",
       "      <td>25219</td>\n",
       "      <td>0</td>\n",
       "    </tr>\n",
       "    <tr>\n",
       "      <th>2180</th>\n",
       "      <td>22980</td>\n",
       "      <td>1</td>\n",
       "    </tr>\n",
       "    <tr>\n",
       "      <th>4051</th>\n",
       "      <td>24851</td>\n",
       "      <td>0</td>\n",
       "    </tr>\n",
       "    <tr>\n",
       "      <th>2973</th>\n",
       "      <td>23773</td>\n",
       "      <td>0</td>\n",
       "    </tr>\n",
       "    <tr>\n",
       "      <th>4708</th>\n",
       "      <td>25508</td>\n",
       "      <td>1</td>\n",
       "    </tr>\n",
       "    <tr>\n",
       "      <th>1480</th>\n",
       "      <td>22280</td>\n",
       "      <td>0</td>\n",
       "    </tr>\n",
       "    <tr>\n",
       "      <th>3910</th>\n",
       "      <td>24710</td>\n",
       "      <td>1</td>\n",
       "    </tr>\n",
       "    <tr>\n",
       "      <th>2633</th>\n",
       "      <td>23433</td>\n",
       "      <td>1</td>\n",
       "    </tr>\n",
       "  </tbody>\n",
       "</table>\n",
       "</div>"
      ],
      "text/plain": [
       "         id  label\n",
       "1136  21936      1\n",
       "4556  25356      0\n",
       "4419  25219      0\n",
       "2180  22980      1\n",
       "4051  24851      0\n",
       "2973  23773      0\n",
       "4708  25508      1\n",
       "1480  22280      0\n",
       "3910  24710      1\n",
       "2633  23433      1"
      ]
     },
     "execution_count": 33,
     "metadata": {},
     "output_type": "execute_result"
    }
   ],
   "source": [
    "test_data[\"label\"] = labels\n",
    "test_data.sample(10)"
   ]
  },
  {
   "cell_type": "code",
   "execution_count": 34,
   "metadata": {},
   "outputs": [],
   "source": [
    "test_data.to_csv(\"submission.csv\", index=False)"
   ]
  },
  {
   "cell_type": "code",
   "execution_count": null,
   "metadata": {},
   "outputs": [],
   "source": []
  }
 ],
 "metadata": {
  "kernelspec": {
   "display_name": "Python 3",
   "language": "python",
   "name": "python3"
  },
  "language_info": {
   "codemirror_mode": {
    "name": "ipython",
    "version": 3
   },
   "file_extension": ".py",
   "mimetype": "text/x-python",
   "name": "python",
   "nbconvert_exporter": "python",
   "pygments_lexer": "ipython3",
   "version": "3.7.7"
  }
 },
 "nbformat": 4,
 "nbformat_minor": 4
}
