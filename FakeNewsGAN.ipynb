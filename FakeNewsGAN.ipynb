{
 "cells": [
  {
   "cell_type": "code",
   "execution_count": 225,
   "metadata": {},
   "outputs": [],
   "source": [
    "import pandas as pd\n",
    "import numpy as np\n",
    "import tensorflow as tf\n",
    "import json\n",
    "\n",
    "from nltk.corpus import stopwords\n",
    "from sklearn.model_selection import train_test_split\n",
    "from keras.preprocessing.text import Tokenizer\n",
    "from keras.preprocessing.sequence import pad_sequences\n",
    "\n",
    "from keras import Input\n",
    "from keras.models import Sequential, Model\n",
    "from keras.layers import Conv2D, Dropout, Dense, Embedding, Flatten, Reshape, Multiply, Lambda\n",
    "from keras.optimizers import Adam\n",
    "from tensorflow.keras.losses import BinaryCrossentropy"
   ]
  },
  {
   "cell_type": "markdown",
   "metadata": {},
   "source": [
    "<h1>Traitement des données</h1>"
   ]
  },
  {
   "cell_type": "code",
   "execution_count": 226,
   "metadata": {},
   "outputs": [],
   "source": [
    "# chargement des deux tables\n",
    "real_news = pd.read_csv(\"./dataset1/True.csv\")\n",
    "fake_news = pd.read_csv(\"./dataset1/Fake.csv\")"
   ]
  },
  {
   "cell_type": "code",
   "execution_count": 227,
   "metadata": {},
   "outputs": [],
   "source": [
    "# vrai = 1, faux = 0\n",
    "real_news[\"label\"] = 1\n",
    "fake_news[\"label\"] = 0"
   ]
  },
  {
   "cell_type": "code",
   "execution_count": 228,
   "metadata": {},
   "outputs": [
    {
     "data": {
      "text/html": [
       "<div>\n",
       "<style scoped>\n",
       "    .dataframe tbody tr th:only-of-type {\n",
       "        vertical-align: middle;\n",
       "    }\n",
       "\n",
       "    .dataframe tbody tr th {\n",
       "        vertical-align: top;\n",
       "    }\n",
       "\n",
       "    .dataframe thead th {\n",
       "        text-align: right;\n",
       "    }\n",
       "</style>\n",
       "<table border=\"1\" class=\"dataframe\">\n",
       "  <thead>\n",
       "    <tr style=\"text-align: right;\">\n",
       "      <th></th>\n",
       "      <th>title</th>\n",
       "      <th>text</th>\n",
       "      <th>subject</th>\n",
       "      <th>date</th>\n",
       "      <th>label</th>\n",
       "    </tr>\n",
       "  </thead>\n",
       "  <tbody>\n",
       "    <tr>\n",
       "      <th>5062</th>\n",
       "      <td>No reason to believe Trump is target of any in...</td>\n",
       "      <td>WASHINGTON (Reuters) - There is no reason to b...</td>\n",
       "      <td>politicsNews</td>\n",
       "      <td>March 8, 2017</td>\n",
       "      <td>1</td>\n",
       "    </tr>\n",
       "    <tr>\n",
       "      <th>18661</th>\n",
       "      <td>China's Xi says study capitalism, but Marxism ...</td>\n",
       "      <td>BEIJING (Reuters) - Communist Party members sh...</td>\n",
       "      <td>worldnews</td>\n",
       "      <td>September 30, 2017</td>\n",
       "      <td>1</td>\n",
       "    </tr>\n",
       "    <tr>\n",
       "      <th>15778</th>\n",
       "      <td>Iraqi forces reach road between Iraqi-Syrian t...</td>\n",
       "      <td>BEIRUT (Reuters) - Iraqi forces have reached t...</td>\n",
       "      <td>worldnews</td>\n",
       "      <td>November 3, 2017</td>\n",
       "      <td>1</td>\n",
       "    </tr>\n",
       "    <tr>\n",
       "      <th>6650</th>\n",
       "      <td>U.S. to disclose estimate of number of America...</td>\n",
       "      <td>WASHINGTON (Reuters) - The U.S. intelligence c...</td>\n",
       "      <td>politicsNews</td>\n",
       "      <td>December 16, 2016</td>\n",
       "      <td>1</td>\n",
       "    </tr>\n",
       "    <tr>\n",
       "      <th>7517</th>\n",
       "      <td>U.S. top court may curb presidential appointme...</td>\n",
       "      <td>WASHINGTON (Reuters) - Supreme Court justices,...</td>\n",
       "      <td>politicsNews</td>\n",
       "      <td>November 7, 2016</td>\n",
       "      <td>1</td>\n",
       "    </tr>\n",
       "  </tbody>\n",
       "</table>\n",
       "</div>"
      ],
      "text/plain": [
       "                                                   title  \\\n",
       "5062   No reason to believe Trump is target of any in...   \n",
       "18661  China's Xi says study capitalism, but Marxism ...   \n",
       "15778  Iraqi forces reach road between Iraqi-Syrian t...   \n",
       "6650   U.S. to disclose estimate of number of America...   \n",
       "7517   U.S. top court may curb presidential appointme...   \n",
       "\n",
       "                                                    text       subject  \\\n",
       "5062   WASHINGTON (Reuters) - There is no reason to b...  politicsNews   \n",
       "18661  BEIJING (Reuters) - Communist Party members sh...     worldnews   \n",
       "15778  BEIRUT (Reuters) - Iraqi forces have reached t...     worldnews   \n",
       "6650   WASHINGTON (Reuters) - The U.S. intelligence c...  politicsNews   \n",
       "7517   WASHINGTON (Reuters) - Supreme Court justices,...  politicsNews   \n",
       "\n",
       "                      date  label  \n",
       "5062        March 8, 2017       1  \n",
       "18661  September 30, 2017       1  \n",
       "15778    November 3, 2017       1  \n",
       "6650    December 16, 2016       1  \n",
       "7517     November 7, 2016       1  "
      ]
     },
     "execution_count": 228,
     "metadata": {},
     "output_type": "execute_result"
    }
   ],
   "source": [
    "real_news.sample(5)"
   ]
  },
  {
   "cell_type": "code",
   "execution_count": 229,
   "metadata": {},
   "outputs": [
    {
     "data": {
      "text/html": [
       "<div>\n",
       "<style scoped>\n",
       "    .dataframe tbody tr th:only-of-type {\n",
       "        vertical-align: middle;\n",
       "    }\n",
       "\n",
       "    .dataframe tbody tr th {\n",
       "        vertical-align: top;\n",
       "    }\n",
       "\n",
       "    .dataframe thead th {\n",
       "        text-align: right;\n",
       "    }\n",
       "</style>\n",
       "<table border=\"1\" class=\"dataframe\">\n",
       "  <thead>\n",
       "    <tr style=\"text-align: right;\">\n",
       "      <th></th>\n",
       "      <th>title</th>\n",
       "      <th>text</th>\n",
       "      <th>subject</th>\n",
       "      <th>date</th>\n",
       "      <th>label</th>\n",
       "    </tr>\n",
       "  </thead>\n",
       "  <tbody>\n",
       "    <tr>\n",
       "      <th>16339</th>\n",
       "      <td>BREAKING! Ammon, Ryan Bundy, 5 Fellow Patriots...</td>\n",
       "      <td>Who could forget the unbelievable standoff in ...</td>\n",
       "      <td>Government News</td>\n",
       "      <td>Oct 27, 2016</td>\n",
       "      <td>0</td>\n",
       "    </tr>\n",
       "    <tr>\n",
       "      <th>17543</th>\n",
       "      <td>BREAKING NEWS: Woman Who Narrated BRUTAL TORTU...</td>\n",
       "      <td>When four Chicago thugs videotaped the brutal ...</td>\n",
       "      <td>left-news</td>\n",
       "      <td>Dec 9, 2017</td>\n",
       "      <td>0</td>\n",
       "    </tr>\n",
       "    <tr>\n",
       "      <th>1733</th>\n",
       "      <td>Sarah Palin, Kid Rock And Ted Nugent Visited ...</td>\n",
       "      <td>Sarah Palin, Kid Rock, and Ted Nugent visited ...</td>\n",
       "      <td>News</td>\n",
       "      <td>April 20, 2017</td>\n",
       "      <td>0</td>\n",
       "    </tr>\n",
       "    <tr>\n",
       "      <th>11755</th>\n",
       "      <td>#Berkeley IRONY ALERT! ANARCHISTS LOOT STARBUC...</td>\n",
       "      <td>Smashing windows How progressive!Protests aga...</td>\n",
       "      <td>politics</td>\n",
       "      <td>Feb 2, 2017</td>\n",
       "      <td>0</td>\n",
       "    </tr>\n",
       "    <tr>\n",
       "      <th>19902</th>\n",
       "      <td>LIBERAL DUMMY GARY JOHNSON Can’t Name One Fore...</td>\n",
       "      <td>Maybe comedy is a better career choice for Gar...</td>\n",
       "      <td>left-news</td>\n",
       "      <td>Sep 29, 2016</td>\n",
       "      <td>0</td>\n",
       "    </tr>\n",
       "  </tbody>\n",
       "</table>\n",
       "</div>"
      ],
      "text/plain": [
       "                                                   title  \\\n",
       "16339  BREAKING! Ammon, Ryan Bundy, 5 Fellow Patriots...   \n",
       "17543  BREAKING NEWS: Woman Who Narrated BRUTAL TORTU...   \n",
       "1733    Sarah Palin, Kid Rock And Ted Nugent Visited ...   \n",
       "11755  #Berkeley IRONY ALERT! ANARCHISTS LOOT STARBUC...   \n",
       "19902  LIBERAL DUMMY GARY JOHNSON Can’t Name One Fore...   \n",
       "\n",
       "                                                    text          subject  \\\n",
       "16339  Who could forget the unbelievable standoff in ...  Government News   \n",
       "17543  When four Chicago thugs videotaped the brutal ...        left-news   \n",
       "1733   Sarah Palin, Kid Rock, and Ted Nugent visited ...             News   \n",
       "11755   Smashing windows How progressive!Protests aga...         politics   \n",
       "19902  Maybe comedy is a better career choice for Gar...        left-news   \n",
       "\n",
       "                 date  label  \n",
       "16339    Oct 27, 2016      0  \n",
       "17543     Dec 9, 2017      0  \n",
       "1733   April 20, 2017      0  \n",
       "11755     Feb 2, 2017      0  \n",
       "19902    Sep 29, 2016      0  "
      ]
     },
     "execution_count": 229,
     "metadata": {},
     "output_type": "execute_result"
    }
   ],
   "source": [
    "fake_news.sample(5)"
   ]
  },
  {
   "cell_type": "code",
   "execution_count": 230,
   "metadata": {},
   "outputs": [
    {
     "data": {
      "text/html": [
       "<div>\n",
       "<style scoped>\n",
       "    .dataframe tbody tr th:only-of-type {\n",
       "        vertical-align: middle;\n",
       "    }\n",
       "\n",
       "    .dataframe tbody tr th {\n",
       "        vertical-align: top;\n",
       "    }\n",
       "\n",
       "    .dataframe thead th {\n",
       "        text-align: right;\n",
       "    }\n",
       "</style>\n",
       "<table border=\"1\" class=\"dataframe\">\n",
       "  <thead>\n",
       "    <tr style=\"text-align: right;\">\n",
       "      <th></th>\n",
       "      <th>title</th>\n",
       "      <th>text</th>\n",
       "      <th>subject</th>\n",
       "      <th>date</th>\n",
       "      <th>label</th>\n",
       "    </tr>\n",
       "  </thead>\n",
       "  <tbody>\n",
       "    <tr>\n",
       "      <th>4812</th>\n",
       "      <td>Top Democrat on Senate panel: No rollback on D...</td>\n",
       "      <td>(Reuters) - The top Democrat on the U.S. Senat...</td>\n",
       "      <td>politicsNews</td>\n",
       "      <td>March 21, 2017</td>\n",
       "      <td>1</td>\n",
       "    </tr>\n",
       "    <tr>\n",
       "      <th>2452</th>\n",
       "      <td>Factbox: What's in the Senate's 'skinny repeal...</td>\n",
       "      <td>WASHINGTON (Reuters) - Senate Republicans rele...</td>\n",
       "      <td>politicsNews</td>\n",
       "      <td>July 28, 2017</td>\n",
       "      <td>1</td>\n",
       "    </tr>\n",
       "    <tr>\n",
       "      <th>4939</th>\n",
       "      <td>Fox News Is Collapsing Like A House Of Cards ...</td>\n",
       "      <td>The women of Fox News are sick and tired of pu...</td>\n",
       "      <td>News</td>\n",
       "      <td>August 23, 2016</td>\n",
       "      <td>0</td>\n",
       "    </tr>\n",
       "    <tr>\n",
       "      <th>16988</th>\n",
       "      <td>Kurdish officials say thousands flee Kirkuk si...</td>\n",
       "      <td>BAGHDAD (Reuters) - Kurdish officials said on ...</td>\n",
       "      <td>worldnews</td>\n",
       "      <td>October 19, 2017</td>\n",
       "      <td>1</td>\n",
       "    </tr>\n",
       "    <tr>\n",
       "      <th>20521</th>\n",
       "      <td>STUNNING BETRAYAL! 43 REPUBLICANS, In Dark Of ...</td>\n",
       "      <td>Who knew a President could do so much damage i...</td>\n",
       "      <td>left-news</td>\n",
       "      <td>May 26, 2016</td>\n",
       "      <td>0</td>\n",
       "    </tr>\n",
       "    <tr>\n",
       "      <th>3140</th>\n",
       "      <td>GOP Will IMMEDIATELY Defund Planned Parenthoo...</td>\n",
       "      <td>Well, it s happening. If you  voted your consc...</td>\n",
       "      <td>News</td>\n",
       "      <td>January 5, 2017</td>\n",
       "      <td>0</td>\n",
       "    </tr>\n",
       "    <tr>\n",
       "      <th>1540</th>\n",
       "      <td>U.S. plans to admit maximum 45,000 refugees in...</td>\n",
       "      <td>WASHINGTON (Reuters) - The Trump administratio...</td>\n",
       "      <td>politicsNews</td>\n",
       "      <td>September 27, 2017</td>\n",
       "      <td>1</td>\n",
       "    </tr>\n",
       "    <tr>\n",
       "      <th>15008</th>\n",
       "      <td>BUCKLE UP: 2008 Was Just A “Warm-Up”…Facts Sho...</td>\n",
       "      <td>A fake economy can only sustain itself for so ...</td>\n",
       "      <td>politics</td>\n",
       "      <td>Oct 29, 2015</td>\n",
       "      <td>0</td>\n",
       "    </tr>\n",
       "    <tr>\n",
       "      <th>12390</th>\n",
       "      <td>Nigerian court drops most asset declaration ch...</td>\n",
       "      <td>(This version of the December 12th story corr...</td>\n",
       "      <td>worldnews</td>\n",
       "      <td>December 12, 2017</td>\n",
       "      <td>1</td>\n",
       "    </tr>\n",
       "    <tr>\n",
       "      <th>16326</th>\n",
       "      <td>BOOM! This Is How President Reagan Handled Pro...</td>\n",
       "      <td>Ronald Reagan shut down the Berkeley protests ...</td>\n",
       "      <td>Government News</td>\n",
       "      <td>Nov 11, 2016</td>\n",
       "      <td>0</td>\n",
       "    </tr>\n",
       "  </tbody>\n",
       "</table>\n",
       "</div>"
      ],
      "text/plain": [
       "                                                   title  \\\n",
       "4812   Top Democrat on Senate panel: No rollback on D...   \n",
       "2452   Factbox: What's in the Senate's 'skinny repeal...   \n",
       "4939    Fox News Is Collapsing Like A House Of Cards ...   \n",
       "16988  Kurdish officials say thousands flee Kirkuk si...   \n",
       "20521  STUNNING BETRAYAL! 43 REPUBLICANS, In Dark Of ...   \n",
       "3140    GOP Will IMMEDIATELY Defund Planned Parenthoo...   \n",
       "1540   U.S. plans to admit maximum 45,000 refugees in...   \n",
       "15008  BUCKLE UP: 2008 Was Just A “Warm-Up”…Facts Sho...   \n",
       "12390  Nigerian court drops most asset declaration ch...   \n",
       "16326  BOOM! This Is How President Reagan Handled Pro...   \n",
       "\n",
       "                                                    text          subject  \\\n",
       "4812   (Reuters) - The top Democrat on the U.S. Senat...     politicsNews   \n",
       "2452   WASHINGTON (Reuters) - Senate Republicans rele...     politicsNews   \n",
       "4939   The women of Fox News are sick and tired of pu...             News   \n",
       "16988  BAGHDAD (Reuters) - Kurdish officials said on ...        worldnews   \n",
       "20521  Who knew a President could do so much damage i...        left-news   \n",
       "3140   Well, it s happening. If you  voted your consc...             News   \n",
       "1540   WASHINGTON (Reuters) - The Trump administratio...     politicsNews   \n",
       "15008  A fake economy can only sustain itself for so ...         politics   \n",
       "12390   (This version of the December 12th story corr...        worldnews   \n",
       "16326  Ronald Reagan shut down the Berkeley protests ...  Government News   \n",
       "\n",
       "                      date  label  \n",
       "4812       March 21, 2017       1  \n",
       "2452        July 28, 2017       1  \n",
       "4939       August 23, 2016      0  \n",
       "16988    October 19, 2017       1  \n",
       "20521         May 26, 2016      0  \n",
       "3140       January 5, 2017      0  \n",
       "1540   September 27, 2017       1  \n",
       "15008         Oct 29, 2015      0  \n",
       "12390   December 12, 2017       1  \n",
       "16326         Nov 11, 2016      0  "
      ]
     },
     "execution_count": 230,
     "metadata": {},
     "output_type": "execute_result"
    }
   ],
   "source": [
    "# création du dataset complet\n",
    "dataframe = pd.concat([real_news, fake_news])\n",
    "dataframe.sample(10)"
   ]
  },
  {
   "cell_type": "code",
   "execution_count": 231,
   "metadata": {},
   "outputs": [
    {
     "name": "stdout",
     "output_type": "stream",
     "text": [
      "Nombre de références : 44898\n",
      "Nombre de fake news : 23481\n",
      "Nombre de vraies news : 21417\n"
     ]
    }
   ],
   "source": [
    "print(f\"Nombre de références : {dataframe.title.count()}\")\n",
    "print(f\"Nombre de fake news : {fake_news.title.count()}\")\n",
    "print(f\"Nombre de vraies news : {real_news.title.count()}\")"
   ]
  },
  {
   "cell_type": "code",
   "execution_count": 232,
   "metadata": {},
   "outputs": [],
   "source": [
    "# ici on ne s'intéresse qu'au titre et au label\n",
    "del dataframe[\"text\"]\n",
    "del dataframe[\"subject\"]\n",
    "del dataframe[\"date\"]"
   ]
  },
  {
   "cell_type": "code",
   "execution_count": 233,
   "metadata": {},
   "outputs": [
    {
     "data": {
      "text/html": [
       "<div>\n",
       "<style scoped>\n",
       "    .dataframe tbody tr th:only-of-type {\n",
       "        vertical-align: middle;\n",
       "    }\n",
       "\n",
       "    .dataframe tbody tr th {\n",
       "        vertical-align: top;\n",
       "    }\n",
       "\n",
       "    .dataframe thead th {\n",
       "        text-align: right;\n",
       "    }\n",
       "</style>\n",
       "<table border=\"1\" class=\"dataframe\">\n",
       "  <thead>\n",
       "    <tr style=\"text-align: right;\">\n",
       "      <th></th>\n",
       "      <th>title</th>\n",
       "      <th>label</th>\n",
       "    </tr>\n",
       "  </thead>\n",
       "  <tbody>\n",
       "    <tr>\n",
       "      <th>13322</th>\n",
       "      <td>MOTHER OF CRYING BABY AT TRUMP RALLY: “Mr. Tru...</td>\n",
       "      <td>0</td>\n",
       "    </tr>\n",
       "    <tr>\n",
       "      <th>21235</th>\n",
       "      <td>Why Did Friends And Family Protect Muslim Bonn...</td>\n",
       "      <td>0</td>\n",
       "    </tr>\n",
       "    <tr>\n",
       "      <th>7067</th>\n",
       "      <td>Watch Elizabeth Warren Get PISSED And Destroy...</td>\n",
       "      <td>0</td>\n",
       "    </tr>\n",
       "    <tr>\n",
       "      <th>10653</th>\n",
       "      <td>Puerto Rico needs restructuring to avoid casca...</td>\n",
       "      <td>1</td>\n",
       "    </tr>\n",
       "    <tr>\n",
       "      <th>4210</th>\n",
       "      <td>Trump FRANTICALLY Spins Illuminati-Like Globa...</td>\n",
       "      <td>0</td>\n",
       "    </tr>\n",
       "    <tr>\n",
       "      <th>6046</th>\n",
       "      <td>Any UK-U.S. trade deal will put Britain first:...</td>\n",
       "      <td>1</td>\n",
       "    </tr>\n",
       "    <tr>\n",
       "      <th>11593</th>\n",
       "      <td>Turkey says U.N. Jerusalem vote showed dignity...</td>\n",
       "      <td>1</td>\n",
       "    </tr>\n",
       "    <tr>\n",
       "      <th>3294</th>\n",
       "      <td>Lordy! Ex-FBI chief sets Twitter abuzz but @re...</td>\n",
       "      <td>1</td>\n",
       "    </tr>\n",
       "    <tr>\n",
       "      <th>15742</th>\n",
       "      <td>Nigeria's 'Delta Avengers' militants end oil h...</td>\n",
       "      <td>1</td>\n",
       "    </tr>\n",
       "    <tr>\n",
       "      <th>14174</th>\n",
       "      <td>War crimes verdict on Mladic delayed as he und...</td>\n",
       "      <td>1</td>\n",
       "    </tr>\n",
       "  </tbody>\n",
       "</table>\n",
       "</div>"
      ],
      "text/plain": [
       "                                                   title  label\n",
       "13322  MOTHER OF CRYING BABY AT TRUMP RALLY: “Mr. Tru...      0\n",
       "21235  Why Did Friends And Family Protect Muslim Bonn...      0\n",
       "7067    Watch Elizabeth Warren Get PISSED And Destroy...      0\n",
       "10653  Puerto Rico needs restructuring to avoid casca...      1\n",
       "4210    Trump FRANTICALLY Spins Illuminati-Like Globa...      0\n",
       "6046   Any UK-U.S. trade deal will put Britain first:...      1\n",
       "11593  Turkey says U.N. Jerusalem vote showed dignity...      1\n",
       "3294   Lordy! Ex-FBI chief sets Twitter abuzz but @re...      1\n",
       "15742  Nigeria's 'Delta Avengers' militants end oil h...      1\n",
       "14174  War crimes verdict on Mladic delayed as he und...      1"
      ]
     },
     "execution_count": 233,
     "metadata": {},
     "output_type": "execute_result"
    }
   ],
   "source": [
    "dataframe.sample(10)"
   ]
  },
  {
   "cell_type": "code",
   "execution_count": 234,
   "metadata": {},
   "outputs": [
    {
     "data": {
      "text/html": [
       "<div>\n",
       "<style scoped>\n",
       "    .dataframe tbody tr th:only-of-type {\n",
       "        vertical-align: middle;\n",
       "    }\n",
       "\n",
       "    .dataframe tbody tr th {\n",
       "        vertical-align: top;\n",
       "    }\n",
       "\n",
       "    .dataframe thead th {\n",
       "        text-align: right;\n",
       "    }\n",
       "</style>\n",
       "<table border=\"1\" class=\"dataframe\">\n",
       "  <thead>\n",
       "    <tr style=\"text-align: right;\">\n",
       "      <th></th>\n",
       "      <th>title</th>\n",
       "      <th>label</th>\n",
       "    </tr>\n",
       "  </thead>\n",
       "  <tbody>\n",
       "    <tr>\n",
       "      <th>2041</th>\n",
       "      <td>US Air Force picks Raytheon Lockheed for nextg...</td>\n",
       "      <td>1</td>\n",
       "    </tr>\n",
       "    <tr>\n",
       "      <th>5737</th>\n",
       "      <td>Clinton Skyrockets To 14 Point Lead Over Donal...</td>\n",
       "      <td>0</td>\n",
       "    </tr>\n",
       "    <tr>\n",
       "      <th>21697</th>\n",
       "      <td>WATCH ANGRY PARENTS WALK OUT OF HIGH SCHOOL PR...</td>\n",
       "      <td>0</td>\n",
       "    </tr>\n",
       "    <tr>\n",
       "      <th>3065</th>\n",
       "      <td>Judge in Michigan blocks deportation of 100 Ir...</td>\n",
       "      <td>1</td>\n",
       "    </tr>\n",
       "    <tr>\n",
       "      <th>19050</th>\n",
       "      <td>MULTIMILLIONAIRE GlobalWarming Hypocrites LEON...</td>\n",
       "      <td>0</td>\n",
       "    </tr>\n",
       "    <tr>\n",
       "      <th>1050</th>\n",
       "      <td>Republicans Wall Street score victory in disma...</td>\n",
       "      <td>1</td>\n",
       "    </tr>\n",
       "    <tr>\n",
       "      <th>10245</th>\n",
       "      <td>Verified FakeNews AP Attempts To Discredit Fox...</td>\n",
       "      <td>0</td>\n",
       "    </tr>\n",
       "    <tr>\n",
       "      <th>10183</th>\n",
       "      <td>WATCH CNN DOES SEGMENT From Bunker In Hawaii T...</td>\n",
       "      <td>0</td>\n",
       "    </tr>\n",
       "    <tr>\n",
       "      <th>6209</th>\n",
       "      <td>Trump to keep 50 critical federal employees in...</td>\n",
       "      <td>1</td>\n",
       "    </tr>\n",
       "    <tr>\n",
       "      <th>16717</th>\n",
       "      <td>WATCH HILLARY CALLS PARENT Of Benghazi Victim ...</td>\n",
       "      <td>0</td>\n",
       "    </tr>\n",
       "  </tbody>\n",
       "</table>\n",
       "</div>"
      ],
      "text/plain": [
       "                                                   title  label\n",
       "2041   US Air Force picks Raytheon Lockheed for nextg...      1\n",
       "5737   Clinton Skyrockets To 14 Point Lead Over Donal...      0\n",
       "21697  WATCH ANGRY PARENTS WALK OUT OF HIGH SCHOOL PR...      0\n",
       "3065   Judge in Michigan blocks deportation of 100 Ir...      1\n",
       "19050  MULTIMILLIONAIRE GlobalWarming Hypocrites LEON...      0\n",
       "1050   Republicans Wall Street score victory in disma...      1\n",
       "10245  Verified FakeNews AP Attempts To Discredit Fox...      0\n",
       "10183  WATCH CNN DOES SEGMENT From Bunker In Hawaii T...      0\n",
       "6209   Trump to keep 50 critical federal employees in...      1\n",
       "16717  WATCH HILLARY CALLS PARENT Of Benghazi Victim ...      0"
      ]
     },
     "execution_count": 234,
     "metadata": {},
     "output_type": "execute_result"
    }
   ],
   "source": [
    "# nettoyage des données (ponctuations)\n",
    "\n",
    "#stopWords = set(stopwords.words(\"english\"))\n",
    "\n",
    "def cleanText(text):\n",
    "    forbidden = {\",\",\"@\",\";\",\"/\",\"-\",\":\",\".\",\"!\",\"?\", \"#\",\"\\\"\",\"(\",\")\",\"\\'\",\"’\",\"‘\",\"–\"}\n",
    "    res = text\n",
    "    if res != None:\n",
    "        for elm in forbidden:\n",
    "            res = res.replace(elm, \"\")\n",
    "        res = res.split()\n",
    "        cleaned = []\n",
    "        for word in res:\n",
    "            #if not word in stopWords:\n",
    "            cleaned.append(word)\n",
    "        res = \" \".join(cleaned)\n",
    "    return res\n",
    "\n",
    "dataframe[\"title\"] = dataframe[\"title\"].apply(cleanText)\n",
    "\n",
    "dataframe.sample(10)"
   ]
  },
  {
   "cell_type": "code",
   "execution_count": 235,
   "metadata": {},
   "outputs": [
    {
     "name": "stdout",
     "output_type": "stream",
     "text": [
      "Données d'entrainement : 33673\n",
      "Données de test : 11225\n"
     ]
    }
   ],
   "source": [
    "# on sépare les données en données d'entraînement et données de test (80% et 20%)\n",
    "x_train, x_test, y_train, y_test = train_test_split(dataframe[\"title\"], dataframe[\"label\"], test_size=0.25, random_state = 42)\n",
    "print(f\"Données d'entrainement : {len(x_train)}\")\n",
    "print(f\"Données de test : {len(x_test)}\")"
   ]
  },
  {
   "cell_type": "code",
   "execution_count": 236,
   "metadata": {},
   "outputs": [],
   "source": [
    "max_features = 10000 # taille max du vocab\n",
    "maxlen = 40 # taille max de séquence"
   ]
  },
  {
   "cell_type": "code",
   "execution_count": 237,
   "metadata": {},
   "outputs": [],
   "source": [
    "# vectorisation naïve en \"one-hot\"\n",
    "tokenizer = Tokenizer(num_words=max_features)\n",
    "tokenizer.fit_on_texts(x_train)"
   ]
  },
  {
   "cell_type": "code",
   "execution_count": 238,
   "metadata": {},
   "outputs": [],
   "source": [
    "# vectorisation des données d'entraînement\n",
    "x_train = tokenizer.texts_to_sequences(x_train)\n",
    "x_train = pad_sequences(x_train, maxlen=maxlen)\n",
    "y_train = np.array(y_train)"
   ]
  },
  {
   "cell_type": "code",
   "execution_count": 239,
   "metadata": {},
   "outputs": [],
   "source": [
    "# vectorisation des données de test\n",
    "x_test = tokenizer.texts_to_sequences(x_test)\n",
    "x_test = pad_sequences(x_test, maxlen=maxlen)\n",
    "y_test = np.array(y_test)"
   ]
  },
  {
   "cell_type": "code",
   "execution_count": 240,
   "metadata": {},
   "outputs": [],
   "source": [
    "batch_size = 256\n",
    "nb_epochs = 20\n",
    "embedded_dim = 100\n",
    "latent_dim = 100"
   ]
  },
  {
   "cell_type": "code",
   "execution_count": 274,
   "metadata": {},
   "outputs": [],
   "source": [
    "def generate_latent_points(latent_dim, nbpoints):\n",
    "    return np.random.uniform(0, 1, size=[nbpoints, latent_dim])\n",
    "\n",
    "def getLatentSamples(latent_dim, n):\n",
    "    labels = np.zeros(shape=n)\n",
    "    samples = generate_latent_points(latent_dim, n)\n",
    "    \n",
    "    return samples, labels\n",
    "\n",
    "def getFakeSamples(generator, latent_dim, n):\n",
    "    labels = np.ones(shape=n)\n",
    "    \n",
    "    latent_points = generate_latent_points(latent_dim, n)\n",
    "    samples = generator.predict(latent_points)\n",
    "    \n",
    "    return samples, labels\n",
    "\n",
    "def getRealSamples(X, Y, n):\n",
    "    random_indices = np.random.randint(0, X.shape[0], n)\n",
    "\n",
    "    samples = X[random_indices]\n",
    "    labels = Y[random_indices]\n",
    "    \n",
    "    return samples, labels"
   ]
  },
  {
   "cell_type": "code",
   "execution_count": 293,
   "metadata": {},
   "outputs": [],
   "source": [
    "def create_generator(dim):\n",
    "    \n",
    "    input_layer = Input(shape=[dim])\n",
    "    \n",
    "    x = Dense(maxlen * 10)(input_layer)\n",
    "    x = Reshape((1, maxlen, 10))(x)\n",
    "    \n",
    "    x = Conv2D(32, (3,1), padding=\"same\")(x)\n",
    "    x = Conv2D(64, (3,1), padding=\"same\")(x)\n",
    "    \n",
    "    x = Flatten()(x)\n",
    "    x = Dense(maxlen)(x)\n",
    "    \n",
    "    output_layer = Lambda(lambda x: tf.math.round(x * float(max_features)))(x)\n",
    "\n",
    "    model = Model(input_layer, output_layer)\n",
    "    model.compile(loss=\"binary_crossentropy\", optimizer=Adam(lr=0.0002, beta_1=.5))\n",
    "    \n",
    "    model.summary()\n",
    "    \n",
    "    return model\n",
    "\n",
    "def create_discriminator():\n",
    "\n",
    "    input_layer = Input(shape=[maxlen])\n",
    "    \n",
    "    x = Embedding(max_features, output_dim=embedded_dim, input_length=maxlen, trainable=True)(input_layer)\n",
    "    x = Reshape((1, maxlen, 100))(x)\n",
    "    x = Conv2D(64, (3, 1), padding=\"same\")(x)\n",
    "    x = Dropout(0.1)(x)\n",
    "    x = Conv2D(32, (3, 1), padding=\"same\")(x)\n",
    "    x = Flatten()(x)\n",
    "    \n",
    "    output_layer = Dense(1, activation=\"sigmoid\")(x)\n",
    "    \n",
    "    model = Model(input_layer, output_layer)\n",
    "    \n",
    "    model.compile(loss=\"binary_crossentropy\", optimizer=Adam(lr=0.0002, beta_1=.5))\n",
    "    model.summary()\n",
    "    \n",
    "    return model\n",
    "\n",
    "def make_trainable(net, val):\n",
    "    net.trainable = val\n",
    "    for l in net.layers:\n",
    "        l.trainable = val\n",
    "\n",
    "def create_gan(generator, discriminator, latent_dim):\n",
    "    \n",
    "    input_layer = Input(shape=[latent_dim])\n",
    "    \n",
    "    x = generator(input_layer)\n",
    "    \n",
    "    output_layer = discriminator(x)\n",
    "    \n",
    "    model = Model(input_layer, output_layer)\n",
    "\n",
    "    model.compile(loss=\"binary_crossentropy\", optimizer=Adam(lr=0.0002, beta_1=.5))\n",
    "    model.summary()\n",
    "    \n",
    "    return model"
   ]
  },
  {
   "cell_type": "code",
   "execution_count": 294,
   "metadata": {
    "scrolled": false
   },
   "outputs": [
    {
     "name": "stdout",
     "output_type": "stream",
     "text": [
      "Model: \"model_24\"\n",
      "_________________________________________________________________\n",
      "Layer (type)                 Output Shape              Param #   \n",
      "=================================================================\n",
      "input_90 (InputLayer)        (None, 40)                0         \n",
      "_________________________________________________________________\n",
      "embedding_27 (Embedding)     (None, 40, 100)           1000000   \n",
      "_________________________________________________________________\n",
      "reshape_52 (Reshape)         (None, 1, 40, 100)        0         \n",
      "_________________________________________________________________\n",
      "conv2d_103 (Conv2D)          (None, 1, 40, 64)         19264     \n",
      "_________________________________________________________________\n",
      "dropout_26 (Dropout)         (None, 1, 40, 64)         0         \n",
      "_________________________________________________________________\n",
      "conv2d_104 (Conv2D)          (None, 1, 40, 32)         6176      \n",
      "_________________________________________________________________\n",
      "flatten_52 (Flatten)         (None, 1280)              0         \n",
      "_________________________________________________________________\n",
      "dense_78 (Dense)             (None, 1)                 1281      \n",
      "=================================================================\n",
      "Total params: 1,026,721\n",
      "Trainable params: 1,026,721\n",
      "Non-trainable params: 0\n",
      "_________________________________________________________________\n",
      "Model: \"model_25\"\n",
      "_________________________________________________________________\n",
      "Layer (type)                 Output Shape              Param #   \n",
      "=================================================================\n",
      "input_91 (InputLayer)        (None, 100)               0         \n",
      "_________________________________________________________________\n",
      "dense_79 (Dense)             (None, 400)               40400     \n",
      "_________________________________________________________________\n",
      "reshape_53 (Reshape)         (None, 1, 40, 10)         0         \n",
      "_________________________________________________________________\n",
      "conv2d_105 (Conv2D)          (None, 1, 40, 32)         992       \n",
      "_________________________________________________________________\n",
      "conv2d_106 (Conv2D)          (None, 1, 40, 64)         6208      \n",
      "_________________________________________________________________\n",
      "flatten_53 (Flatten)         (None, 2560)              0         \n",
      "_________________________________________________________________\n",
      "dense_80 (Dense)             (None, 40)                102440    \n",
      "_________________________________________________________________\n",
      "lambda_40 (Lambda)           (None, 40)                0         \n",
      "=================================================================\n",
      "Total params: 150,040\n",
      "Trainable params: 150,040\n",
      "Non-trainable params: 0\n",
      "_________________________________________________________________\n",
      "Model: \"model_26\"\n",
      "_________________________________________________________________\n",
      "Layer (type)                 Output Shape              Param #   \n",
      "=================================================================\n",
      "input_92 (InputLayer)        (None, 100)               0         \n",
      "_________________________________________________________________\n",
      "model_25 (Model)             (None, 40)                150040    \n",
      "_________________________________________________________________\n",
      "model_24 (Model)             (None, 1)                 1026721   \n",
      "=================================================================\n",
      "Total params: 1,176,761\n",
      "Trainable params: 150,040\n",
      "Non-trainable params: 1,026,721\n",
      "_________________________________________________________________\n"
     ]
    }
   ],
   "source": [
    "discriminator = create_discriminator()\n",
    "generator = create_generator(latent_dim)\n",
    "make_trainable(discriminator, False)\n",
    "gan = create_gan(generator, discriminator, latent_dim)"
   ]
  },
  {
   "cell_type": "code",
   "execution_count": 295,
   "metadata": {},
   "outputs": [],
   "source": [
    "def train(generator_model, discriminator_model, gan_model, nb_epochs, batch_size):\n",
    "    discriminator_losses = []\n",
    "    \n",
    "    generator_losses = []\n",
    "    \n",
    "    for i in range(nb_epochs):\n",
    "\n",
    "        x_fake, y_fake = getFakeSamples(generator_model, latent_dim, batch_size)\n",
    "        x_real, y_real = getRealSamples(x_train, y_train, batch_size)\n",
    "\n",
    "        loss1 = discriminator_model.train_on_batch(x_real, y_real)\n",
    "        loss2 = discriminator_model.train_on_batch(x_fake, y_fake)\n",
    "        \n",
    "        x_gan, y_gan = getLatentSamples(latent_dim, batch_size)        \n",
    "        \n",
    "        loss_gan = gan_model.train_on_batch(x_gan, y_gan)\n",
    "\n",
    "        discriminator_losses.append(loss1)\n",
    "        discriminator_losses.append(loss2)\n",
    "        \n",
    "        generator_losses.append(loss_gan)\n",
    "        \n",
    "    return discriminator_losses, generator_losses"
   ]
  },
  {
   "cell_type": "code",
   "execution_count": 296,
   "metadata": {
    "scrolled": false
   },
   "outputs": [
    {
     "name": "stderr",
     "output_type": "stream",
     "text": [
      "C:\\Users\\Shadow\\AppData\\Roaming\\Python\\Python37\\site-packages\\keras\\engine\\training.py:297: UserWarning: Discrepancy between trainable weights and collected trainable weights, did you set `model.trainable` without calling `model.compile` after ?\n",
      "  'Discrepancy between trainable weights and collected trainable'\n",
      "C:\\Users\\Shadow\\AppData\\Roaming\\Python\\Python37\\site-packages\\tensorflow\\python\\framework\\indexed_slices.py:434: UserWarning: Converting sparse IndexedSlices to a dense Tensor of unknown shape. This may consume a large amount of memory.\n",
      "  \"Converting sparse IndexedSlices to a dense Tensor of unknown shape. \"\n"
     ]
    },
    {
     "ename": "ValueError",
     "evalue": "An operation has `None` for gradient. Please make sure that all of your ops have a gradient defined (i.e. are differentiable). Common ops without gradient: K.argmax, K.round, K.eval.",
     "output_type": "error",
     "traceback": [
      "\u001b[1;31m---------------------------------------------------------------------------\u001b[0m",
      "\u001b[1;31mValueError\u001b[0m                                Traceback (most recent call last)",
      "\u001b[1;32m<ipython-input-296-12d040637fad>\u001b[0m in \u001b[0;36m<module>\u001b[1;34m\u001b[0m\n\u001b[1;32m----> 1\u001b[1;33m \u001b[0mDL\u001b[0m\u001b[1;33m,\u001b[0m \u001b[0mGL\u001b[0m \u001b[1;33m=\u001b[0m \u001b[0mtrain\u001b[0m\u001b[1;33m(\u001b[0m\u001b[0mgenerator\u001b[0m\u001b[1;33m,\u001b[0m \u001b[0mdiscriminator\u001b[0m\u001b[1;33m,\u001b[0m \u001b[0mgan\u001b[0m\u001b[1;33m,\u001b[0m \u001b[0mnb_epochs\u001b[0m\u001b[1;33m,\u001b[0m \u001b[0mbatch_size\u001b[0m\u001b[1;33m)\u001b[0m\u001b[1;33m\u001b[0m\u001b[1;33m\u001b[0m\u001b[0m\n\u001b[0m",
      "\u001b[1;32m<ipython-input-295-ccb9277a36ee>\u001b[0m in \u001b[0;36mtrain\u001b[1;34m(generator_model, discriminator_model, gan_model, nb_epochs, batch_size)\u001b[0m\n\u001b[0;32m     14\u001b[0m         \u001b[0mx_gan\u001b[0m\u001b[1;33m,\u001b[0m \u001b[0my_gan\u001b[0m \u001b[1;33m=\u001b[0m \u001b[0mgetLatentSamples\u001b[0m\u001b[1;33m(\u001b[0m\u001b[0mlatent_dim\u001b[0m\u001b[1;33m,\u001b[0m \u001b[0mbatch_size\u001b[0m\u001b[1;33m)\u001b[0m\u001b[1;33m\u001b[0m\u001b[1;33m\u001b[0m\u001b[0m\n\u001b[0;32m     15\u001b[0m \u001b[1;33m\u001b[0m\u001b[0m\n\u001b[1;32m---> 16\u001b[1;33m         \u001b[0mloss_gan\u001b[0m \u001b[1;33m=\u001b[0m \u001b[0mgan_model\u001b[0m\u001b[1;33m.\u001b[0m\u001b[0mtrain_on_batch\u001b[0m\u001b[1;33m(\u001b[0m\u001b[0mx_gan\u001b[0m\u001b[1;33m,\u001b[0m \u001b[0my_gan\u001b[0m\u001b[1;33m)\u001b[0m\u001b[1;33m\u001b[0m\u001b[1;33m\u001b[0m\u001b[0m\n\u001b[0m\u001b[0;32m     17\u001b[0m \u001b[1;33m\u001b[0m\u001b[0m\n\u001b[0;32m     18\u001b[0m         \u001b[0mdiscriminator_losses\u001b[0m\u001b[1;33m.\u001b[0m\u001b[0mappend\u001b[0m\u001b[1;33m(\u001b[0m\u001b[0mloss1\u001b[0m\u001b[1;33m)\u001b[0m\u001b[1;33m\u001b[0m\u001b[1;33m\u001b[0m\u001b[0m\n",
      "\u001b[1;32m~\\AppData\\Roaming\\Python\\Python37\\site-packages\\keras\\engine\\training.py\u001b[0m in \u001b[0;36mtrain_on_batch\u001b[1;34m(self, x, y, sample_weight, class_weight, reset_metrics)\u001b[0m\n\u001b[0;32m   1511\u001b[0m         \u001b[1;32melse\u001b[0m\u001b[1;33m:\u001b[0m\u001b[1;33m\u001b[0m\u001b[1;33m\u001b[0m\u001b[0m\n\u001b[0;32m   1512\u001b[0m             \u001b[0mins\u001b[0m \u001b[1;33m=\u001b[0m \u001b[0mx\u001b[0m \u001b[1;33m+\u001b[0m \u001b[0my\u001b[0m \u001b[1;33m+\u001b[0m \u001b[0msample_weights\u001b[0m\u001b[1;33m\u001b[0m\u001b[1;33m\u001b[0m\u001b[0m\n\u001b[1;32m-> 1513\u001b[1;33m         \u001b[0mself\u001b[0m\u001b[1;33m.\u001b[0m\u001b[0m_make_train_function\u001b[0m\u001b[1;33m(\u001b[0m\u001b[1;33m)\u001b[0m\u001b[1;33m\u001b[0m\u001b[1;33m\u001b[0m\u001b[0m\n\u001b[0m\u001b[0;32m   1514\u001b[0m         \u001b[0moutputs\u001b[0m \u001b[1;33m=\u001b[0m \u001b[0mself\u001b[0m\u001b[1;33m.\u001b[0m\u001b[0mtrain_function\u001b[0m\u001b[1;33m(\u001b[0m\u001b[0mins\u001b[0m\u001b[1;33m)\u001b[0m\u001b[1;33m\u001b[0m\u001b[1;33m\u001b[0m\u001b[0m\n\u001b[0;32m   1515\u001b[0m \u001b[1;33m\u001b[0m\u001b[0m\n",
      "\u001b[1;32m~\\AppData\\Roaming\\Python\\Python37\\site-packages\\keras\\engine\\training.py\u001b[0m in \u001b[0;36m_make_train_function\u001b[1;34m(self)\u001b[0m\n\u001b[0;32m    314\u001b[0m                     training_updates = self.optimizer.get_updates(\n\u001b[0;32m    315\u001b[0m                         \u001b[0mparams\u001b[0m\u001b[1;33m=\u001b[0m\u001b[0mself\u001b[0m\u001b[1;33m.\u001b[0m\u001b[0m_collected_trainable_weights\u001b[0m\u001b[1;33m,\u001b[0m\u001b[1;33m\u001b[0m\u001b[1;33m\u001b[0m\u001b[0m\n\u001b[1;32m--> 316\u001b[1;33m                         loss=self.total_loss)\n\u001b[0m\u001b[0;32m    317\u001b[0m                 \u001b[0mupdates\u001b[0m \u001b[1;33m=\u001b[0m \u001b[0mself\u001b[0m\u001b[1;33m.\u001b[0m\u001b[0mupdates\u001b[0m \u001b[1;33m+\u001b[0m \u001b[0mtraining_updates\u001b[0m\u001b[1;33m\u001b[0m\u001b[1;33m\u001b[0m\u001b[0m\n\u001b[0;32m    318\u001b[0m \u001b[1;33m\u001b[0m\u001b[0m\n",
      "\u001b[1;32m~\\AppData\\Roaming\\Python\\Python37\\site-packages\\keras\\legacy\\interfaces.py\u001b[0m in \u001b[0;36mwrapper\u001b[1;34m(*args, **kwargs)\u001b[0m\n\u001b[0;32m     89\u001b[0m                 warnings.warn('Update your `' + object_name + '` call to the ' +\n\u001b[0;32m     90\u001b[0m                               'Keras 2 API: ' + signature, stacklevel=2)\n\u001b[1;32m---> 91\u001b[1;33m             \u001b[1;32mreturn\u001b[0m \u001b[0mfunc\u001b[0m\u001b[1;33m(\u001b[0m\u001b[1;33m*\u001b[0m\u001b[0margs\u001b[0m\u001b[1;33m,\u001b[0m \u001b[1;33m**\u001b[0m\u001b[0mkwargs\u001b[0m\u001b[1;33m)\u001b[0m\u001b[1;33m\u001b[0m\u001b[1;33m\u001b[0m\u001b[0m\n\u001b[0m\u001b[0;32m     92\u001b[0m         \u001b[0mwrapper\u001b[0m\u001b[1;33m.\u001b[0m\u001b[0m_original_function\u001b[0m \u001b[1;33m=\u001b[0m \u001b[0mfunc\u001b[0m\u001b[1;33m\u001b[0m\u001b[1;33m\u001b[0m\u001b[0m\n\u001b[0;32m     93\u001b[0m         \u001b[1;32mreturn\u001b[0m \u001b[0mwrapper\u001b[0m\u001b[1;33m\u001b[0m\u001b[1;33m\u001b[0m\u001b[0m\n",
      "\u001b[1;32m~\\AppData\\Roaming\\Python\\Python37\\site-packages\\keras\\backend\\tensorflow_backend.py\u001b[0m in \u001b[0;36msymbolic_fn_wrapper\u001b[1;34m(*args, **kwargs)\u001b[0m\n\u001b[0;32m     73\u001b[0m         \u001b[1;32mif\u001b[0m \u001b[0m_SYMBOLIC_SCOPE\u001b[0m\u001b[1;33m.\u001b[0m\u001b[0mvalue\u001b[0m\u001b[1;33m:\u001b[0m\u001b[1;33m\u001b[0m\u001b[1;33m\u001b[0m\u001b[0m\n\u001b[0;32m     74\u001b[0m             \u001b[1;32mwith\u001b[0m \u001b[0mget_graph\u001b[0m\u001b[1;33m(\u001b[0m\u001b[1;33m)\u001b[0m\u001b[1;33m.\u001b[0m\u001b[0mas_default\u001b[0m\u001b[1;33m(\u001b[0m\u001b[1;33m)\u001b[0m\u001b[1;33m:\u001b[0m\u001b[1;33m\u001b[0m\u001b[1;33m\u001b[0m\u001b[0m\n\u001b[1;32m---> 75\u001b[1;33m                 \u001b[1;32mreturn\u001b[0m \u001b[0mfunc\u001b[0m\u001b[1;33m(\u001b[0m\u001b[1;33m*\u001b[0m\u001b[0margs\u001b[0m\u001b[1;33m,\u001b[0m \u001b[1;33m**\u001b[0m\u001b[0mkwargs\u001b[0m\u001b[1;33m)\u001b[0m\u001b[1;33m\u001b[0m\u001b[1;33m\u001b[0m\u001b[0m\n\u001b[0m\u001b[0;32m     76\u001b[0m         \u001b[1;32melse\u001b[0m\u001b[1;33m:\u001b[0m\u001b[1;33m\u001b[0m\u001b[1;33m\u001b[0m\u001b[0m\n\u001b[0;32m     77\u001b[0m             \u001b[1;32mreturn\u001b[0m \u001b[0mfunc\u001b[0m\u001b[1;33m(\u001b[0m\u001b[1;33m*\u001b[0m\u001b[0margs\u001b[0m\u001b[1;33m,\u001b[0m \u001b[1;33m**\u001b[0m\u001b[0mkwargs\u001b[0m\u001b[1;33m)\u001b[0m\u001b[1;33m\u001b[0m\u001b[1;33m\u001b[0m\u001b[0m\n",
      "\u001b[1;32m~\\AppData\\Roaming\\Python\\Python37\\site-packages\\keras\\optimizers.py\u001b[0m in \u001b[0;36mget_updates\u001b[1;34m(self, loss, params)\u001b[0m\n\u001b[0;32m    502\u001b[0m     \u001b[1;33m@\u001b[0m\u001b[0mK\u001b[0m\u001b[1;33m.\u001b[0m\u001b[0msymbolic\u001b[0m\u001b[1;33m\u001b[0m\u001b[1;33m\u001b[0m\u001b[0m\n\u001b[0;32m    503\u001b[0m     \u001b[1;32mdef\u001b[0m \u001b[0mget_updates\u001b[0m\u001b[1;33m(\u001b[0m\u001b[0mself\u001b[0m\u001b[1;33m,\u001b[0m \u001b[0mloss\u001b[0m\u001b[1;33m,\u001b[0m \u001b[0mparams\u001b[0m\u001b[1;33m)\u001b[0m\u001b[1;33m:\u001b[0m\u001b[1;33m\u001b[0m\u001b[1;33m\u001b[0m\u001b[0m\n\u001b[1;32m--> 504\u001b[1;33m         \u001b[0mgrads\u001b[0m \u001b[1;33m=\u001b[0m \u001b[0mself\u001b[0m\u001b[1;33m.\u001b[0m\u001b[0mget_gradients\u001b[0m\u001b[1;33m(\u001b[0m\u001b[0mloss\u001b[0m\u001b[1;33m,\u001b[0m \u001b[0mparams\u001b[0m\u001b[1;33m)\u001b[0m\u001b[1;33m\u001b[0m\u001b[1;33m\u001b[0m\u001b[0m\n\u001b[0m\u001b[0;32m    505\u001b[0m         \u001b[0mself\u001b[0m\u001b[1;33m.\u001b[0m\u001b[0mupdates\u001b[0m \u001b[1;33m=\u001b[0m \u001b[1;33m[\u001b[0m\u001b[0mK\u001b[0m\u001b[1;33m.\u001b[0m\u001b[0mupdate_add\u001b[0m\u001b[1;33m(\u001b[0m\u001b[0mself\u001b[0m\u001b[1;33m.\u001b[0m\u001b[0miterations\u001b[0m\u001b[1;33m,\u001b[0m \u001b[1;36m1\u001b[0m\u001b[1;33m)\u001b[0m\u001b[1;33m]\u001b[0m\u001b[1;33m\u001b[0m\u001b[1;33m\u001b[0m\u001b[0m\n\u001b[0;32m    506\u001b[0m \u001b[1;33m\u001b[0m\u001b[0m\n",
      "\u001b[1;32m~\\AppData\\Roaming\\Python\\Python37\\site-packages\\keras\\optimizers.py\u001b[0m in \u001b[0;36mget_gradients\u001b[1;34m(self, loss, params)\u001b[0m\n\u001b[0;32m     91\u001b[0m         \u001b[0mgrads\u001b[0m \u001b[1;33m=\u001b[0m \u001b[0mK\u001b[0m\u001b[1;33m.\u001b[0m\u001b[0mgradients\u001b[0m\u001b[1;33m(\u001b[0m\u001b[0mloss\u001b[0m\u001b[1;33m,\u001b[0m \u001b[0mparams\u001b[0m\u001b[1;33m)\u001b[0m\u001b[1;33m\u001b[0m\u001b[1;33m\u001b[0m\u001b[0m\n\u001b[0;32m     92\u001b[0m         \u001b[1;32mif\u001b[0m \u001b[0many\u001b[0m\u001b[1;33m(\u001b[0m\u001b[0mx\u001b[0m \u001b[1;32mis\u001b[0m \u001b[1;32mNone\u001b[0m \u001b[1;32mfor\u001b[0m \u001b[0mx\u001b[0m \u001b[1;32min\u001b[0m \u001b[0mgrads\u001b[0m\u001b[1;33m)\u001b[0m\u001b[1;33m:\u001b[0m\u001b[1;33m\u001b[0m\u001b[1;33m\u001b[0m\u001b[0m\n\u001b[1;32m---> 93\u001b[1;33m             raise ValueError('An operation has `None` for gradient. '\n\u001b[0m\u001b[0;32m     94\u001b[0m                              \u001b[1;34m'Please make sure that all of your ops have a '\u001b[0m\u001b[1;33m\u001b[0m\u001b[1;33m\u001b[0m\u001b[0m\n\u001b[0;32m     95\u001b[0m                              \u001b[1;34m'gradient defined (i.e. are differentiable). '\u001b[0m\u001b[1;33m\u001b[0m\u001b[1;33m\u001b[0m\u001b[0m\n",
      "\u001b[1;31mValueError\u001b[0m: An operation has `None` for gradient. Please make sure that all of your ops have a gradient defined (i.e. are differentiable). Common ops without gradient: K.argmax, K.round, K.eval."
     ]
    }
   ],
   "source": [
    "DL, GL = train(generator, discriminator, gan, nb_epochs, batch_size)"
   ]
  },
  {
   "cell_type": "code",
   "execution_count": 269,
   "metadata": {},
   "outputs": [
    {
     "name": "stdout",
     "output_type": "stream",
     "text": [
      "[[-2516.9531   -588.8165  -1565.7844    288.15045  1493.9711    706.9943\n",
      "    766.9266  -1618.3082  -2244.5295  -3653.4492  -1367.9525  -3159.2085\n",
      "    -47.59009  2441.3843   3398.813    1346.9009  -1656.5116   -442.36362\n",
      "  -1465.0232   1978.9308    735.03485   251.88725  1044.1869  -1589.2181\n",
      "   1306.1217   -187.63248  1474.3152   -615.46814   559.5555   -207.95274\n",
      "    547.16595  -561.20435 -1742.7947   1679.919     410.14374 -2572.332\n",
      "    233.2101   1952.9926   -679.49713  -500.76718]]\n",
      "['case held pope irma harvard trading reach beautiful perfect mexico financial thought “if chicago kids floor shooting stop admit']\n"
     ]
    }
   ],
   "source": [
    "few_points = generate_latent_points(latent_dim, 1)\n",
    "predictions = generator.predict(few_points)\n",
    "print(predictions)\n",
    "print(tokenizer.sequences_to_texts(np.round(predictions)))"
   ]
  },
  {
   "cell_type": "code",
   "execution_count": 20,
   "metadata": {},
   "outputs": [],
   "source": [
    "# art plastique du turfu featuring le poto matplotlib\n",
    "from matplotlib import pyplot as plt"
   ]
  },
  {
   "cell_type": "code",
   "execution_count": 21,
   "metadata": {},
   "outputs": [
    {
     "data": {
      "image/png": "[encoded data removed]",
      "text/plain": [
       "<Figure size 1440x720 with 2 Axes>"
      ]
     },
     "metadata": {
      "needs_background": "light"
     },
     "output_type": "display_data"
    }
   ],
   "source": [
    "figure, ax = plt.subplots(1, 2)\n",
    "figure.set_size_inches(20,10)\n",
    "\n",
    "ax[0].plot(progress.history[\"loss\"])\n",
    "\n",
    "ax[1].plot(progress.history[\"accuracy\"])\n",
    "\n",
    "plt.show()"
   ]
  },
  {
   "cell_type": "code",
   "execution_count": 22,
   "metadata": {},
   "outputs": [],
   "source": [
    "to_predict = dataframe.sample(5)"
   ]
  },
  {
   "cell_type": "code",
   "execution_count": 23,
   "metadata": {},
   "outputs": [
    {
     "data": {
      "text/plain": [
       "17736    TREY GOWDY SLAMS Mueller Teams Over Leaks Abou...\n",
       "8773               Obama sign bill battle heroin addiction\n",
       "17011    China official says Lincoln would approved fre...\n",
       "9880     HEY DEMOCRATS Judicial Watch Just Discovered H...\n",
       "10379    SYRIAN MUSLIM IMMIGRANT HAIRDRESSER SLITS Fema...\n",
       "Name: title, dtype: object"
      ]
     },
     "execution_count": 23,
     "metadata": {},
     "output_type": "execute_result"
    }
   ],
   "source": [
    "X_test = to_predict[\"title\"]\n",
    "X_test"
   ]
  },
  {
   "cell_type": "code",
   "execution_count": 24,
   "metadata": {},
   "outputs": [
    {
     "data": {
      "text/plain": [
       "17736    0\n",
       "8773     1\n",
       "17011    1\n",
       "9880     0\n",
       "10379    0\n",
       "Name: label, dtype: int64"
      ]
     },
     "execution_count": 24,
     "metadata": {},
     "output_type": "execute_result"
    }
   ],
   "source": [
    "Y_test = to_predict[\"label\"]\n",
    "Y_test"
   ]
  },
  {
   "cell_type": "code",
   "execution_count": 25,
   "metadata": {},
   "outputs": [
    {
     "data": {
      "text/plain": [
       "array([   0,    0,    0,    0,    0,    0,    0,    0,    0,    0,    0,\n",
       "          0,    0,    0,    0,    0,    0,    0, 1925, 1844,  499,  857,\n",
       "       9485,   41, 1522,   21,  501, 2029,  392,    2])"
      ]
     },
     "execution_count": 25,
     "metadata": {},
     "output_type": "execute_result"
    }
   ],
   "source": [
    "X_test = tokenizer.texts_to_sequences(X_test)\n",
    "X_test = pad_sequences(X_test, maxlen=maxlen)\n",
    "X_test[0]"
   ]
  },
  {
   "cell_type": "code",
   "execution_count": 26,
   "metadata": {},
   "outputs": [
    {
     "data": {
      "text/plain": [
       "array([[1.70647621e-13],\n",
       "       [9.99986768e-01],\n",
       "       [9.99989271e-01],\n",
       "       [1.23071197e-21],\n",
       "       [1.14856625e-17]], dtype=float32)"
      ]
     },
     "execution_count": 26,
     "metadata": {},
     "output_type": "execute_result"
    }
   ],
   "source": [
    "model.predict(X_test)"
   ]
  },
  {
   "cell_type": "code",
   "execution_count": 27,
   "metadata": {},
   "outputs": [
    {
     "data": {
      "text/plain": [
       "array([[   0,    0,    0,    0,    0,    0,    0,    0,    0,    0,    0,\n",
       "           0,    0,    0,    0,    0,    0,    0, 1925, 1844,  499,  857,\n",
       "        9485,   41, 1522,   21,  501, 2029,  392,    2],\n",
       "       [   0,    0,    0,    0,    0,    0,    0,    0,    0,    0,    0,\n",
       "           0,    0,    0,    0,    0,    0,    0,    0,    0,    0,    0,\n",
       "           0,    0,   14,  620,   29,  747, 8565, 7291],\n",
       "       [   0,    0,    0,    0,    0,    0,    0,    0,    0,    0,    0,\n",
       "           0,    0,    0,    0,    0,    0,    0,    0,    0,    0,    0,\n",
       "           0,   81,  131,    9, 4974,  116, 2939, 6952],\n",
       "       [   0,    0,    0,    0,    0,    0,    0,    0,    0,    0, 2218,\n",
       "          80, 1619,   18,   27, 3793,   19, 2172,  162,    3, 4863,   24,\n",
       "         838,   32,    4, 1624, 4231,  558, 1653,    6],\n",
       "       [   0,    0,    0,    0,    0,    0,    0,    0,    0,    0,    0,\n",
       "           0,    0,    0,    0,    0,    0,  204,   75,  872, 9189,  581,\n",
       "        7870, 4276,   22,   51,   55,   45,    8, 3843]])"
      ]
     },
     "execution_count": 27,
     "metadata": {},
     "output_type": "execute_result"
    }
   ],
   "source": [
    "X_test"
   ]
  },
  {
   "cell_type": "code",
   "execution_count": 93,
   "metadata": {},
   "outputs": [],
   "source": [
    "generator.save(\"generator.h5\")\n",
    "discriminator.save(\"discriminator.h5\")\n",
    "tokenizerJSON = tokenizer.to_json()\n",
    "\n",
    "with open(\"gan_tokenizer.json\", \"w\", encoding=\"utf-8\") as f:\n",
    "    f.write(json.dumps(tokenizerJSON, ensure_ascii=False))"
   ]
  }
 ],
 "metadata": {
  "kernelspec": {
   "display_name": "Python 3",
   "language": "python",
   "name": "python3"
  },
  "language_info": {
   "codemirror_mode": {
    "name": "ipython",
    "version": 3
   },
   "file_extension": ".py",
   "mimetype": "text/x-python",
   "name": "python",
   "nbconvert_exporter": "python",
   "pygments_lexer": "ipython3",
   "version": "3.7.7"
  }
 },
 "nbformat": 4,
 "nbformat_minor": 4
}
