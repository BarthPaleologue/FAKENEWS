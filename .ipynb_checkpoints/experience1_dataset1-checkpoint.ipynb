{
 "cells": [
  {
   "cell_type": "code",
   "execution_count": 576,
   "metadata": {},
   "outputs": [],
   "source": [
    "import pandas as pd\n",
    "import numpy as np\n",
    "\n",
    "from nltk.corpus import stopwords\n",
    "from sklearn.model_selection import train_test_split\n",
    "from keras.preprocessing.text import Tokenizer\n",
    "from keras.preprocessing.sequence import pad_sequences\n",
    "\n",
    "from sklearn.metrics import confusion_matrix\n",
    "import itertools\n",
    "from matplotlib import pyplot as plt\n",
    "\n",
    "from keras.models import Sequential\n",
    "from keras.layers import Conv2D, Dropout, Dense, Embedding, Flatten, Reshape\n",
    "from keras.optimizers import Adam"
   ]
  },
  {
   "cell_type": "code",
   "execution_count": 577,
   "metadata": {},
   "outputs": [],
   "source": [
    "def plot_confusion_matrix(cm, classes, cmap=plt.cm.Blues):\n",
    "\n",
    "    cm = cm.astype(\"float\") / cm.sum(axis=1)\n",
    "\n",
    "    plt.figure(figsize=(10,10))\n",
    "    plt.imshow(cm, interpolation=\"nearest\", cmap=cmap)\n",
    "    plt.colorbar()\n",
    "    tick_marks = np.arange(len(classes))\n",
    "\n",
    "    plt.xticks(tick_marks, classes, fontsize=20, rotation=45)\n",
    "    plt.yticks(tick_marks, classes, fontsize=20)\n",
    "\n",
    "    for i, j in itertools.product(range(cm.shape[0]), range(cm.shape[1])):\n",
    "        color = \"white\" if cm[i,j] > 0.5 else \"black\"        \n",
    "        plt.text(j, i, format(cm[i, j], \".2f\"), horizontalalignment=\"center\", verticalalignment=\"center\", color=color, fontsize=40)\n",
    "\n",
    "    plt.ylabel(\"Correction\", fontsize=15)\n",
    "    plt.xlabel(\"Prédiction\", fontsize=15)"
   ]
  },
  {
   "cell_type": "markdown",
   "metadata": {},
   "source": [
    "<h1>Traitement des données</h1>"
   ]
  },
  {
   "cell_type": "code",
   "execution_count": 578,
   "metadata": {},
   "outputs": [],
   "source": [
    "# chargement des deux tables\n",
    "real_news = pd.read_csv(\"./dataset1/True.csv\")\n",
    "fake_news = pd.read_csv(\"./dataset1/Fake.csv\")"
   ]
  },
  {
   "cell_type": "code",
   "execution_count": 579,
   "metadata": {},
   "outputs": [],
   "source": [
    "# vrai = 1, faux = 0\n",
    "real_news[\"label\"] = 1\n",
    "fake_news[\"label\"] = 0"
   ]
  },
  {
   "cell_type": "code",
   "execution_count": 580,
   "metadata": {},
   "outputs": [
    {
     "data": {
      "text/html": [
       "<div>\n",
       "<style scoped>\n",
       "    .dataframe tbody tr th:only-of-type {\n",
       "        vertical-align: middle;\n",
       "    }\n",
       "\n",
       "    .dataframe tbody tr th {\n",
       "        vertical-align: top;\n",
       "    }\n",
       "\n",
       "    .dataframe thead th {\n",
       "        text-align: right;\n",
       "    }\n",
       "</style>\n",
       "<table border=\"1\" class=\"dataframe\">\n",
       "  <thead>\n",
       "    <tr style=\"text-align: right;\">\n",
       "      <th></th>\n",
       "      <th>title</th>\n",
       "      <th>text</th>\n",
       "      <th>subject</th>\n",
       "      <th>date</th>\n",
       "      <th>label</th>\n",
       "    </tr>\n",
       "  </thead>\n",
       "  <tbody>\n",
       "    <tr>\n",
       "      <th>11962</th>\n",
       "      <td>Lebanon detains Uber driver suspected of murde...</td>\n",
       "      <td>BEIRUT (Reuters) - A Lebanese taxi driver with...</td>\n",
       "      <td>worldnews</td>\n",
       "      <td>December 18, 2017</td>\n",
       "      <td>1</td>\n",
       "    </tr>\n",
       "    <tr>\n",
       "      <th>5424</th>\n",
       "      <td>U.S. lawmakers want say on any Trump Russia sa...</td>\n",
       "      <td>WASHINGTON (Reuters) - Republican and Democrat...</td>\n",
       "      <td>politicsNews</td>\n",
       "      <td>February 15, 2017</td>\n",
       "      <td>1</td>\n",
       "    </tr>\n",
       "    <tr>\n",
       "      <th>5112</th>\n",
       "      <td>White House spokesman says almost certain Trum...</td>\n",
       "      <td>WASHINGTON (Reuters) - White House spokesman S...</td>\n",
       "      <td>politicsNews</td>\n",
       "      <td>March 6, 2017</td>\n",
       "      <td>1</td>\n",
       "    </tr>\n",
       "    <tr>\n",
       "      <th>19815</th>\n",
       "      <td>North Korea fuel prices soar after U.N. sancti...</td>\n",
       "      <td>(Reuters) - Gasoline and diesel prices rose sh...</td>\n",
       "      <td>worldnews</td>\n",
       "      <td>September 18, 2017</td>\n",
       "      <td>1</td>\n",
       "    </tr>\n",
       "    <tr>\n",
       "      <th>13036</th>\n",
       "      <td>Lebanon's Hariri rescinds resignation, drawing...</td>\n",
       "      <td>BEIRUT (Reuters) - Lebanese Prime Minister Saa...</td>\n",
       "      <td>worldnews</td>\n",
       "      <td>December 5, 2017</td>\n",
       "      <td>1</td>\n",
       "    </tr>\n",
       "  </tbody>\n",
       "</table>\n",
       "</div>"
      ],
      "text/plain": [
       "                                                   title  \\\n",
       "11962  Lebanon detains Uber driver suspected of murde...   \n",
       "5424   U.S. lawmakers want say on any Trump Russia sa...   \n",
       "5112   White House spokesman says almost certain Trum...   \n",
       "19815  North Korea fuel prices soar after U.N. sancti...   \n",
       "13036  Lebanon's Hariri rescinds resignation, drawing...   \n",
       "\n",
       "                                                    text       subject  \\\n",
       "11962  BEIRUT (Reuters) - A Lebanese taxi driver with...     worldnews   \n",
       "5424   WASHINGTON (Reuters) - Republican and Democrat...  politicsNews   \n",
       "5112   WASHINGTON (Reuters) - White House spokesman S...  politicsNews   \n",
       "19815  (Reuters) - Gasoline and diesel prices rose sh...     worldnews   \n",
       "13036  BEIRUT (Reuters) - Lebanese Prime Minister Saa...     worldnews   \n",
       "\n",
       "                      date  label  \n",
       "11962   December 18, 2017       1  \n",
       "5424    February 15, 2017       1  \n",
       "5112        March 6, 2017       1  \n",
       "19815  September 18, 2017       1  \n",
       "13036    December 5, 2017       1  "
      ]
     },
     "execution_count": 580,
     "metadata": {},
     "output_type": "execute_result"
    }
   ],
   "source": [
    "real_news.sample(5)"
   ]
  },
  {
   "cell_type": "code",
   "execution_count": 581,
   "metadata": {},
   "outputs": [
    {
     "data": {
      "text/html": [
       "<div>\n",
       "<style scoped>\n",
       "    .dataframe tbody tr th:only-of-type {\n",
       "        vertical-align: middle;\n",
       "    }\n",
       "\n",
       "    .dataframe tbody tr th {\n",
       "        vertical-align: top;\n",
       "    }\n",
       "\n",
       "    .dataframe thead th {\n",
       "        text-align: right;\n",
       "    }\n",
       "</style>\n",
       "<table border=\"1\" class=\"dataframe\">\n",
       "  <thead>\n",
       "    <tr style=\"text-align: right;\">\n",
       "      <th></th>\n",
       "      <th>title</th>\n",
       "      <th>text</th>\n",
       "      <th>subject</th>\n",
       "      <th>date</th>\n",
       "      <th>label</th>\n",
       "    </tr>\n",
       "  </thead>\n",
       "  <tbody>\n",
       "    <tr>\n",
       "      <th>150</th>\n",
       "      <td>‘Alt-Right’ White House Reporter Gets Fooled ...</td>\n",
       "      <td>When Donald Trump allowed popular Nazi blog Th...</td>\n",
       "      <td>News</td>\n",
       "      <td>November 2, 2017</td>\n",
       "      <td>0</td>\n",
       "    </tr>\n",
       "    <tr>\n",
       "      <th>20072</th>\n",
       "      <td>#CrookedHillary Uses Twitter To Accuse Trump O...</td>\n",
       "      <td>Hillary Clinton is bending over backwards to c...</td>\n",
       "      <td>left-news</td>\n",
       "      <td>Aug 25, 2016</td>\n",
       "      <td>0</td>\n",
       "    </tr>\n",
       "    <tr>\n",
       "      <th>9623</th>\n",
       "      <td>ESPN’S JEMELE HILL Makes Shocking Admission Ab...</td>\n",
       "      <td>ESPN anchor Jemele Hill says she deserved to b...</td>\n",
       "      <td>politics</td>\n",
       "      <td>Oct 22, 2017</td>\n",
       "      <td>0</td>\n",
       "    </tr>\n",
       "    <tr>\n",
       "      <th>3480</th>\n",
       "      <td>Bombshell CIA Report Reveals Russia’s Secret ...</td>\n",
       "      <td>Russia interfered in the 2016 U.S. presidentia...</td>\n",
       "      <td>News</td>\n",
       "      <td>December 9, 2016</td>\n",
       "      <td>0</td>\n",
       "    </tr>\n",
       "    <tr>\n",
       "      <th>16249</th>\n",
       "      <td>BREAKING: PRESIDENT TRUMP MAKES HIS PICK For T...</td>\n",
       "      <td>JUDGE NEIL GORSUCH   A strict conservative sim...</td>\n",
       "      <td>Government News</td>\n",
       "      <td>Jan 31, 2017</td>\n",
       "      <td>0</td>\n",
       "    </tr>\n",
       "  </tbody>\n",
       "</table>\n",
       "</div>"
      ],
      "text/plain": [
       "                                                   title  \\\n",
       "150     ‘Alt-Right’ White House Reporter Gets Fooled ...   \n",
       "20072  #CrookedHillary Uses Twitter To Accuse Trump O...   \n",
       "9623   ESPN’S JEMELE HILL Makes Shocking Admission Ab...   \n",
       "3480    Bombshell CIA Report Reveals Russia’s Secret ...   \n",
       "16249  BREAKING: PRESIDENT TRUMP MAKES HIS PICK For T...   \n",
       "\n",
       "                                                    text          subject  \\\n",
       "150    When Donald Trump allowed popular Nazi blog Th...             News   \n",
       "20072  Hillary Clinton is bending over backwards to c...        left-news   \n",
       "9623   ESPN anchor Jemele Hill says she deserved to b...         politics   \n",
       "3480   Russia interfered in the 2016 U.S. presidentia...             News   \n",
       "16249  JUDGE NEIL GORSUCH   A strict conservative sim...  Government News   \n",
       "\n",
       "                   date  label  \n",
       "150    November 2, 2017      0  \n",
       "20072      Aug 25, 2016      0  \n",
       "9623       Oct 22, 2017      0  \n",
       "3480   December 9, 2016      0  \n",
       "16249      Jan 31, 2017      0  "
      ]
     },
     "execution_count": 581,
     "metadata": {},
     "output_type": "execute_result"
    }
   ],
   "source": [
    "fake_news.sample(5)"
   ]
  },
  {
   "cell_type": "code",
   "execution_count": 582,
   "metadata": {},
   "outputs": [
    {
     "data": {
      "text/html": [
       "<div>\n",
       "<style scoped>\n",
       "    .dataframe tbody tr th:only-of-type {\n",
       "        vertical-align: middle;\n",
       "    }\n",
       "\n",
       "    .dataframe tbody tr th {\n",
       "        vertical-align: top;\n",
       "    }\n",
       "\n",
       "    .dataframe thead th {\n",
       "        text-align: right;\n",
       "    }\n",
       "</style>\n",
       "<table border=\"1\" class=\"dataframe\">\n",
       "  <thead>\n",
       "    <tr style=\"text-align: right;\">\n",
       "      <th></th>\n",
       "      <th>title</th>\n",
       "      <th>text</th>\n",
       "      <th>subject</th>\n",
       "      <th>date</th>\n",
       "      <th>label</th>\n",
       "    </tr>\n",
       "  </thead>\n",
       "  <tbody>\n",
       "    <tr>\n",
       "      <th>23244</th>\n",
       "      <td>Ron Paul: Syria Has Been in Chaos Ever Since O...</td>\n",
       "      <td>21st Century Wire says Ron Paul told RT that t...</td>\n",
       "      <td>Middle-east</td>\n",
       "      <td>September 29, 2016</td>\n",
       "      <td>0</td>\n",
       "    </tr>\n",
       "    <tr>\n",
       "      <th>18103</th>\n",
       "      <td>END OF FOX NEWS MONOPOLY? LIBERAL Murdoch Sons...</td>\n",
       "      <td>The wife of Fox News co-owner James Murdoch, m...</td>\n",
       "      <td>left-news</td>\n",
       "      <td>Aug 19, 2017</td>\n",
       "      <td>0</td>\n",
       "    </tr>\n",
       "    <tr>\n",
       "      <th>13396</th>\n",
       "      <td>Bolivia's Morales says he'll seek fourth term,...</td>\n",
       "      <td>LA PAZ (Reuters) - Bolivian President Evo Mora...</td>\n",
       "      <td>worldnews</td>\n",
       "      <td>November 30, 2017</td>\n",
       "      <td>1</td>\n",
       "    </tr>\n",
       "    <tr>\n",
       "      <th>16732</th>\n",
       "      <td>UK PM May's meeting with EU officials 'constru...</td>\n",
       "      <td>LONDON (Reuters) - British Prime Minister Ther...</td>\n",
       "      <td>worldnews</td>\n",
       "      <td>October 23, 2017</td>\n",
       "      <td>1</td>\n",
       "    </tr>\n",
       "    <tr>\n",
       "      <th>11296</th>\n",
       "      <td>JUDGE JEANINE ON FIRE: “Paul Ryan Needs to Ste...</td>\n",
       "      <td></td>\n",
       "      <td>politics</td>\n",
       "      <td>Mar 25, 2017</td>\n",
       "      <td>0</td>\n",
       "    </tr>\n",
       "    <tr>\n",
       "      <th>16436</th>\n",
       "      <td>Iraqi PM Abadi demands Kurds cancel secession ...</td>\n",
       "      <td>BAGHDAD (Reuters) - Iraq s prime minister dema...</td>\n",
       "      <td>worldnews</td>\n",
       "      <td>October 26, 2017</td>\n",
       "      <td>1</td>\n",
       "    </tr>\n",
       "    <tr>\n",
       "      <th>2552</th>\n",
       "      <td>American Intelligence Agents Fear Giving Trum...</td>\n",
       "      <td>Donald Trump is clearly a threat to our nation...</td>\n",
       "      <td>News</td>\n",
       "      <td>February 13, 2017</td>\n",
       "      <td>0</td>\n",
       "    </tr>\n",
       "    <tr>\n",
       "      <th>3134</th>\n",
       "      <td>Trump lawyer says president not informed he is...</td>\n",
       "      <td>WASHINGTON (Reuters) - One of President Donald...</td>\n",
       "      <td>politicsNews</td>\n",
       "      <td>June 18, 2017</td>\n",
       "      <td>1</td>\n",
       "    </tr>\n",
       "    <tr>\n",
       "      <th>15460</th>\n",
       "      <td>Trump to give major North Korea speech, then p...</td>\n",
       "      <td>SEOUL (Reuters) - President Donald Trump will ...</td>\n",
       "      <td>worldnews</td>\n",
       "      <td>November 7, 2017</td>\n",
       "      <td>1</td>\n",
       "    </tr>\n",
       "    <tr>\n",
       "      <th>5876</th>\n",
       "      <td>NRA Breaks Silence On Orlando By Claiming ‘Po...</td>\n",
       "      <td>As is typical for the NRA whenever there s a h...</td>\n",
       "      <td>News</td>\n",
       "      <td>June 14, 2016</td>\n",
       "      <td>0</td>\n",
       "    </tr>\n",
       "  </tbody>\n",
       "</table>\n",
       "</div>"
      ],
      "text/plain": [
       "                                                   title  \\\n",
       "23244  Ron Paul: Syria Has Been in Chaos Ever Since O...   \n",
       "18103  END OF FOX NEWS MONOPOLY? LIBERAL Murdoch Sons...   \n",
       "13396  Bolivia's Morales says he'll seek fourth term,...   \n",
       "16732  UK PM May's meeting with EU officials 'constru...   \n",
       "11296  JUDGE JEANINE ON FIRE: “Paul Ryan Needs to Ste...   \n",
       "16436  Iraqi PM Abadi demands Kurds cancel secession ...   \n",
       "2552    American Intelligence Agents Fear Giving Trum...   \n",
       "3134   Trump lawyer says president not informed he is...   \n",
       "15460  Trump to give major North Korea speech, then p...   \n",
       "5876    NRA Breaks Silence On Orlando By Claiming ‘Po...   \n",
       "\n",
       "                                                    text       subject  \\\n",
       "23244  21st Century Wire says Ron Paul told RT that t...   Middle-east   \n",
       "18103  The wife of Fox News co-owner James Murdoch, m...     left-news   \n",
       "13396  LA PAZ (Reuters) - Bolivian President Evo Mora...     worldnews   \n",
       "16732  LONDON (Reuters) - British Prime Minister Ther...     worldnews   \n",
       "11296                                                         politics   \n",
       "16436  BAGHDAD (Reuters) - Iraq s prime minister dema...     worldnews   \n",
       "2552   Donald Trump is clearly a threat to our nation...          News   \n",
       "3134   WASHINGTON (Reuters) - One of President Donald...  politicsNews   \n",
       "15460  SEOUL (Reuters) - President Donald Trump will ...     worldnews   \n",
       "5876   As is typical for the NRA whenever there s a h...          News   \n",
       "\n",
       "                     date  label  \n",
       "23244  September 29, 2016      0  \n",
       "18103        Aug 19, 2017      0  \n",
       "13396  November 30, 2017       1  \n",
       "16732   October 23, 2017       1  \n",
       "11296        Mar 25, 2017      0  \n",
       "16436   October 26, 2017       1  \n",
       "2552    February 13, 2017      0  \n",
       "3134       June 18, 2017       1  \n",
       "15460   November 7, 2017       1  \n",
       "5876        June 14, 2016      0  "
      ]
     },
     "execution_count": 582,
     "metadata": {},
     "output_type": "execute_result"
    }
   ],
   "source": [
    "# création du dataset complet\n",
    "dataframe = pd.concat([real_news, fake_news])\n",
    "dataframe.sample(10)"
   ]
  },
  {
   "cell_type": "code",
   "execution_count": 583,
   "metadata": {},
   "outputs": [
    {
     "name": "stdout",
     "output_type": "stream",
     "text": [
      "Nombre de références : 44898\n",
      "Nombre de fake news : 23481\n",
      "Nombre de vraies news : 21417\n"
     ]
    }
   ],
   "source": [
    "print(f\"Nombre de références : {dataframe.title.count()}\")\n",
    "print(f\"Nombre de fake news : {fake_news.title.count()}\")\n",
    "print(f\"Nombre de vraies news : {real_news.title.count()}\")"
   ]
  },
  {
   "cell_type": "code",
   "execution_count": 584,
   "metadata": {},
   "outputs": [],
   "source": [
    "# ici on ne s'intéresse qu'au titre et au label\n",
    "del dataframe[\"text\"]\n",
    "del dataframe[\"subject\"]\n",
    "del dataframe[\"date\"]"
   ]
  },
  {
   "cell_type": "code",
   "execution_count": 585,
   "metadata": {},
   "outputs": [
    {
     "data": {
      "text/html": [
       "<div>\n",
       "<style scoped>\n",
       "    .dataframe tbody tr th:only-of-type {\n",
       "        vertical-align: middle;\n",
       "    }\n",
       "\n",
       "    .dataframe tbody tr th {\n",
       "        vertical-align: top;\n",
       "    }\n",
       "\n",
       "    .dataframe thead th {\n",
       "        text-align: right;\n",
       "    }\n",
       "</style>\n",
       "<table border=\"1\" class=\"dataframe\">\n",
       "  <thead>\n",
       "    <tr style=\"text-align: right;\">\n",
       "      <th></th>\n",
       "      <th>title</th>\n",
       "      <th>label</th>\n",
       "    </tr>\n",
       "  </thead>\n",
       "  <tbody>\n",
       "    <tr>\n",
       "      <th>10615</th>\n",
       "      <td>MSNBC’S CHRIS MATTHEWS DEFENDS VA SHOOTER: “He...</td>\n",
       "      <td>0</td>\n",
       "    </tr>\n",
       "    <tr>\n",
       "      <th>16855</th>\n",
       "      <td>[VIDEO] DINESH D’SOUZA Warned Us About What Th...</td>\n",
       "      <td>0</td>\n",
       "    </tr>\n",
       "    <tr>\n",
       "      <th>9437</th>\n",
       "      <td>WOW! JEB BUSH Claims Roy Moore Should “Step As...</td>\n",
       "      <td>0</td>\n",
       "    </tr>\n",
       "    <tr>\n",
       "      <th>12655</th>\n",
       "      <td>VIRAL VIDEO: A Must Watch Video Hillary Doesn’...</td>\n",
       "      <td>0</td>\n",
       "    </tr>\n",
       "    <tr>\n",
       "      <th>2099</th>\n",
       "      <td>Amid Trump backlash, his U.N. envoy says stand...</td>\n",
       "      <td>1</td>\n",
       "    </tr>\n",
       "    <tr>\n",
       "      <th>15672</th>\n",
       "      <td>UPDATE: JUDGE REJECTS STATE DEPARTMENT PUSH FO...</td>\n",
       "      <td>0</td>\n",
       "    </tr>\n",
       "    <tr>\n",
       "      <th>11073</th>\n",
       "      <td>White House backs Treasury view that Russia's ...</td>\n",
       "      <td>1</td>\n",
       "    </tr>\n",
       "    <tr>\n",
       "      <th>6867</th>\n",
       "      <td>This Simple Graph Blows The ‘Media Has A Libe...</td>\n",
       "      <td>0</td>\n",
       "    </tr>\n",
       "    <tr>\n",
       "      <th>5376</th>\n",
       "      <td>Top Senate Republican: Will move on healthcare...</td>\n",
       "      <td>1</td>\n",
       "    </tr>\n",
       "    <tr>\n",
       "      <th>7369</th>\n",
       "      <td>Clinton, Obama pledge unity behind Trump presi...</td>\n",
       "      <td>1</td>\n",
       "    </tr>\n",
       "  </tbody>\n",
       "</table>\n",
       "</div>"
      ],
      "text/plain": [
       "                                                   title  label\n",
       "10615  MSNBC’S CHRIS MATTHEWS DEFENDS VA SHOOTER: “He...      0\n",
       "16855  [VIDEO] DINESH D’SOUZA Warned Us About What Th...      0\n",
       "9437   WOW! JEB BUSH Claims Roy Moore Should “Step As...      0\n",
       "12655  VIRAL VIDEO: A Must Watch Video Hillary Doesn’...      0\n",
       "2099   Amid Trump backlash, his U.N. envoy says stand...      1\n",
       "15672  UPDATE: JUDGE REJECTS STATE DEPARTMENT PUSH FO...      0\n",
       "11073  White House backs Treasury view that Russia's ...      1\n",
       "6867    This Simple Graph Blows The ‘Media Has A Libe...      0\n",
       "5376   Top Senate Republican: Will move on healthcare...      1\n",
       "7369   Clinton, Obama pledge unity behind Trump presi...      1"
      ]
     },
     "execution_count": 585,
     "metadata": {},
     "output_type": "execute_result"
    }
   ],
   "source": [
    "dataframe.sample(10)"
   ]
  },
  {
   "cell_type": "code",
   "execution_count": 586,
   "metadata": {},
   "outputs": [
    {
     "data": {
      "text/html": [
       "<div>\n",
       "<style scoped>\n",
       "    .dataframe tbody tr th:only-of-type {\n",
       "        vertical-align: middle;\n",
       "    }\n",
       "\n",
       "    .dataframe tbody tr th {\n",
       "        vertical-align: top;\n",
       "    }\n",
       "\n",
       "    .dataframe thead th {\n",
       "        text-align: right;\n",
       "    }\n",
       "</style>\n",
       "<table border=\"1\" class=\"dataframe\">\n",
       "  <thead>\n",
       "    <tr style=\"text-align: right;\">\n",
       "      <th></th>\n",
       "      <th>title</th>\n",
       "      <th>label</th>\n",
       "    </tr>\n",
       "  </thead>\n",
       "  <tbody>\n",
       "    <tr>\n",
       "      <th>2547</th>\n",
       "      <td>Whoopi SHREDS Betsy DeVos Ignorance Of Public ...</td>\n",
       "      <td>0</td>\n",
       "    </tr>\n",
       "    <tr>\n",
       "      <th>9885</th>\n",
       "      <td>North Korea learn Iran nuclear deal US says</td>\n",
       "      <td>1</td>\n",
       "    </tr>\n",
       "    <tr>\n",
       "      <th>15561</th>\n",
       "      <td>Catalonias exleader granted freedom campaign i...</td>\n",
       "      <td>1</td>\n",
       "    </tr>\n",
       "    <tr>\n",
       "      <th>3377</th>\n",
       "      <td>Trumps clear try rebuild Russia ties Tillerson</td>\n",
       "      <td>1</td>\n",
       "    </tr>\n",
       "    <tr>\n",
       "      <th>10096</th>\n",
       "      <td>Former New York deputy secretary state accused...</td>\n",
       "      <td>1</td>\n",
       "    </tr>\n",
       "    <tr>\n",
       "      <th>11426</th>\n",
       "      <td>ENVIRONMENTAL TERRORISTS Videotape Themselves ...</td>\n",
       "      <td>0</td>\n",
       "    </tr>\n",
       "    <tr>\n",
       "      <th>972</th>\n",
       "      <td>Trump says Manafort charges years ago indictme...</td>\n",
       "      <td>1</td>\n",
       "    </tr>\n",
       "    <tr>\n",
       "      <th>14633</th>\n",
       "      <td>Refugee crisis influx boon German integration ...</td>\n",
       "      <td>1</td>\n",
       "    </tr>\n",
       "    <tr>\n",
       "      <th>11256</th>\n",
       "      <td>REPORT FBI DIRECTOR COMEY Blocked By Obama Adm...</td>\n",
       "      <td>0</td>\n",
       "    </tr>\n",
       "    <tr>\n",
       "      <th>13018</th>\n",
       "      <td>Trump undermining stability Jerusalem move Ger...</td>\n",
       "      <td>1</td>\n",
       "    </tr>\n",
       "  </tbody>\n",
       "</table>\n",
       "</div>"
      ],
      "text/plain": [
       "                                                   title  label\n",
       "2547   Whoopi SHREDS Betsy DeVos Ignorance Of Public ...      0\n",
       "9885         North Korea learn Iran nuclear deal US says      1\n",
       "15561  Catalonias exleader granted freedom campaign i...      1\n",
       "3377      Trumps clear try rebuild Russia ties Tillerson      1\n",
       "10096  Former New York deputy secretary state accused...      1\n",
       "11426  ENVIRONMENTAL TERRORISTS Videotape Themselves ...      0\n",
       "972    Trump says Manafort charges years ago indictme...      1\n",
       "14633  Refugee crisis influx boon German integration ...      1\n",
       "11256  REPORT FBI DIRECTOR COMEY Blocked By Obama Adm...      0\n",
       "13018  Trump undermining stability Jerusalem move Ger...      1"
      ]
     },
     "execution_count": 586,
     "metadata": {},
     "output_type": "execute_result"
    }
   ],
   "source": [
    "# nettoyage des données (ponctuations)\n",
    "\n",
    "stopWords = set(stopwords.words(\"english\"))\n",
    "\n",
    "def cleanText(text):\n",
    "    forbidden = {\",\",\"@\",\";\",\"/\",\"-\",\":\",\".\",\"!\",\"?\", \"#\",\"\\\"\",\"(\",\")\",\"\\'\",\"’\",\"‘\",\"–\"}\n",
    "    res = text\n",
    "    if res != None:\n",
    "        for elm in forbidden:\n",
    "            res = res.replace(elm, \"\")\n",
    "        res = res.split()\n",
    "        cleaned = []\n",
    "        for word in res:\n",
    "            if not word in stopWords:\n",
    "                cleaned.append(word)\n",
    "        res = \" \".join(cleaned)\n",
    "    return res\n",
    "\n",
    "dataframe[\"title\"] = dataframe[\"title\"].apply(cleanText)\n",
    "\n",
    "dataframe.sample(10)"
   ]
  },
  {
   "cell_type": "code",
   "execution_count": 587,
   "metadata": {},
   "outputs": [
    {
     "name": "stdout",
     "output_type": "stream",
     "text": [
      "Données d'entrainement : 8979\n",
      "Données de test : 35919\n"
     ]
    }
   ],
   "source": [
    "# on sépare les données en données d'entraînement et données de test (80% et 20%)\n",
    "x_train, x_test, y_train, y_test = train_test_split(dataframe[\"title\"], dataframe[\"label\"], test_size=0.80, random_state = 42)\n",
    "print(f\"Données d'entrainement : {len(x_train)}\")\n",
    "print(f\"Données de test : {len(x_test)}\")"
   ]
  },
  {
   "cell_type": "code",
   "execution_count": 588,
   "metadata": {},
   "outputs": [],
   "source": [
    "max_features = 10000 # taille max du vocab\n",
    "maxlen = 30 # taille max de séquence"
   ]
  },
  {
   "cell_type": "code",
   "execution_count": 589,
   "metadata": {},
   "outputs": [],
   "source": [
    "# vectorisation naïve en \"one-hot\"\n",
    "tokenizer = Tokenizer(num_words=max_features)\n",
    "tokenizer.fit_on_texts(x_train)"
   ]
  },
  {
   "cell_type": "code",
   "execution_count": 590,
   "metadata": {},
   "outputs": [],
   "source": [
    "# vectorisation des données d'entraînement\n",
    "x_train = tokenizer.texts_to_sequences(x_train)\n",
    "x_train = pad_sequences(x_train, maxlen=maxlen)"
   ]
  },
  {
   "cell_type": "code",
   "execution_count": 591,
   "metadata": {},
   "outputs": [],
   "source": [
    "# vectorisation des données de test\n",
    "x_test = tokenizer.texts_to_sequences(x_test)\n",
    "x_test = pad_sequences(x_test, maxlen=maxlen)"
   ]
  },
  {
   "cell_type": "code",
   "execution_count": 592,
   "metadata": {},
   "outputs": [],
   "source": [
    "batch_size = 256\n",
    "nb_epochs = 10\n",
    "embedded_dim = 100"
   ]
  },
  {
   "cell_type": "code",
   "execution_count": 593,
   "metadata": {},
   "outputs": [
    {
     "name": "stdout",
     "output_type": "stream",
     "text": [
      "Model: \"sequential_21\"\n",
      "_________________________________________________________________\n",
      "Layer (type)                 Output Shape              Param #   \n",
      "=================================================================\n",
      "embedding_21 (Embedding)     (None, 30, 100)           1000000   \n",
      "_________________________________________________________________\n",
      "reshape_21 (Reshape)         (None, 1, 30, 100)        0         \n",
      "_________________________________________________________________\n",
      "conv2d_41 (Conv2D)           (None, 1, 30, 64)         19264     \n",
      "_________________________________________________________________\n",
      "dropout_21 (Dropout)         (None, 1, 30, 64)         0         \n",
      "_________________________________________________________________\n",
      "conv2d_42 (Conv2D)           (None, 1, 30, 32)         6176      \n",
      "_________________________________________________________________\n",
      "flatten_21 (Flatten)         (None, 960)               0         \n",
      "_________________________________________________________________\n",
      "dense_21 (Dense)             (None, 1)                 961       \n",
      "=================================================================\n",
      "Total params: 1,026,401\n",
      "Trainable params: 1,026,401\n",
      "Non-trainable params: 0\n",
      "_________________________________________________________________\n"
     ]
    }
   ],
   "source": [
    "model = Sequential()\n",
    "model.add(Embedding(max_features, output_dim=embedded_dim, input_length=maxlen, trainable=True))\n",
    "model.add(Reshape((1, 30, 100)))\n",
    "model.add(Conv2D(64, (3, 1), padding=\"same\"))\n",
    "model.add(Dropout(0.1))\n",
    "model.add(Conv2D(32, (3, 1), padding=\"same\"))\n",
    "model.add(Flatten())\n",
    "model.add(Dense(1, activation=\"sigmoid\"))\n",
    "model.compile(loss=\"binary_crossentropy\", optimizer=Adam(lr=0.0002), metrics=[\"accuracy\"])\n",
    "model.summary()"
   ]
  },
  {
   "cell_type": "code",
   "execution_count": 594,
   "metadata": {},
   "outputs": [
    {
     "name": "stderr",
     "output_type": "stream",
     "text": [
      "C:\\Users\\Shadow\\AppData\\Roaming\\Python\\Python37\\site-packages\\tensorflow\\python\\framework\\indexed_slices.py:434: UserWarning: Converting sparse IndexedSlices to a dense Tensor of unknown shape. This may consume a large amount of memory.\n",
      "  \"Converting sparse IndexedSlices to a dense Tensor of unknown shape. \"\n"
     ]
    },
    {
     "name": "stdout",
     "output_type": "stream",
     "text": [
      "Epoch 1/10\n",
      "8979/8979 [==============================] - 0s 49us/step - loss: 0.6816 - accuracy: 0.7853\n",
      "Epoch 2/10\n",
      "8979/8979 [==============================] - 0s 26us/step - loss: 0.6259 - accuracy: 0.8627\n",
      "Epoch 3/10\n",
      "8979/8979 [==============================] - 0s 27us/step - loss: 0.4524 - accuracy: 0.8977\n",
      "Epoch 4/10\n",
      "8979/8979 [==============================] - 0s 26us/step - loss: 0.2589 - accuracy: 0.9194\n",
      "Epoch 5/10\n",
      "8979/8979 [==============================] - 0s 27us/step - loss: 0.1752 - accuracy: 0.9408\n",
      "Epoch 6/10\n",
      "8979/8979 [==============================] - 0s 26us/step - loss: 0.1234 - accuracy: 0.9629\n",
      "Epoch 7/10\n",
      "8979/8979 [==============================] - 0s 27us/step - loss: 0.0853 - accuracy: 0.9769\n",
      "Epoch 8/10\n",
      "8979/8979 [==============================] - 0s 26us/step - loss: 0.0610 - accuracy: 0.9849\n",
      "Epoch 9/10\n",
      "8979/8979 [==============================] - 0s 26us/step - loss: 0.0449 - accuracy: 0.9894\n",
      "Epoch 10/10\n",
      "8979/8979 [==============================] - 0s 26us/step - loss: 0.0340 - accuracy: 0.9924\n"
     ]
    }
   ],
   "source": [
    "progress = model.fit(x_train, y_train, batch_size=batch_size, epochs=nb_epochs)"
   ]
  },
  {
   "cell_type": "code",
   "execution_count": 595,
   "metadata": {},
   "outputs": [],
   "source": [
    "model.save(\"firstTry2.h5\")"
   ]
  },
  {
   "cell_type": "code",
   "execution_count": 596,
   "metadata": {},
   "outputs": [],
   "source": [
    "# art plastique du turfu featuring le poto matplotlib\n",
    "from matplotlib import pyplot as plt"
   ]
  },
  {
   "cell_type": "code",
   "execution_count": 597,
   "metadata": {},
   "outputs": [
    {
     "data": {
      "image/png": "[encoded data removed]",
      "text/plain": [
       "<Figure size 1440x720 with 2 Axes>"
      ]
     },
     "metadata": {
      "needs_background": "light"
     },
     "output_type": "display_data"
    }
   ],
   "source": [
    "figure, ax = plt.subplots(1, 2)\n",
    "figure.set_size_inches(20,10)\n",
    "\n",
    "ax[0].plot(progress.history[\"loss\"])\n",
    "\n",
    "ax[1].plot(progress.history[\"accuracy\"])\n",
    "\n",
    "plt.show()"
   ]
  },
  {
   "cell_type": "code",
   "execution_count": 598,
   "metadata": {},
   "outputs": [],
   "source": [
    "to_predict = dataframe"
   ]
  },
  {
   "cell_type": "code",
   "execution_count": 599,
   "metadata": {},
   "outputs": [
    {
     "data": {
      "text/plain": [
       "0        As US budget fight looms Republicans flip fisc...\n",
       "1        US military accept transgender recruits Monday...\n",
       "2          Senior US Republican senator Let Mr Mueller job\n",
       "3        FBI Russia probe helped Australian diplomat ti...\n",
       "4        Trump wants Postal Service charge much Amazon ...\n",
       "                               ...                        \n",
       "23476    McPain John McCain Furious That Iran Treated U...\n",
       "23477    JUSTICE Yahoo Settles Email Privacy Classactio...\n",
       "23478    Sunnistan US Allied Safe Zone Plan Take Territ...\n",
       "23479    How Blow $700 Million Al Jazeera America Final...\n",
       "23480    10 US Navy Sailors Held Iranian Military Signs...\n",
       "Name: title, Length: 44898, dtype: object"
      ]
     },
     "execution_count": 599,
     "metadata": {},
     "output_type": "execute_result"
    }
   ],
   "source": [
    "X_test = to_predict[\"title\"]\n",
    "X_test"
   ]
  },
  {
   "cell_type": "code",
   "execution_count": 600,
   "metadata": {},
   "outputs": [
    {
     "data": {
      "text/plain": [
       "0        1\n",
       "1        1\n",
       "2        1\n",
       "3        1\n",
       "4        1\n",
       "        ..\n",
       "23476    0\n",
       "23477    0\n",
       "23478    0\n",
       "23479    0\n",
       "23480    0\n",
       "Name: label, Length: 44898, dtype: int64"
      ]
     },
     "execution_count": 600,
     "metadata": {},
     "output_type": "execute_result"
    }
   ],
   "source": [
    "Y_test = to_predict[\"label\"]\n",
    "Y_test"
   ]
  },
  {
   "cell_type": "code",
   "execution_count": 601,
   "metadata": {},
   "outputs": [
    {
     "data": {
      "text/plain": [
       "array([   0,    0,    0,    0,    0,    0,    0,    0,    0,    0,    0,\n",
       "          0,    0,    0,    0,    0,    0,    0,    0,    0,    0,   42,\n",
       "          5,  273,  171, 1315,   62, 3133, 2662, 8426])"
      ]
     },
     "execution_count": 601,
     "metadata": {},
     "output_type": "execute_result"
    }
   ],
   "source": [
    "X_test = tokenizer.texts_to_sequences(X_test)\n",
    "X_test = pad_sequences(X_test, maxlen=maxlen)\n",
    "X_test[0]"
   ]
  },
  {
   "cell_type": "code",
   "execution_count": 602,
   "metadata": {},
   "outputs": [],
   "source": [
    "predictions = model.predict(X_test)"
   ]
  },
  {
   "cell_type": "code",
   "execution_count": 603,
   "metadata": {},
   "outputs": [
    {
     "data": {
      "image/png": "[encoded data removed]",
      "text/plain": [
       "<Figure size 720x720 with 2 Axes>"
      ]
     },
     "metadata": {
      "needs_background": "light"
     },
     "output_type": "display_data"
    }
   ],
   "source": [
    "cm_plot_labels = [\"Vraie Info\",\"Fausse Info\"]\n",
    "cm = confusion_matrix(Y_test, np.round(predictions))\n",
    "plot_confusion_matrix(cm, cm_plot_labels)"
   ]
  }
 ],
 "metadata": {
  "kernelspec": {
   "display_name": "Python 3",
   "language": "python",
   "name": "python3"
  },
  "language_info": {
   "codemirror_mode": {
    "name": "ipython",
    "version": 3
   },
   "file_extension": ".py",
   "mimetype": "text/x-python",
   "name": "python",
   "nbconvert_exporter": "python",
   "pygments_lexer": "ipython3",
   "version": "3.7.7"
  }
 },
 "nbformat": 4,
 "nbformat_minor": 4
}
