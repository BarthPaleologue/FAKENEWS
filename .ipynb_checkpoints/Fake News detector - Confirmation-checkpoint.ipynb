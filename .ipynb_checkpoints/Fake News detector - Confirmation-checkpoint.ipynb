{
 "cells": [
  {
   "cell_type": "code",
   "execution_count": 1,
   "metadata": {},
   "outputs": [
    {
     "name": "stderr",
     "output_type": "stream",
     "text": [
      "Using TensorFlow backend.\n"
     ]
    }
   ],
   "source": [
    "import pandas as pd\n",
    "\n",
    "from nltk.corpus import stopwords\n",
    "from sklearn.model_selection import train_test_split\n",
    "from keras.preprocessing.text import Tokenizer\n",
    "from keras.preprocessing.sequence import pad_sequences\n",
    "\n",
    "from keras.models import Sequential\n",
    "from keras.layers import Conv2D, Dropout, Dense, Embedding, Flatten, Reshape\n",
    "from keras.optimizers import Adam"
   ]
  },
  {
   "cell_type": "markdown",
   "metadata": {},
   "source": [
    "<h1>Traitement des données</h1>"
   ]
  },
  {
   "cell_type": "code",
   "execution_count": 2,
   "metadata": {},
   "outputs": [],
   "source": [
    "# chargement des deux tables\n",
    "data = pd.read_csv(\"./dataset2/train.csv\")"
   ]
  },
  {
   "cell_type": "code",
   "execution_count": 3,
   "metadata": {},
   "outputs": [
    {
     "data": {
      "text/html": [
       "<div>\n",
       "<style scoped>\n",
       "    .dataframe tbody tr th:only-of-type {\n",
       "        vertical-align: middle;\n",
       "    }\n",
       "\n",
       "    .dataframe tbody tr th {\n",
       "        vertical-align: top;\n",
       "    }\n",
       "\n",
       "    .dataframe thead th {\n",
       "        text-align: right;\n",
       "    }\n",
       "</style>\n",
       "<table border=\"1\" class=\"dataframe\">\n",
       "  <thead>\n",
       "    <tr style=\"text-align: right;\">\n",
       "      <th></th>\n",
       "      <th>id</th>\n",
       "      <th>title</th>\n",
       "      <th>author</th>\n",
       "      <th>text</th>\n",
       "      <th>label</th>\n",
       "    </tr>\n",
       "  </thead>\n",
       "  <tbody>\n",
       "    <tr>\n",
       "      <th>12306</th>\n",
       "      <td>12306</td>\n",
       "      <td>Silver And Gresham’s Law</td>\n",
       "      <td>admin</td>\n",
       "      <td>Financial Markets , Gold , Market Manipulation...</td>\n",
       "      <td>1</td>\n",
       "    </tr>\n",
       "    <tr>\n",
       "      <th>19679</th>\n",
       "      <td>19679</td>\n",
       "      <td>SGT Report and Dr. Richard Sauder: DEEP UNDERG...</td>\n",
       "      <td>stevew</td>\n",
       "      <td>DEEP UNDERGROUND BASES &amp; THE SATANIC BREAKAWAY...</td>\n",
       "      <td>1</td>\n",
       "    </tr>\n",
       "    <tr>\n",
       "      <th>20763</th>\n",
       "      <td>20763</td>\n",
       "      <td>The Forgotten Man</td>\n",
       "      <td>Judge Andrew Napolitano</td>\n",
       "      <td>The forgotten man decided the presidential ele...</td>\n",
       "      <td>1</td>\n",
       "    </tr>\n",
       "    <tr>\n",
       "      <th>18839</th>\n",
       "      <td>18839</td>\n",
       "      <td>Torn Over Donald Trump and Cut Off by Culture ...</td>\n",
       "      <td>Laurie Goodstein</td>\n",
       "      <td>GRIMES, Iowa  —   Betty and Dick Odgaard used ...</td>\n",
       "      <td>0</td>\n",
       "    </tr>\n",
       "    <tr>\n",
       "      <th>4947</th>\n",
       "      <td>4947</td>\n",
       "      <td>Krankenhaus führt Operationen nur noch nachts ...</td>\n",
       "      <td>noreply@blogger.com (Der Postillon)</td>\n",
       "      <td>Donnerstag, 17. November 2016 Krankenhaus führ...</td>\n",
       "      <td>1</td>\n",
       "    </tr>\n",
       "  </tbody>\n",
       "</table>\n",
       "</div>"
      ],
      "text/plain": [
       "          id                                              title  \\\n",
       "12306  12306                           Silver And Gresham’s Law   \n",
       "19679  19679  SGT Report and Dr. Richard Sauder: DEEP UNDERG...   \n",
       "20763  20763                                  The Forgotten Man   \n",
       "18839  18839  Torn Over Donald Trump and Cut Off by Culture ...   \n",
       "4947    4947  Krankenhaus führt Operationen nur noch nachts ...   \n",
       "\n",
       "                                    author  \\\n",
       "12306                                admin   \n",
       "19679                               stevew   \n",
       "20763              Judge Andrew Napolitano   \n",
       "18839                     Laurie Goodstein   \n",
       "4947   noreply@blogger.com (Der Postillon)   \n",
       "\n",
       "                                                    text  label  \n",
       "12306  Financial Markets , Gold , Market Manipulation...      1  \n",
       "19679  DEEP UNDERGROUND BASES & THE SATANIC BREAKAWAY...      1  \n",
       "20763  The forgotten man decided the presidential ele...      1  \n",
       "18839  GRIMES, Iowa  —   Betty and Dick Odgaard used ...      0  \n",
       "4947   Donnerstag, 17. November 2016 Krankenhaus führ...      1  "
      ]
     },
     "execution_count": 3,
     "metadata": {},
     "output_type": "execute_result"
    }
   ],
   "source": [
    "data.sample(5)"
   ]
  },
  {
   "cell_type": "code",
   "execution_count": 24,
   "metadata": {},
   "outputs": [
    {
     "name": "stdout",
     "output_type": "stream",
     "text": [
      "Nombre de références : 44898\n",
      "Nombre de fake news : 23481\n",
      "Nombre de vraies news : 21417\n"
     ]
    }
   ],
   "source": [
    "print(f\"Nombre de références : {da.title.count()}\")\n",
    "print(f\"Nombre de fake news : {fake_news.title.count()}\")\n",
    "print(f\"Nombre de vraies news : {real_news.title.count()}\")"
   ]
  },
  {
   "cell_type": "code",
   "execution_count": 25,
   "metadata": {},
   "outputs": [],
   "source": [
    "# ici on ne s'intéresse qu'au titre et au label\n",
    "del dataframe[\"text\"]\n",
    "del dataframe[\"subject\"]\n",
    "del dataframe[\"date\"]"
   ]
  },
  {
   "cell_type": "code",
   "execution_count": 27,
   "metadata": {},
   "outputs": [
    {
     "data": {
      "text/html": [
       "<div>\n",
       "<style scoped>\n",
       "    .dataframe tbody tr th:only-of-type {\n",
       "        vertical-align: middle;\n",
       "    }\n",
       "\n",
       "    .dataframe tbody tr th {\n",
       "        vertical-align: top;\n",
       "    }\n",
       "\n",
       "    .dataframe thead th {\n",
       "        text-align: right;\n",
       "    }\n",
       "</style>\n",
       "<table border=\"1\" class=\"dataframe\">\n",
       "  <thead>\n",
       "    <tr style=\"text-align: right;\">\n",
       "      <th></th>\n",
       "      <th>title</th>\n",
       "      <th>label</th>\n",
       "    </tr>\n",
       "  </thead>\n",
       "  <tbody>\n",
       "    <tr>\n",
       "      <th>18076</th>\n",
       "      <td>Woman arrested trying to scale gates of UK's B...</td>\n",
       "      <td>1</td>\n",
       "    </tr>\n",
       "    <tr>\n",
       "      <th>11278</th>\n",
       "      <td>KELLYANNE CONWAY: Here’s My Favorite SNL Skit!...</td>\n",
       "      <td>0</td>\n",
       "    </tr>\n",
       "    <tr>\n",
       "      <th>11463</th>\n",
       "      <td>Aardvark dies in blaze at London Zoo, meerkats...</td>\n",
       "      <td>1</td>\n",
       "    </tr>\n",
       "    <tr>\n",
       "      <th>17672</th>\n",
       "      <td>MEGYN KELLY PRAISES Woman Who Flipped Off Trum...</td>\n",
       "      <td>0</td>\n",
       "    </tr>\n",
       "    <tr>\n",
       "      <th>15711</th>\n",
       "      <td>Mexico report flags shortcomings in fight agai...</td>\n",
       "      <td>1</td>\n",
       "    </tr>\n",
       "    <tr>\n",
       "      <th>5583</th>\n",
       "      <td>Trump's spy chiefs to be members of Cabinet: W...</td>\n",
       "      <td>1</td>\n",
       "    </tr>\n",
       "    <tr>\n",
       "      <th>13825</th>\n",
       "      <td>Cuba holds municipal elections on road to Cast...</td>\n",
       "      <td>1</td>\n",
       "    </tr>\n",
       "    <tr>\n",
       "      <th>15060</th>\n",
       "      <td>FULL SPEECH: Trump Rocks South Carolina With A...</td>\n",
       "      <td>0</td>\n",
       "    </tr>\n",
       "    <tr>\n",
       "      <th>7567</th>\n",
       "      <td>Popular St. Louis Bar Closed For Having A Cli...</td>\n",
       "      <td>0</td>\n",
       "    </tr>\n",
       "    <tr>\n",
       "      <th>7674</th>\n",
       "      <td>Hacked emails show Clinton aides surprised at ...</td>\n",
       "      <td>1</td>\n",
       "    </tr>\n",
       "  </tbody>\n",
       "</table>\n",
       "</div>"
      ],
      "text/plain": [
       "                                                   title  label\n",
       "18076  Woman arrested trying to scale gates of UK's B...      1\n",
       "11278  KELLYANNE CONWAY: Here’s My Favorite SNL Skit!...      0\n",
       "11463  Aardvark dies in blaze at London Zoo, meerkats...      1\n",
       "17672  MEGYN KELLY PRAISES Woman Who Flipped Off Trum...      0\n",
       "15711  Mexico report flags shortcomings in fight agai...      1\n",
       "5583   Trump's spy chiefs to be members of Cabinet: W...      1\n",
       "13825  Cuba holds municipal elections on road to Cast...      1\n",
       "15060  FULL SPEECH: Trump Rocks South Carolina With A...      0\n",
       "7567    Popular St. Louis Bar Closed For Having A Cli...      0\n",
       "7674   Hacked emails show Clinton aides surprised at ...      1"
      ]
     },
     "execution_count": 27,
     "metadata": {},
     "output_type": "execute_result"
    }
   ],
   "source": [
    "dataframe.sample(10)"
   ]
  },
  {
   "cell_type": "code",
   "execution_count": 28,
   "metadata": {},
   "outputs": [
    {
     "data": {
      "text/html": [
       "<div>\n",
       "<style scoped>\n",
       "    .dataframe tbody tr th:only-of-type {\n",
       "        vertical-align: middle;\n",
       "    }\n",
       "\n",
       "    .dataframe tbody tr th {\n",
       "        vertical-align: top;\n",
       "    }\n",
       "\n",
       "    .dataframe thead th {\n",
       "        text-align: right;\n",
       "    }\n",
       "</style>\n",
       "<table border=\"1\" class=\"dataframe\">\n",
       "  <thead>\n",
       "    <tr style=\"text-align: right;\">\n",
       "      <th></th>\n",
       "      <th>title</th>\n",
       "      <th>label</th>\n",
       "    </tr>\n",
       "  </thead>\n",
       "  <tbody>\n",
       "    <tr>\n",
       "      <th>22846</th>\n",
       "      <td>John McCain The Cancer Conflict</td>\n",
       "      <td>0</td>\n",
       "    </tr>\n",
       "    <tr>\n",
       "      <th>9108</th>\n",
       "      <td>Senators Trump open ban gun sales Orlando</td>\n",
       "      <td>1</td>\n",
       "    </tr>\n",
       "    <tr>\n",
       "      <th>20105</th>\n",
       "      <td>WHY TRUMPS NEW CEO Will Be The Lefts Worst Nig...</td>\n",
       "      <td>0</td>\n",
       "    </tr>\n",
       "    <tr>\n",
       "      <th>15417</th>\n",
       "      <td>Saudi crown prince calls Iran supply rockets m...</td>\n",
       "      <td>1</td>\n",
       "    </tr>\n",
       "    <tr>\n",
       "      <th>3320</th>\n",
       "      <td>Comey account could fuel obstruction accusatio...</td>\n",
       "      <td>1</td>\n",
       "    </tr>\n",
       "    <tr>\n",
       "      <th>14452</th>\n",
       "      <td>HOW PRESIDENT EISENHOWER Solved The Illegal Im...</td>\n",
       "      <td>0</td>\n",
       "    </tr>\n",
       "    <tr>\n",
       "      <th>1542</th>\n",
       "      <td>Fear Of Being Defeated By Elizabeth Warren In ...</td>\n",
       "      <td>0</td>\n",
       "    </tr>\n",
       "    <tr>\n",
       "      <th>3845</th>\n",
       "      <td>BREAKING Stunning Development In Trump Fraud C...</td>\n",
       "      <td>0</td>\n",
       "    </tr>\n",
       "    <tr>\n",
       "      <th>14472</th>\n",
       "      <td>SYRIAN REFUGEE Family LIED About BED BUG Infes...</td>\n",
       "      <td>0</td>\n",
       "    </tr>\n",
       "    <tr>\n",
       "      <th>4694</th>\n",
       "      <td>Prisoners Are Going On Strike Across The Unite...</td>\n",
       "      <td>0</td>\n",
       "    </tr>\n",
       "  </tbody>\n",
       "</table>\n",
       "</div>"
      ],
      "text/plain": [
       "                                                   title  label\n",
       "22846                    John McCain The Cancer Conflict      0\n",
       "9108           Senators Trump open ban gun sales Orlando      1\n",
       "20105  WHY TRUMPS NEW CEO Will Be The Lefts Worst Nig...      0\n",
       "15417  Saudi crown prince calls Iran supply rockets m...      1\n",
       "3320   Comey account could fuel obstruction accusatio...      1\n",
       "14452  HOW PRESIDENT EISENHOWER Solved The Illegal Im...      0\n",
       "1542   Fear Of Being Defeated By Elizabeth Warren In ...      0\n",
       "3845   BREAKING Stunning Development In Trump Fraud C...      0\n",
       "14472  SYRIAN REFUGEE Family LIED About BED BUG Infes...      0\n",
       "4694   Prisoners Are Going On Strike Across The Unite...      0"
      ]
     },
     "execution_count": 28,
     "metadata": {},
     "output_type": "execute_result"
    }
   ],
   "source": [
    "# nettoyage des données (ponctuations)\n",
    "\n",
    "stopWords = set(stopwords.words(\"english\"))\n",
    "\n",
    "def cleanText(text):\n",
    "    forbidden = {\",\",\"@\",\";\",\"/\",\"-\",\":\",\".\",\"!\",\"?\", \"#\",\"\\\"\",\"(\",\")\",\"\\'\",\"’\",\"‘\",\"–\"}\n",
    "    res = text\n",
    "    if res != None:\n",
    "        for elm in forbidden:\n",
    "            res = res.replace(elm, \"\")\n",
    "        res = res.split()\n",
    "        cleaned = []\n",
    "        for word in res:\n",
    "            if not word in stopWords:\n",
    "                cleaned.append(word)\n",
    "        res = \" \".join(cleaned)\n",
    "    return res\n",
    "\n",
    "dataframe[\"title\"] = dataframe[\"title\"].apply(cleanText)\n",
    "\n",
    "dataframe.sample(10)"
   ]
  },
  {
   "cell_type": "code",
   "execution_count": 91,
   "metadata": {},
   "outputs": [
    {
     "name": "stdout",
     "output_type": "stream",
     "text": [
      "Données d'entrainement : 33673\n",
      "Données de test : 11225\n"
     ]
    }
   ],
   "source": [
    "# on sépare les données en données d'entraînement et données de test (80% et 20%)\n",
    "x_train, x_test, y_train, y_test = train_test_split(dataframe[\"title\"], dataframe[\"label\"], test_size=0.25, random_state = 42)\n",
    "print(f\"Données d'entrainement : {len(x_train)}\")\n",
    "print(f\"Données de test : {len(x_test)}\")"
   ]
  },
  {
   "cell_type": "code",
   "execution_count": 92,
   "metadata": {},
   "outputs": [],
   "source": [
    "max_features = 10000 # taille max du vocab\n",
    "maxlen = 30 # taille max de séquence"
   ]
  },
  {
   "cell_type": "code",
   "execution_count": 93,
   "metadata": {},
   "outputs": [],
   "source": [
    "# vectorisation naïve en \"one-hot\"\n",
    "tokenizer = Tokenizer(num_words=max_features)\n",
    "tokenizer.fit_on_texts(x_train)"
   ]
  },
  {
   "cell_type": "code",
   "execution_count": 94,
   "metadata": {},
   "outputs": [],
   "source": [
    "# vectorisation des données d'entraînement\n",
    "x_train = tokenizer.texts_to_sequences(x_train)\n",
    "x_train = pad_sequences(x_train, maxlen=maxlen)"
   ]
  },
  {
   "cell_type": "code",
   "execution_count": 95,
   "metadata": {},
   "outputs": [],
   "source": [
    "# vectorisation des données de test\n",
    "x_test = tokenizer.texts_to_sequences(x_test)\n",
    "x_test = pad_sequences(x_test, maxlen=maxlen)"
   ]
  },
  {
   "cell_type": "code",
   "execution_count": 96,
   "metadata": {},
   "outputs": [],
   "source": [
    "batch_size = 256\n",
    "nb_epochs = 20\n",
    "embedded_dim = 100"
   ]
  },
  {
   "cell_type": "code",
   "execution_count": 97,
   "metadata": {},
   "outputs": [
    {
     "name": "stdout",
     "output_type": "stream",
     "text": [
      "Model: \"sequential_6\"\n",
      "_________________________________________________________________\n",
      "Layer (type)                 Output Shape              Param #   \n",
      "=================================================================\n",
      "embedding_6 (Embedding)      (None, 30, 100)           1000000   \n",
      "_________________________________________________________________\n",
      "reshape_6 (Reshape)          (None, 1, 30, 100)        0         \n",
      "_________________________________________________________________\n",
      "conv2d_11 (Conv2D)           (None, 1, 30, 64)         19264     \n",
      "_________________________________________________________________\n",
      "dropout_6 (Dropout)          (None, 1, 30, 64)         0         \n",
      "_________________________________________________________________\n",
      "conv2d_12 (Conv2D)           (None, 1, 30, 32)         6176      \n",
      "_________________________________________________________________\n",
      "flatten_6 (Flatten)          (None, 960)               0         \n",
      "_________________________________________________________________\n",
      "dense_6 (Dense)              (None, 1)                 961       \n",
      "=================================================================\n",
      "Total params: 1,026,401\n",
      "Trainable params: 1,026,401\n",
      "Non-trainable params: 0\n",
      "_________________________________________________________________\n"
     ]
    }
   ],
   "source": [
    "model = Sequential()\n",
    "model.add(Embedding(max_features, output_dim=embedded_dim, input_length=maxlen, trainable=True))\n",
    "model.add(Reshape((1, 30, 100)))\n",
    "model.add(Conv2D(64, (3, 1), padding=\"same\"))\n",
    "model.add(Dropout(0.1))\n",
    "model.add(Conv2D(32, (3, 1), padding=\"same\"))\n",
    "model.add(Flatten())\n",
    "model.add(Dense(1, activation=\"sigmoid\"))\n",
    "model.compile(loss=\"binary_crossentropy\", optimizer=Adam(lr=0.0002), metrics=[\"accuracy\"])\n",
    "model.summary()"
   ]
  },
  {
   "cell_type": "code",
   "execution_count": 98,
   "metadata": {},
   "outputs": [
    {
     "name": "stdout",
     "output_type": "stream",
     "text": [
      "Train on 33673 samples, validate on 11225 samples\n",
      "Epoch 1/20\n",
      "33673/33673 [==============================] - 1s 38us/step - loss: 0.5211 - accuracy: 0.8853 - val_loss: 0.2264 - val_accuracy: 0.9296\n",
      "Epoch 2/20\n",
      "33673/33673 [==============================] - 1s 30us/step - loss: 0.1377 - accuracy: 0.9568 - val_loss: 0.0921 - val_accuracy: 0.9718\n",
      "Epoch 3/20\n",
      "33673/33673 [==============================] - 1s 30us/step - loss: 0.0618 - accuracy: 0.9817 - val_loss: 0.0556 - val_accuracy: 0.9837\n",
      "Epoch 4/20\n",
      "33673/33673 [==============================] - 1s 31us/step - loss: 0.0365 - accuracy: 0.9897 - val_loss: 0.0437 - val_accuracy: 0.9865\n",
      "Epoch 5/20\n",
      "33673/33673 [==============================] - 1s 31us/step - loss: 0.0240 - accuracy: 0.9936 - val_loss: 0.0386 - val_accuracy: 0.9878\n",
      "Epoch 6/20\n",
      "33673/33673 [==============================] - 1s 30us/step - loss: 0.0166 - accuracy: 0.9959 - val_loss: 0.0374 - val_accuracy: 0.9866\n",
      "Epoch 7/20\n",
      "33673/33673 [==============================] - 1s 30us/step - loss: 0.0120 - accuracy: 0.9973 - val_loss: 0.0379 - val_accuracy: 0.9867\n",
      "Epoch 8/20\n",
      "33673/33673 [==============================] - 1s 30us/step - loss: 0.0088 - accuracy: 0.9982 - val_loss: 0.0397 - val_accuracy: 0.9863\n",
      "Epoch 9/20\n",
      "33673/33673 [==============================] - 1s 30us/step - loss: 0.0063 - accuracy: 0.9987 - val_loss: 0.0417 - val_accuracy: 0.9869\n",
      "Epoch 10/20\n",
      "33673/33673 [==============================] - 1s 30us/step - loss: 0.0047 - accuracy: 0.9992 - val_loss: 0.0444 - val_accuracy: 0.9865\n",
      "Epoch 11/20\n",
      "33673/33673 [==============================] - 1s 30us/step - loss: 0.0034 - accuracy: 0.9995 - val_loss: 0.0491 - val_accuracy: 0.9850\n",
      "Epoch 12/20\n",
      "33673/33673 [==============================] - 1s 30us/step - loss: 0.0027 - accuracy: 0.9996 - val_loss: 0.0509 - val_accuracy: 0.9861\n",
      "Epoch 13/20\n",
      "33673/33673 [==============================] - 1s 30us/step - loss: 0.0021 - accuracy: 0.9997 - val_loss: 0.0570 - val_accuracy: 0.9840\n",
      "Epoch 14/20\n",
      "33673/33673 [==============================] - 1s 30us/step - loss: 0.0016 - accuracy: 0.9997 - val_loss: 0.0605 - val_accuracy: 0.9845\n",
      "Epoch 15/20\n",
      "33673/33673 [==============================] - 1s 30us/step - loss: 0.0013 - accuracy: 0.9998 - val_loss: 0.0654 - val_accuracy: 0.9841\n",
      "Epoch 16/20\n",
      "33673/33673 [==============================] - 1s 30us/step - loss: 0.0010 - accuracy: 0.9998 - val_loss: 0.0706 - val_accuracy: 0.9831\n",
      "Epoch 17/20\n",
      "33673/33673 [==============================] - 1s 30us/step - loss: 8.1247e-04 - accuracy: 0.9998 - val_loss: 0.0734 - val_accuracy: 0.9836\n",
      "Epoch 18/20\n",
      "33673/33673 [==============================] - 1s 30us/step - loss: 5.7094e-04 - accuracy: 0.9999 - val_loss: 0.0797 - val_accuracy: 0.9822\n",
      "Epoch 19/20\n",
      "33673/33673 [==============================] - 1s 30us/step - loss: 4.9101e-04 - accuracy: 1.0000 - val_loss: 0.0805 - val_accuracy: 0.9830\n",
      "Epoch 20/20\n",
      "33673/33673 [==============================] - 1s 30us/step - loss: 4.1524e-04 - accuracy: 0.9999 - val_loss: 0.0852 - val_accuracy: 0.9825\n"
     ]
    }
   ],
   "source": [
    "progress = model.fit(x_train, y_train, batch_size=batch_size, epochs=nb_epochs, validation_data=(x_test, y_test))"
   ]
  },
  {
   "cell_type": "code",
   "execution_count": 37,
   "metadata": {},
   "outputs": [],
   "source": [
    "model.save(\"firstTry2.h5\")"
   ]
  },
  {
   "cell_type": "code",
   "execution_count": 99,
   "metadata": {},
   "outputs": [],
   "source": [
    "# art plastique du turfu featuring le poto matplotlib\n",
    "from matplotlib import pyplot as plt"
   ]
  },
  {
   "cell_type": "code",
   "execution_count": 100,
   "metadata": {},
   "outputs": [
    {
     "data": {
      "image/png": "[encoded data removed]",
      "text/plain": [
       "<Figure size 1440x720 with 2 Axes>"
      ]
     },
     "metadata": {
      "needs_background": "light"
     },
     "output_type": "display_data"
    }
   ],
   "source": [
    "figure, ax = plt.subplots(1, 2)\n",
    "figure.set_size_inches(20,10)\n",
    "\n",
    "ax[0].plot(progress.history[\"loss\"])\n",
    "\n",
    "ax[1].plot(progress.history[\"accuracy\"])\n",
    "\n",
    "plt.show()"
   ]
  },
  {
   "cell_type": "code",
   "execution_count": 42,
   "metadata": {},
   "outputs": [],
   "source": [
    "to_predict = dataframe.sample(5)"
   ]
  },
  {
   "cell_type": "code",
   "execution_count": 48,
   "metadata": {},
   "outputs": [
    {
     "data": {
      "text/plain": [
       "14169    Mnangagwa sworn Friday president Zimbabwes spe...\n",
       "18989    German FDP reject Macrons call create joint eu...\n",
       "8428     Bernie Sanders Takes On Walmart In This Speech...\n",
       "12579    THREE THEORIES On Why FBIs Comey Reopened Clin...\n",
       "10851      Michigan governor EPA testify House panel Flint\n",
       "Name: title, dtype: object"
      ]
     },
     "execution_count": 48,
     "metadata": {},
     "output_type": "execute_result"
    }
   ],
   "source": [
    "X_test = to_predict[\"title\"]\n",
    "X_test"
   ]
  },
  {
   "cell_type": "code",
   "execution_count": 45,
   "metadata": {},
   "outputs": [
    {
     "data": {
      "text/plain": [
       "14169    1\n",
       "18989    1\n",
       "8428     0\n",
       "12579    0\n",
       "10851    1\n",
       "Name: label, dtype: int64"
      ]
     },
     "execution_count": 45,
     "metadata": {},
     "output_type": "execute_result"
    }
   ],
   "source": [
    "Y_test = to_predict[\"label\"]\n",
    "Y_test"
   ]
  },
  {
   "cell_type": "code",
   "execution_count": 49,
   "metadata": {},
   "outputs": [
    {
     "data": {
      "text/plain": [
       "array([   0,    0,    0,    0,    0,    0,    0,    0,    0,    0,    0,\n",
       "          0,    0,    0,    0,    0,    0,    0,    0,    0,    0,    0,\n",
       "          0,    0, 3021, 2503,  977,   26, 1071,  349])"
      ]
     },
     "execution_count": 49,
     "metadata": {},
     "output_type": "execute_result"
    }
   ],
   "source": [
    "X_test = tokenizer.texts_to_sequences(X_test)\n",
    "X_test = pad_sequences(X_test, maxlen=maxlen)\n",
    "X_test[0]"
   ]
  },
  {
   "cell_type": "code",
   "execution_count": 50,
   "metadata": {},
   "outputs": [
    {
     "data": {
      "text/plain": [
       "array([[1.0000000e+00],\n",
       "       [1.0000000e+00],\n",
       "       [1.1572399e-23],\n",
       "       [5.8057823e-05],\n",
       "       [1.0000000e+00]], dtype=float32)"
      ]
     },
     "execution_count": 50,
     "metadata": {},
     "output_type": "execute_result"
    }
   ],
   "source": [
    "model.predict(X_test)"
   ]
  },
  {
   "cell_type": "code",
   "execution_count": 101,
   "metadata": {},
   "outputs": [
    {
     "data": {
      "text/plain": [
       "array([[   0,    0,    0,    0,    0,    0,    0,    0,    0,    0,    0,\n",
       "           0,    0,    0,    0,    0,    0,    0,    0,    0,    0,    0,\n",
       "           0,    0, 3021, 2503,  977,   26, 1071,  349],\n",
       "       [   0,    0,    0,    0,    0,    0,    0,    0,    0,    0,    0,\n",
       "           0,    0,    0,    0,    0,    0,    0,    0,    0,  221, 3653,\n",
       "        2042, 2969,  220, 2093, 1811, 2887, 2242,  247],\n",
       "       [   0,    0,    0,    0,    0,    0,    0,    0,    0,    0,    0,\n",
       "           0,    0,    0,    0,    0,    0,  189,  122,  254,   10, 3074,\n",
       "           8,   32,  116,   12,   42,   13, 2055,    2],\n",
       "       [   0,    0,    0,    0,    0,    0,    0,    0,    0,    0,    0,\n",
       "           0,    0,    0,    0,    0,    0,    0,    0,    0,    0,  453,\n",
       "        8844,   10,   61, 2744,  295,   24,  310,  342],\n",
       "       [   0,    0,    0,    0,    0,    0,    0,    0,    0,    0,    0,\n",
       "           0,    0,    0,    0,    0,    0,    0,    0,    0,    0,    0,\n",
       "           0,  762,  136,  616, 1323,   17,  267,  965]])"
      ]
     },
     "execution_count": 101,
     "metadata": {},
     "output_type": "execute_result"
    }
   ],
   "source": [
    "X_test"
   ]
  }
 ],
 "metadata": {
  "kernelspec": {
   "display_name": "Python 3",
   "language": "python",
   "name": "python3"
  },
  "language_info": {
   "codemirror_mode": {
    "name": "ipython",
    "version": 3
   },
   "file_extension": ".py",
   "mimetype": "text/x-python",
   "name": "python",
   "nbconvert_exporter": "python",
   "pygments_lexer": "ipython3",
   "version": "3.7.7"
  }
 },
 "nbformat": 4,
 "nbformat_minor": 4
}
