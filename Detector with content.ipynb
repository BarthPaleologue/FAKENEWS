{
 "cells": [
  {
   "cell_type": "code",
   "execution_count": 1,
   "metadata": {},
   "outputs": [
    {
     "name": "stderr",
     "output_type": "stream",
     "text": [
      "Using TensorFlow backend.\n"
     ]
    }
   ],
   "source": [
    "import pandas as pd\n",
    "\n",
    "from nltk.corpus import stopwords\n",
    "from sklearn.model_selection import train_test_split\n",
    "from keras.preprocessing.text import Tokenizer\n",
    "from keras.preprocessing.sequence import pad_sequences\n",
    "\n",
    "from keras.models import Sequential\n",
    "from keras.layers import Conv2D, Dropout, Dense, Embedding, Flatten, Reshape\n",
    "from keras.optimizers import Adam"
   ]
  },
  {
   "cell_type": "markdown",
   "metadata": {},
   "source": [
    "<h1>Traitement des données</h1>"
   ]
  },
  {
   "cell_type": "code",
   "execution_count": 2,
   "metadata": {},
   "outputs": [],
   "source": [
    "# chargement des deux tables\n",
    "real_news = pd.read_csv(\"./dataset1/True.csv\")\n",
    "fake_news = pd.read_csv(\"./dataset1/Fake.csv\")"
   ]
  },
  {
   "cell_type": "code",
   "execution_count": 3,
   "metadata": {},
   "outputs": [],
   "source": [
    "# vrai = 1, faux = 0\n",
    "real_news[\"label\"] = 1\n",
    "fake_news[\"label\"] = 0"
   ]
  },
  {
   "cell_type": "code",
   "execution_count": 4,
   "metadata": {},
   "outputs": [
    {
     "data": {
      "text/html": [
       "<div>\n",
       "<style scoped>\n",
       "    .dataframe tbody tr th:only-of-type {\n",
       "        vertical-align: middle;\n",
       "    }\n",
       "\n",
       "    .dataframe tbody tr th {\n",
       "        vertical-align: top;\n",
       "    }\n",
       "\n",
       "    .dataframe thead th {\n",
       "        text-align: right;\n",
       "    }\n",
       "</style>\n",
       "<table border=\"1\" class=\"dataframe\">\n",
       "  <thead>\n",
       "    <tr style=\"text-align: right;\">\n",
       "      <th></th>\n",
       "      <th>title</th>\n",
       "      <th>text</th>\n",
       "      <th>subject</th>\n",
       "      <th>date</th>\n",
       "      <th>label</th>\n",
       "    </tr>\n",
       "  </thead>\n",
       "  <tbody>\n",
       "    <tr>\n",
       "      <th>8395</th>\n",
       "      <td>Exclusive: Clinton leads Trump in key swing st...</td>\n",
       "      <td>NEW YORK (Reuters) - If the U.S. presidential...</td>\n",
       "      <td>politicsNews</td>\n",
       "      <td>August 24, 2016</td>\n",
       "      <td>1</td>\n",
       "    </tr>\n",
       "    <tr>\n",
       "      <th>486</th>\n",
       "      <td>Trump calls for boycott of television network ...</td>\n",
       "      <td>WASHINGTON (Reuters) - U.S. President Donald T...</td>\n",
       "      <td>politicsNews</td>\n",
       "      <td>November 29, 2017</td>\n",
       "      <td>1</td>\n",
       "    </tr>\n",
       "    <tr>\n",
       "      <th>12004</th>\n",
       "      <td>German ex-rightist jailed for plotting Islamis...</td>\n",
       "      <td>BERLIN (Reuters) - A German court sentenced a ...</td>\n",
       "      <td>worldnews</td>\n",
       "      <td>December 18, 2017</td>\n",
       "      <td>1</td>\n",
       "    </tr>\n",
       "    <tr>\n",
       "      <th>17198</th>\n",
       "      <td>U.S. mulls potential F-16 sale to Greece: Trump</td>\n",
       "      <td>WASHINGTON (Reuters) - U.S President Donald Tr...</td>\n",
       "      <td>worldnews</td>\n",
       "      <td>October 17, 2017</td>\n",
       "      <td>1</td>\n",
       "    </tr>\n",
       "    <tr>\n",
       "      <th>9130</th>\n",
       "      <td>Kerry launches talks with Venezuela but backs ...</td>\n",
       "      <td>SANTO DOMINGO (Reuters) - U.S. Secretary of St...</td>\n",
       "      <td>politicsNews</td>\n",
       "      <td>June 14, 2016</td>\n",
       "      <td>1</td>\n",
       "    </tr>\n",
       "  </tbody>\n",
       "</table>\n",
       "</div>"
      ],
      "text/plain": [
       "                                                   title  \\\n",
       "8395   Exclusive: Clinton leads Trump in key swing st...   \n",
       "486    Trump calls for boycott of television network ...   \n",
       "12004  German ex-rightist jailed for plotting Islamis...   \n",
       "17198    U.S. mulls potential F-16 sale to Greece: Trump   \n",
       "9130   Kerry launches talks with Venezuela but backs ...   \n",
       "\n",
       "                                                    text       subject  \\\n",
       "8395    NEW YORK (Reuters) - If the U.S. presidential...  politicsNews   \n",
       "486    WASHINGTON (Reuters) - U.S. President Donald T...  politicsNews   \n",
       "12004  BERLIN (Reuters) - A German court sentenced a ...     worldnews   \n",
       "17198  WASHINGTON (Reuters) - U.S President Donald Tr...     worldnews   \n",
       "9130   SANTO DOMINGO (Reuters) - U.S. Secretary of St...  politicsNews   \n",
       "\n",
       "                     date  label  \n",
       "8395     August 24, 2016       1  \n",
       "486    November 29, 2017       1  \n",
       "12004  December 18, 2017       1  \n",
       "17198   October 17, 2017       1  \n",
       "9130       June 14, 2016       1  "
      ]
     },
     "execution_count": 4,
     "metadata": {},
     "output_type": "execute_result"
    }
   ],
   "source": [
    "real_news.sample(5)"
   ]
  },
  {
   "cell_type": "code",
   "execution_count": 5,
   "metadata": {},
   "outputs": [
    {
     "data": {
      "text/html": [
       "<div>\n",
       "<style scoped>\n",
       "    .dataframe tbody tr th:only-of-type {\n",
       "        vertical-align: middle;\n",
       "    }\n",
       "\n",
       "    .dataframe tbody tr th {\n",
       "        vertical-align: top;\n",
       "    }\n",
       "\n",
       "    .dataframe thead th {\n",
       "        text-align: right;\n",
       "    }\n",
       "</style>\n",
       "<table border=\"1\" class=\"dataframe\">\n",
       "  <thead>\n",
       "    <tr style=\"text-align: right;\">\n",
       "      <th></th>\n",
       "      <th>title</th>\n",
       "      <th>text</th>\n",
       "      <th>subject</th>\n",
       "      <th>date</th>\n",
       "      <th>label</th>\n",
       "    </tr>\n",
       "  </thead>\n",
       "  <tbody>\n",
       "    <tr>\n",
       "      <th>18684</th>\n",
       "      <td>TWO SOMALI MUSLIM MEN Arrested For Daytime Gun...</td>\n",
       "      <td>Police on Tuesday arrested two people and were...</td>\n",
       "      <td>left-news</td>\n",
       "      <td>May 5, 2017</td>\n",
       "      <td>0</td>\n",
       "    </tr>\n",
       "    <tr>\n",
       "      <th>11314</th>\n",
       "      <td>NANCY PELOSI Tries to Lead Democrats in Chants...</td>\n",
       "      <td></td>\n",
       "      <td>politics</td>\n",
       "      <td>Mar 24, 2017</td>\n",
       "      <td>0</td>\n",
       "    </tr>\n",
       "    <tr>\n",
       "      <th>140</th>\n",
       "      <td>Hawaiians Had The Perfect Signs To Infuriate ...</td>\n",
       "      <td>Donald Trump stopped in Hawaii, which is total...</td>\n",
       "      <td>News</td>\n",
       "      <td>November 4, 2017</td>\n",
       "      <td>0</td>\n",
       "    </tr>\n",
       "    <tr>\n",
       "      <th>23098</th>\n",
       "      <td>Boiler Room #88 – Behold: Your New Ministry of...</td>\n",
       "      <td>Tune in to the Alternate Current Radio Network...</td>\n",
       "      <td>Middle-east</td>\n",
       "      <td>December 15, 2016</td>\n",
       "      <td>0</td>\n",
       "    </tr>\n",
       "    <tr>\n",
       "      <th>11835</th>\n",
       "      <td>OOPS! Secret Service Opens Investigation After...</td>\n",
       "      <td>A spokesman for the Secret Service told The Ga...</td>\n",
       "      <td>politics</td>\n",
       "      <td>Jan 21, 2017</td>\n",
       "      <td>0</td>\n",
       "    </tr>\n",
       "  </tbody>\n",
       "</table>\n",
       "</div>"
      ],
      "text/plain": [
       "                                                   title  \\\n",
       "18684  TWO SOMALI MUSLIM MEN Arrested For Daytime Gun...   \n",
       "11314  NANCY PELOSI Tries to Lead Democrats in Chants...   \n",
       "140     Hawaiians Had The Perfect Signs To Infuriate ...   \n",
       "23098  Boiler Room #88 – Behold: Your New Ministry of...   \n",
       "11835  OOPS! Secret Service Opens Investigation After...   \n",
       "\n",
       "                                                    text      subject  \\\n",
       "18684  Police on Tuesday arrested two people and were...    left-news   \n",
       "11314                                                        politics   \n",
       "140    Donald Trump stopped in Hawaii, which is total...         News   \n",
       "23098  Tune in to the Alternate Current Radio Network...  Middle-east   \n",
       "11835  A spokesman for the Secret Service told The Ga...     politics   \n",
       "\n",
       "                    date  label  \n",
       "18684        May 5, 2017      0  \n",
       "11314       Mar 24, 2017      0  \n",
       "140     November 4, 2017      0  \n",
       "23098  December 15, 2016      0  \n",
       "11835       Jan 21, 2017      0  "
      ]
     },
     "execution_count": 5,
     "metadata": {},
     "output_type": "execute_result"
    }
   ],
   "source": [
    "fake_news.sample(5)"
   ]
  },
  {
   "cell_type": "code",
   "execution_count": 6,
   "metadata": {},
   "outputs": [
    {
     "data": {
      "text/html": [
       "<div>\n",
       "<style scoped>\n",
       "    .dataframe tbody tr th:only-of-type {\n",
       "        vertical-align: middle;\n",
       "    }\n",
       "\n",
       "    .dataframe tbody tr th {\n",
       "        vertical-align: top;\n",
       "    }\n",
       "\n",
       "    .dataframe thead th {\n",
       "        text-align: right;\n",
       "    }\n",
       "</style>\n",
       "<table border=\"1\" class=\"dataframe\">\n",
       "  <thead>\n",
       "    <tr style=\"text-align: right;\">\n",
       "      <th></th>\n",
       "      <th>title</th>\n",
       "      <th>text</th>\n",
       "      <th>subject</th>\n",
       "      <th>date</th>\n",
       "      <th>label</th>\n",
       "    </tr>\n",
       "  </thead>\n",
       "  <tbody>\n",
       "    <tr>\n",
       "      <th>3057</th>\n",
       "      <td>Trump Staff Clapped, Laughed While He Called ...</td>\n",
       "      <td>During president-elect Donald Trump s first pr...</td>\n",
       "      <td>News</td>\n",
       "      <td>January 11, 2017</td>\n",
       "      <td>0</td>\n",
       "    </tr>\n",
       "    <tr>\n",
       "      <th>4928</th>\n",
       "      <td>White House proposes to privatize air traffic ...</td>\n",
       "      <td>WASHINGTON (Reuters) - President Donald Trump ...</td>\n",
       "      <td>politicsNews</td>\n",
       "      <td>March 16, 2017</td>\n",
       "      <td>1</td>\n",
       "    </tr>\n",
       "    <tr>\n",
       "      <th>6033</th>\n",
       "      <td>White House pledges aid to help Chicago quell ...</td>\n",
       "      <td>WASHINGTON/CHICAGO (Reuters) - President Donal...</td>\n",
       "      <td>politicsNews</td>\n",
       "      <td>January 25, 2017</td>\n",
       "      <td>1</td>\n",
       "    </tr>\n",
       "    <tr>\n",
       "      <th>12165</th>\n",
       "      <td>U.S. says it wants Syrian government to negoti...</td>\n",
       "      <td>WASHINGTON (Reuters) - The United States on Fr...</td>\n",
       "      <td>worldnews</td>\n",
       "      <td>December 15, 2017</td>\n",
       "      <td>1</td>\n",
       "    </tr>\n",
       "    <tr>\n",
       "      <th>19392</th>\n",
       "      <td>IRRATIONAL GEORGETOWN PROFESSOR Has Month-Long...</td>\n",
       "      <td>A Georgetown University associate professor ha...</td>\n",
       "      <td>left-news</td>\n",
       "      <td>Dec 28, 2016</td>\n",
       "      <td>0</td>\n",
       "    </tr>\n",
       "    <tr>\n",
       "      <th>12728</th>\n",
       "      <td>Head of Zimbabwe election commission quits, so...</td>\n",
       "      <td>HARARE (Reuters) - Zimbabwe Electoral Commissi...</td>\n",
       "      <td>worldnews</td>\n",
       "      <td>December 8, 2017</td>\n",
       "      <td>1</td>\n",
       "    </tr>\n",
       "    <tr>\n",
       "      <th>16064</th>\n",
       "      <td>Turkey's Erdogan takes legal action after lawm...</td>\n",
       "      <td>ISTANBUL (Reuters) - President Tayyip Erdogan ...</td>\n",
       "      <td>worldnews</td>\n",
       "      <td>October 31, 2017</td>\n",
       "      <td>1</td>\n",
       "    </tr>\n",
       "    <tr>\n",
       "      <th>2094</th>\n",
       "      <td>Trump Supporter Threatens To Slaughter Black ...</td>\n",
       "      <td>Ever since Officer Darren Wilson murdered unar...</td>\n",
       "      <td>News</td>\n",
       "      <td>March 19, 2017</td>\n",
       "      <td>0</td>\n",
       "    </tr>\n",
       "    <tr>\n",
       "      <th>16989</th>\n",
       "      <td>[VIDEO] Obama Needed A Girl To Take Down Mitt ...</td>\n",
       "      <td>Because Obama s doing such a great job keeping...</td>\n",
       "      <td>Government News</td>\n",
       "      <td>Nov 3, 2015</td>\n",
       "      <td>0</td>\n",
       "    </tr>\n",
       "    <tr>\n",
       "      <th>7</th>\n",
       "      <td>Trump Said Some INSANELY Racist Stuff Inside ...</td>\n",
       "      <td>In the wake of yet another court decision that...</td>\n",
       "      <td>News</td>\n",
       "      <td>December 23, 2017</td>\n",
       "      <td>0</td>\n",
       "    </tr>\n",
       "  </tbody>\n",
       "</table>\n",
       "</div>"
      ],
      "text/plain": [
       "                                                   title  \\\n",
       "3057    Trump Staff Clapped, Laughed While He Called ...   \n",
       "4928   White House proposes to privatize air traffic ...   \n",
       "6033   White House pledges aid to help Chicago quell ...   \n",
       "12165  U.S. says it wants Syrian government to negoti...   \n",
       "19392  IRRATIONAL GEORGETOWN PROFESSOR Has Month-Long...   \n",
       "12728  Head of Zimbabwe election commission quits, so...   \n",
       "16064  Turkey's Erdogan takes legal action after lawm...   \n",
       "2094    Trump Supporter Threatens To Slaughter Black ...   \n",
       "16989  [VIDEO] Obama Needed A Girl To Take Down Mitt ...   \n",
       "7       Trump Said Some INSANELY Racist Stuff Inside ...   \n",
       "\n",
       "                                                    text          subject  \\\n",
       "3057   During president-elect Donald Trump s first pr...             News   \n",
       "4928   WASHINGTON (Reuters) - President Donald Trump ...     politicsNews   \n",
       "6033   WASHINGTON/CHICAGO (Reuters) - President Donal...     politicsNews   \n",
       "12165  WASHINGTON (Reuters) - The United States on Fr...        worldnews   \n",
       "19392  A Georgetown University associate professor ha...        left-news   \n",
       "12728  HARARE (Reuters) - Zimbabwe Electoral Commissi...        worldnews   \n",
       "16064  ISTANBUL (Reuters) - President Tayyip Erdogan ...        worldnews   \n",
       "2094   Ever since Officer Darren Wilson murdered unar...             News   \n",
       "16989  Because Obama s doing such a great job keeping...  Government News   \n",
       "7      In the wake of yet another court decision that...             News   \n",
       "\n",
       "                     date  label  \n",
       "3057     January 11, 2017      0  \n",
       "4928      March 16, 2017       1  \n",
       "6033    January 25, 2017       1  \n",
       "12165  December 15, 2017       1  \n",
       "19392        Dec 28, 2016      0  \n",
       "12728   December 8, 2017       1  \n",
       "16064   October 31, 2017       1  \n",
       "2094       March 19, 2017      0  \n",
       "16989         Nov 3, 2015      0  \n",
       "7       December 23, 2017      0  "
      ]
     },
     "execution_count": 6,
     "metadata": {},
     "output_type": "execute_result"
    }
   ],
   "source": [
    "# création du dataset complet\n",
    "dataframe = pd.concat([real_news, fake_news])\n",
    "dataframe.sample(10)"
   ]
  },
  {
   "cell_type": "code",
   "execution_count": 7,
   "metadata": {},
   "outputs": [
    {
     "name": "stdout",
     "output_type": "stream",
     "text": [
      "Nombre de références : 44898\n",
      "Nombre de fake news : 23481\n",
      "Nombre de vraies news : 21417\n"
     ]
    }
   ],
   "source": [
    "print(f\"Nombre de références : {dataframe.title.count()}\")\n",
    "print(f\"Nombre de fake news : {fake_news.title.count()}\")\n",
    "print(f\"Nombre de vraies news : {real_news.title.count()}\")"
   ]
  },
  {
   "cell_type": "code",
   "execution_count": 8,
   "metadata": {},
   "outputs": [],
   "source": [
    "# ici on ne s'intéresse qu'au titre et au label\n",
    "del dataframe[\"title\"]\n",
    "del dataframe[\"subject\"]\n",
    "del dataframe[\"date\"]"
   ]
  },
  {
   "cell_type": "code",
   "execution_count": 9,
   "metadata": {},
   "outputs": [
    {
     "data": {
      "text/html": [
       "<div>\n",
       "<style scoped>\n",
       "    .dataframe tbody tr th:only-of-type {\n",
       "        vertical-align: middle;\n",
       "    }\n",
       "\n",
       "    .dataframe tbody tr th {\n",
       "        vertical-align: top;\n",
       "    }\n",
       "\n",
       "    .dataframe thead th {\n",
       "        text-align: right;\n",
       "    }\n",
       "</style>\n",
       "<table border=\"1\" class=\"dataframe\">\n",
       "  <thead>\n",
       "    <tr style=\"text-align: right;\">\n",
       "      <th></th>\n",
       "      <th>text</th>\n",
       "      <th>label</th>\n",
       "    </tr>\n",
       "  </thead>\n",
       "  <tbody>\n",
       "    <tr>\n",
       "      <th>16831</th>\n",
       "      <td>ISTANBUL/ANKARA (Reuters) - Turkish President ...</td>\n",
       "      <td>1</td>\n",
       "    </tr>\n",
       "    <tr>\n",
       "      <th>16352</th>\n",
       "      <td>SEOUL (Reuters) - South Korea said on Friday i...</td>\n",
       "      <td>1</td>\n",
       "    </tr>\n",
       "    <tr>\n",
       "      <th>21371</th>\n",
       "      <td>AL UDEID AIR BASE, Qatar (Reuters) - Even as t...</td>\n",
       "      <td>1</td>\n",
       "    </tr>\n",
       "    <tr>\n",
       "      <th>14353</th>\n",
       "      <td>This letter was originally attributed to well-...</td>\n",
       "      <td>0</td>\n",
       "    </tr>\n",
       "    <tr>\n",
       "      <th>10595</th>\n",
       "      <td>The only two black jurors in the Philando Cast...</td>\n",
       "      <td>0</td>\n",
       "    </tr>\n",
       "    <tr>\n",
       "      <th>2555</th>\n",
       "      <td>WASHINGTON (Reuters) - Jared Kushner, adviser ...</td>\n",
       "      <td>1</td>\n",
       "    </tr>\n",
       "    <tr>\n",
       "      <th>17940</th>\n",
       "      <td>Two hypocrite climate change freaks decided to...</td>\n",
       "      <td>0</td>\n",
       "    </tr>\n",
       "    <tr>\n",
       "      <th>4046</th>\n",
       "      <td>WASHINGTON (Reuters) - U.S. President Donald T...</td>\n",
       "      <td>1</td>\n",
       "    </tr>\n",
       "    <tr>\n",
       "      <th>12332</th>\n",
       "      <td>Something was bothering Donald Trump as he mad...</td>\n",
       "      <td>0</td>\n",
       "    </tr>\n",
       "    <tr>\n",
       "      <th>8533</th>\n",
       "      <td>(Reuters) - The mayor of Stockton, California,...</td>\n",
       "      <td>1</td>\n",
       "    </tr>\n",
       "  </tbody>\n",
       "</table>\n",
       "</div>"
      ],
      "text/plain": [
       "                                                    text  label\n",
       "16831  ISTANBUL/ANKARA (Reuters) - Turkish President ...      1\n",
       "16352  SEOUL (Reuters) - South Korea said on Friday i...      1\n",
       "21371  AL UDEID AIR BASE, Qatar (Reuters) - Even as t...      1\n",
       "14353  This letter was originally attributed to well-...      0\n",
       "10595  The only two black jurors in the Philando Cast...      0\n",
       "2555   WASHINGTON (Reuters) - Jared Kushner, adviser ...      1\n",
       "17940  Two hypocrite climate change freaks decided to...      0\n",
       "4046   WASHINGTON (Reuters) - U.S. President Donald T...      1\n",
       "12332  Something was bothering Donald Trump as he mad...      0\n",
       "8533   (Reuters) - The mayor of Stockton, California,...      1"
      ]
     },
     "execution_count": 9,
     "metadata": {},
     "output_type": "execute_result"
    }
   ],
   "source": [
    "dataframe.sample(10)"
   ]
  },
  {
   "cell_type": "code",
   "execution_count": 10,
   "metadata": {},
   "outputs": [
    {
     "data": {
      "text/html": [
       "<div>\n",
       "<style scoped>\n",
       "    .dataframe tbody tr th:only-of-type {\n",
       "        vertical-align: middle;\n",
       "    }\n",
       "\n",
       "    .dataframe tbody tr th {\n",
       "        vertical-align: top;\n",
       "    }\n",
       "\n",
       "    .dataframe thead th {\n",
       "        text-align: right;\n",
       "    }\n",
       "</style>\n",
       "<table border=\"1\" class=\"dataframe\">\n",
       "  <thead>\n",
       "    <tr style=\"text-align: right;\">\n",
       "      <th></th>\n",
       "      <th>text</th>\n",
       "      <th>label</th>\n",
       "    </tr>\n",
       "  </thead>\n",
       "  <tbody>\n",
       "    <tr>\n",
       "      <th>18418</th>\n",
       "      <td>The Washington Post published propaganda organ...</td>\n",
       "      <td>0</td>\n",
       "    </tr>\n",
       "    <tr>\n",
       "      <th>22718</th>\n",
       "      <td>CIA appointed head Mike Pompeo ready disregard...</td>\n",
       "      <td>0</td>\n",
       "    </tr>\n",
       "    <tr>\n",
       "      <th>1253</th>\n",
       "      <td>White House Press Secretary Sean Spicer hardes...</td>\n",
       "      <td>0</td>\n",
       "    </tr>\n",
       "    <tr>\n",
       "      <th>2768</th>\n",
       "      <td>WASHINGTON Reuters Michael Caputo adviser Pres...</td>\n",
       "      <td>1</td>\n",
       "    </tr>\n",
       "    <tr>\n",
       "      <th>8198</th>\n",
       "      <td>An anchor Glenn Beck TV network The Blaze late...</td>\n",
       "      <td>0</td>\n",
       "    </tr>\n",
       "    <tr>\n",
       "      <th>3262</th>\n",
       "      <td>Despite deal absolute imbecile challenger seve...</td>\n",
       "      <td>0</td>\n",
       "    </tr>\n",
       "    <tr>\n",
       "      <th>12968</th>\n",
       "      <td>ADU DHABI Reuters Saudi Arabia interested reac...</td>\n",
       "      <td>1</td>\n",
       "    </tr>\n",
       "    <tr>\n",
       "      <th>15831</th>\n",
       "      <td>Yada yada yada Hillary Clinton announced 2016 ...</td>\n",
       "      <td>0</td>\n",
       "    </tr>\n",
       "    <tr>\n",
       "      <th>12322</th>\n",
       "      <td>GENEVA Reuters UN Special Envoy Syria Staffan ...</td>\n",
       "      <td>1</td>\n",
       "    </tr>\n",
       "    <tr>\n",
       "      <th>7545</th>\n",
       "      <td>Donald Trump spokeswoman Katrina Pierson went ...</td>\n",
       "      <td>0</td>\n",
       "    </tr>\n",
       "  </tbody>\n",
       "</table>\n",
       "</div>"
      ],
      "text/plain": [
       "                                                    text  label\n",
       "18418  The Washington Post published propaganda organ...      0\n",
       "22718  CIA appointed head Mike Pompeo ready disregard...      0\n",
       "1253   White House Press Secretary Sean Spicer hardes...      0\n",
       "2768   WASHINGTON Reuters Michael Caputo adviser Pres...      1\n",
       "8198   An anchor Glenn Beck TV network The Blaze late...      0\n",
       "3262   Despite deal absolute imbecile challenger seve...      0\n",
       "12968  ADU DHABI Reuters Saudi Arabia interested reac...      1\n",
       "15831  Yada yada yada Hillary Clinton announced 2016 ...      0\n",
       "12322  GENEVA Reuters UN Special Envoy Syria Staffan ...      1\n",
       "7545   Donald Trump spokeswoman Katrina Pierson went ...      0"
      ]
     },
     "execution_count": 10,
     "metadata": {},
     "output_type": "execute_result"
    }
   ],
   "source": [
    "# nettoyage des données (ponctuations)\n",
    "\n",
    "stopWords = set(stopwords.words(\"english\"))\n",
    "\n",
    "def cleanText(text):\n",
    "    forbidden = {\",\",\"@\",\";\",\"/\",\"-\",\":\",\".\",\"!\",\"?\", \"#\",\"\\\"\",\"(\",\")\",\"\\'\",\"’\",\"‘\",\"–\"}\n",
    "    res = text\n",
    "    if res != None:\n",
    "        for elm in forbidden:\n",
    "            res = res.replace(elm, \"\")\n",
    "        res = res.split()\n",
    "        cleaned = []\n",
    "        for word in res:\n",
    "            if not word in stopWords:\n",
    "                cleaned.append(word)\n",
    "        res = \" \".join(cleaned[0:min(29, len(cleaned) - 1)])\n",
    "    return res\n",
    "\n",
    "dataframe[\"text\"] = dataframe[\"text\"].apply(cleanText)\n",
    "\n",
    "dataframe.sample(10)"
   ]
  },
  {
   "cell_type": "code",
   "execution_count": 12,
   "metadata": {},
   "outputs": [
    {
     "name": "stdout",
     "output_type": "stream",
     "text": [
      "Données d'entrainement : 33673\n",
      "Données de test : 11225\n"
     ]
    }
   ],
   "source": [
    "# on sépare les données en données d'entraînement et données de test (80% et 20%)\n",
    "x_train, x_test, y_train, y_test = train_test_split(dataframe[\"text\"], dataframe[\"label\"], test_size=0.25, random_state = 42)\n",
    "print(f\"Données d'entrainement : {len(x_train)}\")\n",
    "print(f\"Données de test : {len(x_test)}\")"
   ]
  },
  {
   "cell_type": "code",
   "execution_count": 13,
   "metadata": {},
   "outputs": [],
   "source": [
    "max_features = 10000 # taille max du vocab\n",
    "maxlen = 30 # taille max de séquence"
   ]
  },
  {
   "cell_type": "code",
   "execution_count": 14,
   "metadata": {},
   "outputs": [],
   "source": [
    "# vectorisation naïve en \"one-hot\"\n",
    "tokenizer = Tokenizer(num_words=max_features)\n",
    "tokenizer.fit_on_texts(x_train)"
   ]
  },
  {
   "cell_type": "code",
   "execution_count": 15,
   "metadata": {},
   "outputs": [],
   "source": [
    "# vectorisation des données d'entraînement\n",
    "x_train = tokenizer.texts_to_sequences(x_train)\n",
    "x_train = pad_sequences(x_train, maxlen=maxlen)"
   ]
  },
  {
   "cell_type": "code",
   "execution_count": 16,
   "metadata": {},
   "outputs": [],
   "source": [
    "# vectorisation des données de test\n",
    "x_test = tokenizer.texts_to_sequences(x_test)\n",
    "x_test = pad_sequences(x_test, maxlen=maxlen)"
   ]
  },
  {
   "cell_type": "code",
   "execution_count": 17,
   "metadata": {},
   "outputs": [],
   "source": [
    "batch_size = 256\n",
    "nb_epochs = 20\n",
    "embedded_dim = 100"
   ]
  },
  {
   "cell_type": "code",
   "execution_count": 18,
   "metadata": {},
   "outputs": [
    {
     "name": "stdout",
     "output_type": "stream",
     "text": [
      "Model: \"sequential_1\"\n",
      "_________________________________________________________________\n",
      "Layer (type)                 Output Shape              Param #   \n",
      "=================================================================\n",
      "embedding_1 (Embedding)      (None, 30, 100)           1000000   \n",
      "_________________________________________________________________\n",
      "reshape_1 (Reshape)          (None, 1, 30, 100)        0         \n",
      "_________________________________________________________________\n",
      "conv2d_1 (Conv2D)            (None, 1, 30, 64)         19264     \n",
      "_________________________________________________________________\n",
      "dropout_1 (Dropout)          (None, 1, 30, 64)         0         \n",
      "_________________________________________________________________\n",
      "conv2d_2 (Conv2D)            (None, 1, 30, 32)         6176      \n",
      "_________________________________________________________________\n",
      "flatten_1 (Flatten)          (None, 960)               0         \n",
      "_________________________________________________________________\n",
      "dense_1 (Dense)              (None, 1)                 961       \n",
      "=================================================================\n",
      "Total params: 1,026,401\n",
      "Trainable params: 1,026,401\n",
      "Non-trainable params: 0\n",
      "_________________________________________________________________\n"
     ]
    }
   ],
   "source": [
    "model = Sequential()\n",
    "model.add(Embedding(max_features, output_dim=embedded_dim, input_length=maxlen, trainable=True))\n",
    "model.add(Reshape((1, 30, 100)))\n",
    "model.add(Conv2D(64, (3, 1), padding=\"same\"))\n",
    "model.add(Dropout(0.1))\n",
    "model.add(Conv2D(32, (3, 1), padding=\"same\"))\n",
    "model.add(Flatten())\n",
    "model.add(Dense(1, activation=\"sigmoid\"))\n",
    "model.compile(loss=\"binary_crossentropy\", optimizer=Adam(lr=0.0002), metrics=[\"accuracy\"])\n",
    "model.summary()"
   ]
  },
  {
   "cell_type": "code",
   "execution_count": 19,
   "metadata": {},
   "outputs": [
    {
     "name": "stderr",
     "output_type": "stream",
     "text": [
      "C:\\Users\\Shadow\\AppData\\Roaming\\Python\\Python37\\site-packages\\tensorflow\\python\\framework\\indexed_slices.py:434: UserWarning: Converting sparse IndexedSlices to a dense Tensor of unknown shape. This may consume a large amount of memory.\n",
      "  \"Converting sparse IndexedSlices to a dense Tensor of unknown shape. \"\n"
     ]
    },
    {
     "name": "stdout",
     "output_type": "stream",
     "text": [
      "Train on 33673 samples, validate on 11225 samples\n",
      "Epoch 1/20\n",
      "33673/33673 [==============================] - 6s 175us/step - loss: 0.5731 - accuracy: 0.7226 - val_loss: 0.2238 - val_accuracy: 0.9425\n",
      "Epoch 2/20\n",
      "33673/33673 [==============================] - 1s 30us/step - loss: 0.0779 - accuracy: 0.9791 - val_loss: 0.0381 - val_accuracy: 0.9882\n",
      "Epoch 3/20\n",
      "33673/33673 [==============================] - 1s 34us/step - loss: 0.0180 - accuracy: 0.9961 - val_loss: 0.0214 - val_accuracy: 0.9934\n",
      "Epoch 4/20\n",
      "33673/33673 [==============================] - 1s 34us/step - loss: 0.0072 - accuracy: 0.9988 - val_loss: 0.0162 - val_accuracy: 0.9953\n",
      "Epoch 5/20\n",
      "33673/33673 [==============================] - 1s 32us/step - loss: 0.0035 - accuracy: 0.9995 - val_loss: 0.0143 - val_accuracy: 0.9958\n",
      "Epoch 6/20\n",
      "33673/33673 [==============================] - 1s 29us/step - loss: 0.0020 - accuracy: 0.9998 - val_loss: 0.0132 - val_accuracy: 0.9963\n",
      "Epoch 7/20\n",
      "33673/33673 [==============================] - 1s 29us/step - loss: 0.0013 - accuracy: 0.9999 - val_loss: 0.0128 - val_accuracy: 0.9963\n",
      "Epoch 8/20\n",
      "33673/33673 [==============================] - 1s 28us/step - loss: 9.0307e-04 - accuracy: 0.9999 - val_loss: 0.0126 - val_accuracy: 0.9965\n",
      "Epoch 9/20\n",
      "33673/33673 [==============================] - 1s 29us/step - loss: 6.9345e-04 - accuracy: 0.9999 - val_loss: 0.0125 - val_accuracy: 0.9966\n",
      "Epoch 10/20\n",
      "33673/33673 [==============================] - 1s 29us/step - loss: 5.6305e-04 - accuracy: 1.0000 - val_loss: 0.0126 - val_accuracy: 0.9964\n",
      "Epoch 11/20\n",
      "33673/33673 [==============================] - 1s 29us/step - loss: 4.8241e-04 - accuracy: 1.0000 - val_loss: 0.0127 - val_accuracy: 0.9964\n",
      "Epoch 12/20\n",
      "33673/33673 [==============================] - 1s 30us/step - loss: 4.4379e-04 - accuracy: 1.0000 - val_loss: 0.0126 - val_accuracy: 0.9965\n",
      "Epoch 13/20\n",
      "33673/33673 [==============================] - 1s 30us/step - loss: 4.0443e-04 - accuracy: 1.0000 - val_loss: 0.0124 - val_accuracy: 0.9967\n",
      "Epoch 14/20\n",
      "33673/33673 [==============================] - 1s 29us/step - loss: 3.8070e-04 - accuracy: 1.0000 - val_loss: 0.0124 - val_accuracy: 0.9968\n",
      "Epoch 15/20\n",
      "33673/33673 [==============================] - 1s 29us/step - loss: 3.3557e-04 - accuracy: 1.0000 - val_loss: 0.0129 - val_accuracy: 0.9966\n",
      "Epoch 16/20\n",
      "33673/33673 [==============================] - 1s 29us/step - loss: 3.5347e-04 - accuracy: 1.0000 - val_loss: 0.0125 - val_accuracy: 0.9968\n",
      "Epoch 17/20\n",
      "33673/33673 [==============================] - 1s 29us/step - loss: 3.4727e-04 - accuracy: 1.0000 - val_loss: 0.0128 - val_accuracy: 0.9966\n",
      "Epoch 18/20\n",
      "33673/33673 [==============================] - 1s 28us/step - loss: 3.3604e-04 - accuracy: 1.0000 - val_loss: 0.0127 - val_accuracy: 0.9968\n",
      "Epoch 19/20\n",
      "33673/33673 [==============================] - 1s 29us/step - loss: 3.2555e-04 - accuracy: 1.0000 - val_loss: 0.0131 - val_accuracy: 0.9967\n",
      "Epoch 20/20\n",
      "33673/33673 [==============================] - 1s 29us/step - loss: 3.1902e-04 - accuracy: 1.0000 - val_loss: 0.0130 - val_accuracy: 0.9968\n"
     ]
    }
   ],
   "source": [
    "progress = model.fit(x_train, y_train, batch_size=batch_size, epochs=nb_epochs, validation_data=(x_test, y_test))"
   ]
  },
  {
   "cell_type": "code",
   "execution_count": 20,
   "metadata": {},
   "outputs": [],
   "source": [
    "model.save(\"detectorText.h5\")"
   ]
  },
  {
   "cell_type": "code",
   "execution_count": 21,
   "metadata": {},
   "outputs": [],
   "source": [
    "# art plastique du turfu featuring le poto matplotlib\n",
    "from matplotlib import pyplot as plt"
   ]
  },
  {
   "cell_type": "code",
   "execution_count": 22,
   "metadata": {},
   "outputs": [
    {
     "data": {
      "image/png": "[encoded data removed]",
      "text/plain": [
       "<Figure size 1440x720 with 2 Axes>"
      ]
     },
     "metadata": {
      "needs_background": "light"
     },
     "output_type": "display_data"
    }
   ],
   "source": [
    "figure, ax = plt.subplots(1, 2)\n",
    "figure.set_size_inches(20,10)\n",
    "\n",
    "ax[0].plot(progress.history[\"loss\"])\n",
    "\n",
    "ax[1].plot(progress.history[\"accuracy\"])\n",
    "\n",
    "plt.show()"
   ]
  },
  {
   "cell_type": "code",
   "execution_count": 23,
   "metadata": {},
   "outputs": [],
   "source": [
    "to_predict = dataframe.sample(5)"
   ]
  },
  {
   "cell_type": "code",
   "execution_count": 25,
   "metadata": {},
   "outputs": [
    {
     "data": {
      "text/plain": [
       "450      A Michigan woman decided defend tyranny anothe...\n",
       "6344     On Sunday President Barack Obama gave amazing ...\n",
       "12350    LONDON Reuters Britain urgently needs standsti...\n",
       "3448     NEW YORKWASHINGTON Reuters US President Donald...\n",
       "22345    RTThe father Cuban Revolution remains unbeaten...\n",
       "Name: text, dtype: object"
      ]
     },
     "execution_count": 25,
     "metadata": {},
     "output_type": "execute_result"
    }
   ],
   "source": [
    "X_test = to_predict[\"text\"]\n",
    "X_test"
   ]
  },
  {
   "cell_type": "code",
   "execution_count": 26,
   "metadata": {},
   "outputs": [
    {
     "data": {
      "text/plain": [
       "450      0\n",
       "6344     0\n",
       "12350    1\n",
       "3448     1\n",
       "22345    0\n",
       "Name: label, dtype: int64"
      ]
     },
     "execution_count": 26,
     "metadata": {},
     "output_type": "execute_result"
    }
   ],
   "source": [
    "Y_test = to_predict[\"label\"]\n",
    "Y_test"
   ]
  },
  {
   "cell_type": "code",
   "execution_count": 27,
   "metadata": {},
   "outputs": [
    {
     "data": {
      "text/plain": [
       "array([   0,    0,    0,    0,    0,    0,    0,    0,   21,  764,  217,\n",
       "        339, 1077, 7657,  108, 1032,  250, 1719,   40,  676, 1214, 1325,\n",
       "       6812,  997, 6812, 1330,   34, 6987, 1091, 6492])"
      ]
     },
     "execution_count": 27,
     "metadata": {},
     "output_type": "execute_result"
    }
   ],
   "source": [
    "X_test = tokenizer.texts_to_sequences(X_test)\n",
    "X_test = pad_sequences(X_test, maxlen=maxlen)\n",
    "X_test[0]"
   ]
  },
  {
   "cell_type": "code",
   "execution_count": 28,
   "metadata": {},
   "outputs": [
    {
     "data": {
      "text/plain": [
       "array([[2.7591346e-08],\n",
       "       [4.6096313e-09],\n",
       "       [9.9999774e-01],\n",
       "       [1.0000000e+00],\n",
       "       [1.1502953e-04]], dtype=float32)"
      ]
     },
     "execution_count": 28,
     "metadata": {},
     "output_type": "execute_result"
    }
   ],
   "source": [
    "model.predict(X_test)"
   ]
  },
  {
   "cell_type": "code",
   "execution_count": 29,
   "metadata": {},
   "outputs": [
    {
     "data": {
      "text/plain": [
       "array([[   0,    0,    0,    0,    0,    0,    0,    0,   21,  764,  217,\n",
       "         339, 1077, 7657,  108, 1032,  250, 1719,   40,  676, 1214, 1325,\n",
       "        6812,  997, 6812, 1330,   34, 6987, 1091, 6492],\n",
       "       [   0,    0,    0,    0,    0,  168,   60,    7,   79,   13,  447,\n",
       "        2170,  164,  507, 6746,  180, 5675,   17,   13,  287, 2015, 3477,\n",
       "        1033,   10,  102, 1571, 1374, 1305, 1494,   13],\n",
       "       [   0,    0,    0,    0,  128,    1,  216, 9107,  685,  121,  320,\n",
       "         454,  116,  139, 6539,  802, 1987,  658,  276, 3137, 8424,  430,\n",
       "         861,   83,  201,    5,   21,  802,  401, 2190],\n",
       "       [   0,    9, 4044,    1,    4,    7,    6,    2,    5,   18, 5648,\n",
       "          48,  359,  458, 2379,   12, 9591,  441,  291,  882,   74,  722,\n",
       "          77,   74,  551, 1888, 4938,  942,  184, 4375],\n",
       "       [   0,    0,    0,    0,    0,    0,    0,    0,    0,    0,  845,\n",
       "        1868, 6223, 1798, 5374,   70,  411,   81,  520, 3997, 3233, 8777,\n",
       "        4207,  123, 2224, 8092,  141, 9790, 3233, 1660]])"
      ]
     },
     "execution_count": 29,
     "metadata": {},
     "output_type": "execute_result"
    }
   ],
   "source": [
    "X_test"
   ]
  },
  {
   "cell_type": "code",
   "execution_count": null,
   "metadata": {},
   "outputs": [],
   "source": []
  }
 ],
 "metadata": {
  "kernelspec": {
   "display_name": "Python 3",
   "language": "python",
   "name": "python3"
  },
  "language_info": {
   "codemirror_mode": {
    "name": "ipython",
    "version": 3
   },
   "file_extension": ".py",
   "mimetype": "text/x-python",
   "name": "python",
   "nbconvert_exporter": "python",
   "pygments_lexer": "ipython3",
   "version": "3.7.7"
  }
 },
 "nbformat": 4,
 "nbformat_minor": 4
}
